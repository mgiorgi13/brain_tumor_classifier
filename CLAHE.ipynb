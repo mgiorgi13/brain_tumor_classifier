{
  "cells": [
    {
      "attachments": {},
      "cell_type": "markdown",
      "metadata": {
        "colab_type": "text",
        "id": "view-in-github"
      },
      "source": [
        "<a href=\"https://colab.research.google.com/github/mgiorgi13/brain_tumor_classifier/blob/mattia/CLAHE.ipynb\" target=\"_parent\"><img src=\"https://colab.research.google.com/assets/colab-badge.svg\" alt=\"Open In Colab\"/></a>"
      ]
    },
    {
      "attachments": {},
      "cell_type": "markdown",
      "metadata": {
        "id": "CJ3UJQAcAkz2"
      },
      "source": [
        "# **CLAHE experiments**  RIVEDERE !!!\n",
        "\n",
        "In this Jupyter Notebook, we will use the CLAHE (Contrast Limited Adaptive Histogram Equalization) method to improve the contrast and quality of images. CLAHE is a histogram equalization technique that dynamically adapts the image contrast based on the local pixel distribution.\n",
        "\n",
        "Our goal is to enhance the visibility and details of images in our medical image dataset, which includes different categories such as glioma_tumor, meningioma_tumor, no_tumor, and pituitary_tumor. We will utilize the OpenCV library to apply the CLAHE transformation to grayscale images.\n",
        "\n",
        "The process involves creating a new folder named \"clahe\" in our dataset path. Within this folder, copies of the original images from their respective subfolders will be created, and the CLAHE transformation will be applied to these copies. The end result will be an improved version of the images with enhanced contrast and clearer details.\n",
        "\n",
        "We will use the \"apply_clahe\" function to apply CLAHE to grayscale images. Subsequently, we will iterate through the different categories of images in the dataset (glioma_tumor, meningioma_tumor, no_tumor, and pituitary_tumor) and apply CLAHE to each image. The results will be saved in the \"clahe\" folder while maintaining the same subfolder structure as the original dataset.\n",
        "\n",
        "The ultimate objective is to obtain enhanced images with optimized contrast, which can be used for training deep learning algorithms or for further analysis and research in the field of medical imaging.\n"
      ]
    },
    {
      "attachments": {},
      "cell_type": "markdown",
      "metadata": {
        "id": "jxvtgzHcAkz8"
      },
      "source": [
        "# **Importing Libraries**\n",
        "\n",
        "In this paragraph, we have imported the necessary libraries to create the CNN. TensorFlow and Keras are the main frameworks that we will use to create the convolutional neural network. Additionally, we have imported other useful libraries such as OpenCV (cv2) for image preprocessing, PIL for image manipulation, and Matplotlib for image visualization."
      ]
    },
    {
      "cell_type": "code",
      "execution_count": 16,
      "metadata": {
        "id": "lMkWxBh2Akz9"
      },
      "outputs": [],
      "source": [
        "import pickle\n",
        "from keras.models import load_model\n",
        "import tensorflow as tf\n",
        "from tqdm import tqdm\n",
        "from tensorflow import keras\n",
        "from sklearn.model_selection import train_test_split\n",
        "from tensorflow.keras.models import Model, Sequential\n",
        "from tensorflow.keras.layers import Conv2D, MaxPooling2D, AveragePooling2D, GlobalAveragePooling2D\n",
        "from tensorflow.keras.layers import Input, Dense, Dropout, Flatten, Activation,Concatenate, BatchNormalization\n",
        "import os\n",
        "import glob\n",
        "import shutil\n",
        "from sklearn.utils import shuffle\n",
        "import zipfile\n",
        "import cv2\n",
        "import imutils\n",
        "import random as rn\n",
        "from sklearn.preprocessing import LabelBinarizer\n",
        "from google.colab.patches import cv2_imshow\n",
        "from tensorflow.keras import layers\n",
        "from tensorflow.keras import optimizers\n",
        "from tensorflow.keras.utils import image_dataset_from_directory\n",
        "from PIL import Image\n",
        "from matplotlib.pyplot import imshow\n",
        "from tensorflow.keras.preprocessing.image import ImageDataGenerator\n",
        "import numpy as np\n",
        "import random\n",
        "import math\n",
        "import matplotlib.pyplot as plt\n",
        "from keras.callbacks import ReduceLROnPlateau, ModelCheckpoint\n",
        "from keras.models import Sequential\n",
        "from keras.layers import Conv2D, MaxPooling2D, Flatten, Dense, Dropout\n",
        "from tensorflow.keras.preprocessing.image import ImageDataGenerator\n",
        "from PIL import Image\n",
        "from sklearn import metrics"
      ]
    },
    {
      "attachments": {},
      "cell_type": "markdown",
      "metadata": {
        "id": "m4jD0V6mAk0A"
      },
      "source": [
        "# **Google Drive connection**\n",
        "\n",
        "Necessary to run the classifier"
      ]
    },
    {
      "cell_type": "code",
      "execution_count": null,
      "metadata": {
        "colab": {
          "base_uri": "https://localhost:8080/"
        },
        "id": "sxyh7NcKAk0A",
        "outputId": "9bf5363e-eac7-44d0-d0ec-1bb4c084b70d"
      },
      "outputs": [
        {
          "name": "stdout",
          "output_type": "stream",
          "text": [
            "Mounted at /content/drive\n"
          ]
        }
      ],
      "source": [
        "# mount drive \n",
        "from google.colab import drive\n",
        "drive.mount('/content/drive', force_remount=True)"
      ]
    },
    {
      "attachments": {},
      "cell_type": "markdown",
      "metadata": {
        "id": "gGEP9Vg4Ak0H"
      },
      "source": [
        "# **CLAHE preprocessing**\n",
        "\n",
        "Skip if it has already been done"
      ]
    },
    {
      "cell_type": "code",
      "execution_count": null,
      "metadata": {
        "id": "mel-oCkNAk0K"
      },
      "outputs": [],
      "source": [
        "# Funzione per applicare la trasformazione CLAHE a un'immagine\n",
        "def apply_clahe(image_path, output_path):\n",
        "    image = cv2.imread(image_path, 0)  # Carica l'immagine in scala di grigi\n",
        "    clahe = cv2.createCLAHE(clipLimit=2.0, tileGridSize=(8, 8))  # Crea l'oggetto CLAHE\n",
        "    clahe_image = clahe.apply(image)  # Applica la trasformazione CLAHE all'immagine\n",
        "    cv2.imwrite(output_path, clahe_image)  # Salva l'immagine trasformata"
      ]
    },
    {
      "attachments": {},
      "cell_type": "markdown",
      "metadata": {
        "id": "W6DEpZHJIEKF"
      },
      "source": [
        "## Training set clahe preprocessing"
      ]
    },
    {
      "cell_type": "code",
      "execution_count": null,
      "metadata": {
        "id": "82dgTx5sAk0I"
      },
      "outputs": [],
      "source": [
        "dataset_path = \"/content/drive/MyDrive/BrainTumorDataset/\"\n",
        "\n",
        "glioma_tumor_path = os.path.join(dataset_path, 'Preprocessed/Train/glioma_tumor/')\n",
        "meningioma_tumor_path = os.path.join(dataset_path, 'Preprocessed/Train/meningioma_tumor/')\n",
        "no_tumor_path = os.path.join(dataset_path, 'Preprocessed/Train/no_tumor/')\n",
        "pituitary_tumor_path = os.path.join(dataset_path, 'Preprocessed/Train/pituitary_tumor/')\n",
        "\n",
        "glioma_tumor_entries = os.listdir(glioma_tumor_path)\n",
        "meningioma_entries = os.listdir(meningioma_tumor_path)\n",
        "no_tumor_entries = os.listdir(no_tumor_path)\n",
        "pituitary_tumor_entries = os.listdir(pituitary_tumor_path)\n",
        "\n",
        "output_path = os.path.join(dataset_path, 'Preprocessed/CLAHE/')\n",
        "os.makedirs(output_path, exist_ok=True)"
      ]
    },
    {
      "cell_type": "code",
      "execution_count": null,
      "metadata": {
        "id": "N49kC6YfAk0L"
      },
      "outputs": [],
      "source": [
        "# Elabora le immagini nella cartella glioma_tumor\n",
        "for entry in glioma_tumor_entries:\n",
        "    image_path = os.path.join(glioma_tumor_path, entry)\n",
        "    output_subfolder = os.path.join(output_path, 'Train/glioma_tumor/')\n",
        "    os.makedirs(output_subfolder, exist_ok=True)\n",
        "    output_image_path = os.path.join(output_subfolder, entry)\n",
        "    apply_clahe(image_path, output_image_path)\n",
        "\n",
        "# Elabora le immagini nella cartella meningioma_tumor\n",
        "for entry in meningioma_entries:\n",
        "    image_path = os.path.join(meningioma_tumor_path, entry)\n",
        "    output_subfolder = os.path.join(output_path, 'Train/meningioma_tumor/')\n",
        "    os.makedirs(output_subfolder, exist_ok=True)\n",
        "    output_image_path = os.path.join(output_subfolder, entry)\n",
        "    apply_clahe(image_path, output_image_path)\n",
        "\n",
        "# Elabora le immagini nella cartella no_tumor\n",
        "for entry in no_tumor_entries:\n",
        "    image_path = os.path.join(no_tumor_path, entry)\n",
        "    output_subfolder = os.path.join(output_path, 'Train/no_tumor/')\n",
        "    os.makedirs(output_subfolder, exist_ok=True)\n",
        "    output_image_path = os.path.join(output_subfolder, entry)\n",
        "    apply_clahe(image_path, output_image_path)\n",
        "\n",
        "# Elabora le immagini nella cartella pituitary_tumor\n",
        "for entry in pituitary_tumor_entries:\n",
        "    image_path = os.path.join(pituitary_tumor_path, entry)\n",
        "    output_subfolder = os.path.join(output_path, 'Train/pituitary_tumor/')\n",
        "    os.makedirs(output_subfolder, exist_ok=True)\n",
        "    output_image_path = os.path.join(output_subfolder, entry)\n",
        "    apply_clahe(image_path, output_image_path)\n"
      ]
    },
    {
      "attachments": {},
      "cell_type": "markdown",
      "metadata": {
        "id": "iNEpIffhILLC"
      },
      "source": [
        "## Validation set clahe preprocessing"
      ]
    },
    {
      "cell_type": "code",
      "execution_count": null,
      "metadata": {
        "id": "l95682wcIL8H"
      },
      "outputs": [],
      "source": [
        "dataset_path = \"/content/drive/MyDrive/BrainTumorDataset/\"\n",
        "\n",
        "glioma_tumor_path = os.path.join(dataset_path, 'Preprocessed/Validation/glioma_tumor/')\n",
        "meningioma_tumor_path = os.path.join(dataset_path, 'Preprocessed/Validation/meningioma_tumor/')\n",
        "no_tumor_path = os.path.join(dataset_path, 'Preprocessed/Validation/no_tumor/')\n",
        "pituitary_tumor_path = os.path.join(dataset_path, 'Preprocessed/Validation/pituitary_tumor/')\n",
        "\n",
        "glioma_tumor_entries = os.listdir(glioma_tumor_path)\n",
        "meningioma_entries = os.listdir(meningioma_tumor_path)\n",
        "no_tumor_entries = os.listdir(no_tumor_path)\n",
        "pituitary_tumor_entries = os.listdir(pituitary_tumor_path)\n",
        "\n",
        "output_path = os.path.join(dataset_path, 'Preprocessed/CLAHE/')\n",
        "os.makedirs(output_path, exist_ok=True)"
      ]
    },
    {
      "cell_type": "code",
      "execution_count": null,
      "metadata": {
        "colab": {
          "base_uri": "https://localhost:8080/"
        },
        "id": "pLo8OeF0IPBM",
        "outputId": "9997afa5-75d6-4926-c5b0-5186253da5c7"
      },
      "outputs": [
        {
          "name": "stderr",
          "output_type": "stream",
          "text": [
            "100%|██████████| 185/185 [00:04<00:00, 40.70it/s]\n",
            "100%|██████████| 187/187 [00:48<00:00,  3.83it/s]\n",
            "100%|██████████| 100/100 [00:27<00:00,  3.65it/s]\n",
            "100%|██████████| 180/180 [00:47<00:00,  3.81it/s]\n"
          ]
        }
      ],
      "source": [
        "# Elabora le immagini nella cartella glioma_tumor\n",
        "for entry in tqdm(glioma_tumor_entries):\n",
        "    image_path = os.path.join(glioma_tumor_path, entry)\n",
        "    output_subfolder = os.path.join(output_path, 'Validation/glioma_tumor/')\n",
        "    os.makedirs(output_subfolder, exist_ok=True)\n",
        "    output_image_path = os.path.join(output_subfolder, entry)\n",
        "    apply_clahe(image_path, output_image_path)\n",
        "\n",
        "# Elabora le immagini nella cartella meningioma_tumor\n",
        "for entry in tqdm(meningioma_entries):\n",
        "    image_path = os.path.join(meningioma_tumor_path, entry)\n",
        "    output_subfolder = os.path.join(output_path, 'Validation/meningioma_tumor/')\n",
        "    os.makedirs(output_subfolder, exist_ok=True)\n",
        "    output_image_path = os.path.join(output_subfolder, entry)\n",
        "    apply_clahe(image_path, output_image_path)\n",
        "\n",
        "# Elabora le immagini nella cartella no_tumor\n",
        "for entry in tqdm(no_tumor_entries):\n",
        "    image_path = os.path.join(no_tumor_path, entry)\n",
        "    output_subfolder = os.path.join(output_path, 'Validation/no_tumor/')\n",
        "    os.makedirs(output_subfolder, exist_ok=True)\n",
        "    output_image_path = os.path.join(output_subfolder, entry)\n",
        "    apply_clahe(image_path, output_image_path)\n",
        "\n",
        "# Elabora le immagini nella cartella pituitary_tumor\n",
        "for entry in tqdm(pituitary_tumor_entries):\n",
        "    image_path = os.path.join(pituitary_tumor_path, entry)\n",
        "    output_subfolder = os.path.join(output_path, 'Validation/pituitary_tumor/')\n",
        "    os.makedirs(output_subfolder, exist_ok=True)\n",
        "    output_image_path = os.path.join(output_subfolder, entry)\n",
        "    apply_clahe(image_path, output_image_path)\n"
      ]
    },
    {
      "attachments": {},
      "cell_type": "markdown",
      "metadata": {
        "id": "sGOGm5REAk0B"
      },
      "source": [
        "# **Utilities**"
      ]
    },
    {
      "cell_type": "code",
      "execution_count": 17,
      "metadata": {
        "colab": {
          "base_uri": "https://localhost:8080/"
        },
        "id": "vZyWFcSiAk0B",
        "outputId": "62507c7e-4386-4f5e-d280-be76d34933fa"
      },
      "outputs": [
        {
          "name": "stdout",
          "output_type": "stream",
          "text": [
            "Found 4520 images belonging to 4 classes.\n",
            "Found 652 images belonging to 4 classes.\n",
            "Found 652 images belonging to 4 classes.\n"
          ]
        }
      ],
      "source": [
        "import matplotlib.pyplot as plt\n",
        "import numpy as np\n",
        "import os\n",
        "\n",
        "from tensorflow.keras import backend as K\n",
        "from itertools import cycle\n",
        "from sklearn.metrics import confusion_matrix, ConfusionMatrixDisplay, roc_curve, auc, roc_auc_score\n",
        "\n",
        "dataset_path = \"/content/drive/MyDrive/BrainTumorDataset\"\n",
        "\n",
        "# Percorso della cartella \"unified\" che contiene le sottocartelle delle classi\n",
        "base_path = \"/content/drive/MyDrive/BrainTumorDataset/Preprocessed/Unified\"\n",
        "\n",
        "# Definisci i percorsi per il set di test, di validazione e di addestramento\n",
        "test_path = \"/content/drive/MyDrive/BrainTumorDataset/Preprocessed/Test\"\n",
        "val_path = \"/content/drive/MyDrive/BrainTumorDataset/Preprocessed/CLAHE/Validation\"\n",
        "train_path = \"/content/drive/MyDrive/BrainTumorDataset/Preprocessed/CLAHE/Train\"\n",
        "\n",
        "models_path = \"/content/drive/MyDrive/BrainTumorDataset/Models/CLAHE\"\n",
        "cnn_results_path = os.path.join(models_path, 'CNN')\n",
        "vgg16_results_path = os.path.join(models_path, 'VGG16')\n",
        "resnet50_results_path = os.path.join(models_path, 'ResNet50')\n",
        "inceptionv3_results_path = os.path.join(models_path, 'InceptionV3')\n",
        "# actual_results_path = vgg16_results_path\n",
        "\n",
        "def set_seed ():\n",
        "\t''' \n",
        "\tset_seed is used to obtain reproducible results using keras during the development phase\n",
        "\t'''\n",
        "\tseed = 10\n",
        "\t# The below is necessary for reproducible results of certain Python hash-based operations.\n",
        "\tos.environ[\"PYTHONHASHSEED\"]=\"0\"\n",
        "\t# The below is necessary for starting Numpy generated random numbers in a well-defined initial state.\n",
        "\tnp.random.seed(seed)\n",
        "\t# The below is necessary for starting core Python generated random numbers in a well-defined state.\n",
        "\trn.seed(seed)\n",
        "\t# The below tf.random.set_seed will make x number generation in TensorFlow have a well-defined initial state.\n",
        "\ttf.random.set_seed(seed)     \n",
        "\n",
        "# Definisci le dimensioni delle immagini\n",
        "image_size = 224\n",
        "batch_size = 32\n",
        "\n",
        "# Crea un oggetto ImageDataGenerator per il preprocessing delle immagini\n",
        "data_generator = ImageDataGenerator(rescale=1.0/255.0)\n",
        "\n",
        "# Carica le immagini dal set di addestramento\n",
        "train_generator = data_generator.flow_from_directory(\n",
        "    train_path,\n",
        "    target_size=(image_size, image_size),\n",
        "    batch_size=batch_size,\n",
        "    class_mode='categorical'\n",
        ")\n",
        "\n",
        "# Carica le immagini dal set di test\n",
        "test_generator = data_generator.flow_from_directory(\n",
        "    test_path,\n",
        "    target_size=(image_size, image_size),\n",
        "    batch_size=batch_size,\n",
        "    class_mode='categorical',\n",
        "    shuffle=False\n",
        ")\n",
        "\n",
        "# Carica le immagini dal set di validazione\n",
        "val_generator = data_generator.flow_from_directory(\n",
        "    val_path,\n",
        "    target_size=(image_size, image_size),\n",
        "    batch_size=batch_size,\n",
        "    class_mode='categorical'\n",
        ")\n",
        "     \n",
        "\n",
        "def show_training_and_validation_performance(history,path):\n",
        "\t'''\n",
        "\tshow_training_and_validation_performance is used to plot the performances during the training phase\n",
        "\t:param history: object in which are recorded all the events\n",
        "\t'''\n",
        "\tacc = history.history['accuracy']\n",
        "\tval_acc = history.history['val_accuracy']\n",
        "\tloss = history.history['loss']\n",
        "\tval_loss = history.history['val_loss']\n",
        "\n",
        "\tepochs = range(len(acc))\n",
        "\n",
        "\tplt.plot(epochs, acc, 'bo', label='Training accuracy')\n",
        "\tplt.plot(epochs, val_acc, 'b', label='Validation accuracy')\n",
        "\tplt.title('Training and validation accuracy')\n",
        "\tplt.legend()\n",
        "\n",
        "\tplt.figure()\n",
        "\n",
        "\tplt.plot(epochs, loss, 'bo', label='Training loss')\n",
        "\tplt.plot(epochs, val_loss, 'b', label='Validation loss')\n",
        "\tplt.title('Training and validation loss')\n",
        "\tplt.legend()\n",
        "\n",
        "\tplt.savefig(path)\n",
        "\n",
        "\tplt.show()\n",
        "\n",
        "def compile_model (model, optimizer='adam', learning_rate = 0.001):\n",
        "\t'''\n",
        "\tcompile_model is used to compile the current model\n",
        "\t:param model: model to compile\n",
        "\t:param optimizer: optimizer to be used\n",
        "\t:param learning_rate: learning rate parameter for the optimizer\n",
        "\t'''\n",
        "\tif optimizer == 'adam':\n",
        "\t\tmodel.compile(loss=\"categorical_crossentropy\",\n",
        "\t\toptimizer=optimizers.Adam(learning_rate=learning_rate),\n",
        "\t\tmetrics=[\"accuracy\"])\n",
        "\telif optimizer == 'rmsprop':\n",
        "\t\tmodel.compile(loss=\"categorical_crossentropy\",\n",
        "\t\t\t\t\toptimizer = optimizers.RMSprop(learning_rate=learning_rate),\n",
        "\t\t\t\t\tmetrics=['accuracy'])\n",
        "\tmodel.summary()\n",
        "\n",
        "def run_model (model, type, model_name, epochs = 100, patience=5, monitor='val_loss'):\n",
        "\t'''\n",
        "\trun_model is used to run the current mode\n",
        "\t:param model: model to run\n",
        "\t:param model_name: name given to save the model\n",
        "\t:param type: type of model, CNN, VGG16, ResNet50, InceptionV3\n",
        "\t:param epochs: how many epochs to do\n",
        "\t:param patience: patience value for Early Stopping\n",
        "\t:param monitor: what to monitor for Early Stopping and Model Checkpoint\n",
        "\t'''\n",
        "\t# local save path for the models\n",
        "\tsave_path = os.path.join(models_path, type + '/' + model_name + '.h5') \n",
        "\tcallbacks_list = [\n",
        "\t\t\t\t\tkeras.callbacks.EarlyStopping(monitor=monitor, patience=patience),\n",
        "\t\t\t\t\tkeras.callbacks.ModelCheckpoint(\n",
        "\t\t\t\t\t\tfilepath = save_path,\n",
        "\t\t\t\t\t\tmonitor=monitor,\n",
        "\t\t\t\t\t\tverbose=1,\n",
        "\t\t\t\t\t\tsave_best_only=True)\n",
        "\t\t\t\t\t]\n",
        "\thistory = model.fit(train_generator,\n",
        "\t\t\t\t\t\tepochs=epochs,\n",
        "\t\t\t\t\t\tvalidation_data=val_generator,\n",
        "\t\t\t\t\t\tcallbacks=callbacks_list)\n",
        "\t# save on Drive only the best model\n",
        "\tshow_training_and_validation_performance(history,os.path.join(models_path, type + '/' + model_name + '_validation.png'))\n",
        "\n",
        "def plot_roc_curve(y_true, y_pred, n_classes, class_labels, model_name, type):\n",
        "\n",
        "    # Converti le etichette di classe in formato binario\n",
        "    lb = LabelBinarizer()\n",
        "    y_true_binary = lb.fit_transform(y_true)\n",
        "\n",
        "    # Calcola i tassi di FPR e TPR per ogni classe\n",
        "    fpr = dict()\n",
        "    tpr = dict()\n",
        "    roc_auc = dict()\n",
        "\n",
        "    for i in range(n_classes):\n",
        "        fpr[i], tpr[i], _ = metrics.roc_curve(y_true_binary[:, i], y_pred[:, i])\n",
        "        roc_auc[i] = metrics.auc(fpr[i], tpr[i])\n",
        "\n",
        "    plt.figure()\n",
        "    colors = ['blue', 'red', 'green', 'orange']  # Colori per le diverse classi\n",
        "\n",
        "    for i, color in zip(range(n_classes), colors):\n",
        "        plt.plot(fpr[i], tpr[i], color=color, label='ROC curve {0} ({1:0.2f}%)'.format(class_labels[i], roc_auc[i]*100))\n",
        "\n",
        "    plt.plot([0, 1], [0, 1], color='navy', linestyle='--')\n",
        "    plt.xlim([0.0, 1.0])\n",
        "    plt.ylim([0.0, 1.0])\n",
        "    plt.xlabel('False Positive Rate')\n",
        "    plt.ylabel('True Positive Rate')\n",
        "    plt.title('ROC curve')\n",
        "    plt.legend(loc=\"lower right\")\n",
        "    plt.savefig(os.path.join(models_path, type + '/' + model_name + '_ROC.png'))\n",
        "    plt.show()\n",
        "\n",
        "def evaluate_model (model, test_generator, model_name, type):\n",
        "\t'''\n",
        "\tevaluate_model is used to plot some statistics about the performance on the test set\n",
        "\t:param model: model to consider\n",
        "\t'''\n",
        "\tlabels_d= ['glioma_tumor', 'meningioma_tumor', 'no_tumor', 'pituitary_tumor']\n",
        "\n",
        "\t# get predictions\n",
        "\ty_score = model.predict(test_generator)\n",
        "\t# convert predictions to classes\n",
        "\ty_pred = np.argmax(y_score, axis=-1)\n",
        "\t# get true classes\n",
        "\ty_true = test_generator.classes\n",
        "\t# extract class labels\n",
        "\tclass_labels = list(test_generator.class_indices.keys())\n",
        "\t\n",
        "\tprint(\"Classification report: \")\n",
        "\t# create and show classification report\n",
        "\tprint(metrics.classification_report(y_true, y_pred, target_names=class_labels,digits = 4))\n",
        "\t# save classification report\n",
        "\twith open(os.path.join(models_path, type + '/' + model_name + '_classification_report.txt'), 'w') as f:\n",
        "\t\tf.write(metrics.classification_report(y_true, y_pred, target_names=class_labels,digits = 4))\n",
        "\n",
        "\t# create and show confusion matrix\t\n",
        "\tcm = confusion_matrix(y_true, y_pred)\t\n",
        "\tdisp = ConfusionMatrixDisplay(confusion_matrix=cm, display_labels=class_labels)\n",
        "\tdisp.plot(xticks_rotation=45)\n",
        "\t\n",
        "\t# save confusion matrix\n",
        "\tplt.savefig(os.path.join(models_path, type, model_name + '_confusion_matrix.png'), bbox_inches='tight', pad_inches=0.1)\n",
        "\tplt.show()\n",
        "\n",
        "\tplot_roc_curve(y_true, y_score, 4, class_labels, model_name, type)\n",
        "\n",
        "def get_index_by_layer_name(model, layer_name):\n",
        "  '''\n",
        "  get_index_by_layer_name is used to retrieve the index of a specific layer\n",
        "  :param model: model to check\n",
        "  :param layer_name: name of the layer we want to get the index of\n",
        "  :return: the index of the layer named as defined in layer_name\n",
        "  '''\n",
        "  for index, layer in enumerate(model.layers):\n",
        "      if layer.name == layer_name:\n",
        "          return index \n",
        "\n",
        "def clear(model):\n",
        "\tdel model\n",
        "\tK.clear_session() \n",
        "\n",
        "set_seed ()"
      ]
    },
    {
      "attachments": {},
      "cell_type": "markdown",
      "metadata": {
        "id": "oSlYdUMQAk0F"
      },
      "source": [
        "Se il modello riesce ad apprendere correttamente, si dovrebbe osservare un andamento decrescente della loss e un andamento crescente dell'accuracy nel training set. Tuttavia, se la rete ha una capacità eccessiva rispetto al problema da risolvere, può incorrere in overfitting: in tal caso si ha un abbassamento della loss e un aumento dell'accuracy sul training set, ma un peggioramento delle performance sulla validation set (ovvero un aumento della validation loss e un abbassamento della validation accuracy)."
      ]
    },
    {
      "attachments": {},
      "cell_type": "markdown",
      "metadata": {
        "id": "i-rNnggmJFXz"
      },
      "source": [
        "# **CNN from scratch with clahe preprocessing**"
      ]
    },
    {
      "attachments": {},
      "cell_type": "markdown",
      "metadata": {
        "id": "XJalkXRHVjWV"
      },
      "source": [
        "## Exp 1\n",
        "\n",
        "First CNN model with **one convolutional layer** and **one max pooling layer** at the biginning.\n",
        "\n",
        "Than **one flatten layer** and **one dense layer** with 4 units (one for each class) and softmax activation function."
      ]
    },
    {
      "cell_type": "code",
      "execution_count": 18,
      "metadata": {
        "colab": {
          "base_uri": "https://localhost:8080/",
          "height": 1000
        },
        "id": "ITbZXXbSVafh",
        "outputId": "62af00c0-9feb-4831-e110-edc3983e500d"
      },
      "outputs": [
        {
          "name": "stdout",
          "output_type": "stream",
          "text": [
            "Model: \"sequential_2\"\n",
            "_________________________________________________________________\n",
            " Layer (type)                Output Shape              Param #   \n",
            "=================================================================\n",
            " conv2d_1 (Conv2D)           (None, 250, 250, 32)      896       \n",
            "                                                                 \n",
            " max_pooling2d_1 (MaxPooling  (None, 125, 125, 32)     0         \n",
            " 2D)                                                             \n",
            "                                                                 \n",
            " flatten_1 (Flatten)         (None, 500000)            0         \n",
            "                                                                 \n",
            " dense_1 (Dense)             (None, 4)                 2000004   \n",
            "                                                                 \n",
            "=================================================================\n",
            "Total params: 2,000,900\n",
            "Trainable params: 2,000,900\n",
            "Non-trainable params: 0\n",
            "_________________________________________________________________\n",
            "Epoch 1/100\n",
            "142/142 [==============================] - ETA: 0s - loss: 1.1549 - accuracy: 0.6471\n",
            "Epoch 1: val_loss improved from inf to 0.54529, saving model to /content/drive/MyDrive/BrainTumorDataset/cnn_from_scratch_clahe_exp1.h5\n",
            "142/142 [==============================] - 27s 178ms/step - loss: 1.1549 - accuracy: 0.6471 - val_loss: 0.5453 - val_accuracy: 0.7899\n",
            "Epoch 2/100\n",
            "142/142 [==============================] - ETA: 0s - loss: 0.2064 - accuracy: 0.9376\n",
            "Epoch 2: val_loss improved from 0.54529 to 0.50005, saving model to /content/drive/MyDrive/BrainTumorDataset/cnn_from_scratch_clahe_exp1.h5\n",
            "142/142 [==============================] - 24s 171ms/step - loss: 0.2064 - accuracy: 0.9376 - val_loss: 0.5001 - val_accuracy: 0.8482\n",
            "Epoch 3/100\n",
            "142/142 [==============================] - ETA: 0s - loss: 0.0393 - accuracy: 0.9934\n",
            "Epoch 3: val_loss did not improve from 0.50005\n",
            "142/142 [==============================] - 24s 169ms/step - loss: 0.0393 - accuracy: 0.9934 - val_loss: 0.5890 - val_accuracy: 0.8543\n",
            "Epoch 4/100\n",
            "142/142 [==============================] - ETA: 0s - loss: 0.0113 - accuracy: 0.9993\n",
            "Epoch 4: val_loss did not improve from 0.50005\n",
            "142/142 [==============================] - 26s 186ms/step - loss: 0.0113 - accuracy: 0.9993 - val_loss: 0.6125 - val_accuracy: 0.8604\n",
            "Epoch 5/100\n",
            "142/142 [==============================] - ETA: 0s - loss: 0.0068 - accuracy: 0.9998\n",
            "Epoch 5: val_loss did not improve from 0.50005\n",
            "142/142 [==============================] - 25s 173ms/step - loss: 0.0068 - accuracy: 0.9998 - val_loss: 0.6205 - val_accuracy: 0.8512\n",
            "Epoch 6/100\n",
            "142/142 [==============================] - ETA: 0s - loss: 0.0035 - accuracy: 0.9996\n",
            "Epoch 6: val_loss did not improve from 0.50005\n",
            "142/142 [==============================] - 25s 176ms/step - loss: 0.0035 - accuracy: 0.9996 - val_loss: 0.6621 - val_accuracy: 0.8482\n",
            "Epoch 7/100\n",
            "142/142 [==============================] - ETA: 0s - loss: 0.0028 - accuracy: 0.9998\n",
            "Epoch 7: val_loss did not improve from 0.50005\n",
            "142/142 [==============================] - 24s 169ms/step - loss: 0.0028 - accuracy: 0.9998 - val_loss: 0.6467 - val_accuracy: 0.8604\n"
          ]
        },
        {
          "data": {
            "image/png": "[encoded data removed]",
            "text/plain": [
              "<Figure size 640x480 with 1 Axes>"
            ]
          },
          "metadata": {},
          "output_type": "display_data"
        },
        {
          "data": {
            "image/png": "[encoded data removed]",
            "text/plain": [
              "<Figure size 640x480 with 1 Axes>"
            ]
          },
          "metadata": {},
          "output_type": "display_data"
        },
        {
          "name": "stdout",
          "output_type": "stream",
          "text": [
            "21/21 [==============================] - 4s 165ms/step\n",
            "Classification report: \n",
            "                  precision    recall  f1-score   support\n",
            "\n",
            "    glioma_tumor     0.7772    0.8486    0.8114       185\n",
            "meningioma_tumor     0.7740    0.7326    0.7527       187\n",
            "        no_tumor     0.8131    0.8700    0.8406       100\n",
            " pituitary_tumor     0.9699    0.8944    0.9306       180\n",
            "\n",
            "        accuracy                         0.8313       652\n",
            "       macro avg     0.8336    0.8364    0.8338       652\n",
            "    weighted avg     0.8350    0.8313    0.8320       652\n",
            "\n"
          ]
        },
        {
          "data": {
            "image/png": "[encoded data removed]",
            "text/plain": [
              "<Figure size 640x480 with 2 Axes>"
            ]
          },
          "metadata": {},
          "output_type": "display_data"
        },
        {
          "data": {
            "image/png": "[encoded data removed]",
            "text/plain": [
              "<Figure size 640x480 with 1 Axes>"
            ]
          },
          "metadata": {},
          "output_type": "display_data"
        }
      ],
      "source": [
        "model = Sequential()\n",
        "model.add(Conv2D(32, (3, 3), activation='relu', padding='same', input_shape=(image_size, image_size, 3)))\n",
        "model.add(MaxPooling2D((2, 2)))\n",
        "model.add(Flatten())\n",
        "model.add(Dense(4, activation='softmax'))\n",
        "\n",
        "compile_model(model)\n",
        "\n",
        "run_model(model, 'CNN', 'cnn_from_scratch_clahe_exp1')\n",
        "\n",
        "evaluate_model(model,test_generator, 'cnn_from_scratch_clahe_exp1', 'CNN')"
      ]
    },
    {
      "attachments": {},
      "cell_type": "markdown",
      "metadata": {
        "id": "XqmB9r1_b8pH"
      },
      "source": [
        "## Exp 2\n",
        "\n",
        "Second CNN model with **three convolutional layers** and **three max pooling layers** at the biginning.\n",
        "\n",
        "Than **one flatten layer** and **one dense layer** with 256 units and softmax activation function.\n",
        "\n",
        "We add a **dropout layer** with 0.5 probability to avoid overfitting.\n",
        "\n",
        "At the end we add a **dense layer** with 4 units (one for each class) and softmax activation function."
      ]
    },
    {
      "cell_type": "code",
      "execution_count": null,
      "metadata": {
        "id": "zI5PEiR-ce8B"
      },
      "outputs": [],
      "source": [
        "model = Sequential()\n",
        "model.add(Conv2D(32, (3, 3), activation='relu', padding='same', input_shape=(image_size, image_size, 3)))\n",
        "model.add(MaxPooling2D((2, 2)))\n",
        "model.add(Conv2D(64, (3, 3), activation='relu', padding='same'))\n",
        "model.add(MaxPooling2D((3, 3)))\n",
        "model.add(Conv2D(128, (3, 3), activation='relu', padding='same'))\n",
        "model.add(MaxPooling2D((4, 4)))\n",
        "model.add(Flatten())\n",
        "model.add(Dense(256, activation='relu'))\n",
        "model.add(Dropout(0.5))\n",
        "model.add(Dense(4, activation='softmax'))\n",
        "\n",
        "compile_model(model)\n",
        "\n",
        "run_model(model, 'CNN','cnn_from_scratch_clahe_exp2')\n",
        "\n",
        "evaluate_model(model,test_generator, 'cnn_from_scratch_clahe_exp2', 'CNN')"
      ]
    },
    {
      "attachments": {},
      "cell_type": "markdown",
      "metadata": {
        "id": "gnZjWpwwpyOE"
      },
      "source": [
        "## Exp 3\n",
        "\n",
        "Third CNN model with **four convolutional layers** and **four max pooling layers** at the biginning.\n",
        "\n",
        "Each of the max pooling layer have a **different pool size**.\n",
        "\n",
        "Than **one flatten layer** and **one dense layer** with 256 units and softmax activation function.\n",
        "\n",
        "We add a **dropout layer** with 0.5 probability to avoid overfitting.\n",
        "\n",
        "At the end we add a **dense layer** with 4 units (one for each class) and softmax activation function. "
      ]
    },
    {
      "cell_type": "code",
      "execution_count": null,
      "metadata": {
        "colab": {
          "base_uri": "https://localhost:8080/"
        },
        "id": "_FX17rHCp94N",
        "outputId": "11983ba2-6ee2-4948-a74e-34ecaf294e7c"
      },
      "outputs": [
        {
          "name": "stdout",
          "output_type": "stream",
          "text": [
            "Model: \"sequential_4\"\n",
            "_________________________________________________________________\n",
            " Layer (type)                Output Shape              Param #   \n",
            "=================================================================\n",
            " conv2d_5 (Conv2D)           (None, 250, 250, 32)      896       \n",
            "                                                                 \n",
            " max_pooling2d_5 (MaxPooling  (None, 125, 125, 32)     0         \n",
            " 2D)                                                             \n",
            "                                                                 \n",
            " conv2d_6 (Conv2D)           (None, 125, 125, 64)      18496     \n",
            "                                                                 \n",
            " max_pooling2d_6 (MaxPooling  (None, 41, 41, 64)       0         \n",
            " 2D)                                                             \n",
            "                                                                 \n",
            " conv2d_7 (Conv2D)           (None, 41, 41, 128)       73856     \n",
            "                                                                 \n",
            " max_pooling2d_7 (MaxPooling  (None, 10, 10, 128)      0         \n",
            " 2D)                                                             \n",
            "                                                                 \n",
            " conv2d_8 (Conv2D)           (None, 10, 10, 256)       295168    \n",
            "                                                                 \n",
            " max_pooling2d_8 (MaxPooling  (None, 2, 2, 256)        0         \n",
            " 2D)                                                             \n",
            "                                                                 \n",
            " flatten_3 (Flatten)         (None, 1024)              0         \n",
            "                                                                 \n",
            " dense_4 (Dense)             (None, 256)               262400    \n",
            "                                                                 \n",
            " dropout_1 (Dropout)         (None, 256)               0         \n",
            "                                                                 \n",
            " dense_5 (Dense)             (None, 4)                 1028      \n",
            "                                                                 \n",
            "=================================================================\n",
            "Total params: 651,844\n",
            "Trainable params: 651,844\n",
            "Non-trainable params: 0\n",
            "_________________________________________________________________\n",
            "Epoch 1/100\n",
            "142/142 [==============================] - ETA: 0s - loss: 1.2607 - accuracy: 0.3912\n",
            "Epoch 1: val_loss improved from inf to 1.21214, saving model to /content/drive/MyDrive/BrainTumorDataset/cnn_from_scratch_clahe_exp3.h5\n",
            "142/142 [==============================] - 29s 184ms/step - loss: 1.2607 - accuracy: 0.3912 - val_loss: 1.2121 - val_accuracy: 0.4571\n",
            "Epoch 2/100\n",
            "142/142 [==============================] - ETA: 0s - loss: 0.9175 - accuracy: 0.6248\n",
            "Epoch 2: val_loss improved from 1.21214 to 0.77578, saving model to /content/drive/MyDrive/BrainTumorDataset/cnn_from_scratch_clahe_exp3.h5\n",
            "142/142 [==============================] - 25s 173ms/step - loss: 0.9175 - accuracy: 0.6248 - val_loss: 0.7758 - val_accuracy: 0.7040\n",
            "Epoch 3/100\n",
            "142/142 [==============================] - ETA: 0s - loss: 0.7035 - accuracy: 0.7204\n",
            "Epoch 3: val_loss improved from 0.77578 to 0.61682, saving model to /content/drive/MyDrive/BrainTumorDataset/cnn_from_scratch_clahe_exp3.h5\n",
            "142/142 [==============================] - 24s 168ms/step - loss: 0.7035 - accuracy: 0.7204 - val_loss: 0.6168 - val_accuracy: 0.7577\n",
            "Epoch 4/100\n",
            " 25/142 [====>.........................] - ETA: 19s - loss: 0.6054 - accuracy: 0.7600"
          ]
        }
      ],
      "source": [
        "model = Sequential()\n",
        "model.add(Conv2D(32, (3, 3), activation='relu', padding='same', input_shape=(image_size, image_size, 3)))\n",
        "model.add(MaxPooling2D((2, 2)))\n",
        "model.add(Conv2D(64, (3, 3), activation='relu', padding='same'))\n",
        "model.add(MaxPooling2D((3, 3)))\n",
        "model.add(Conv2D(128, (3, 3), activation='relu', padding='same'))\n",
        "model.add(MaxPooling2D((4, 4)))\n",
        "model.add(Conv2D(256, (3, 3), activation='relu', padding='same'))\n",
        "model.add(MaxPooling2D((5, 5)))\n",
        "model.add(Flatten())\n",
        "model.add(Dense(256, activation='relu'))\n",
        "model.add(Dropout(0.5))\n",
        "model.add(Dense(4, activation='softmax'))\n",
        "\n",
        "compile_model(model)\n",
        "\n",
        "run_model(model, 'CNN', 'cnn_from_scratch_clahe_exp3')\n",
        "\n",
        "evaluate_model(model,test_generator, 'cnn_from_scratch_clahe_exp3', 'CNN')"
      ]
    },
    {
      "attachments": {},
      "cell_type": "markdown",
      "metadata": {
        "id": "imQ45S3--XL-"
      },
      "source": [
        "## Exp 8\n",
        "\n",
        "Eighth CNN model with four convolutional layers and four max pooling layers at the biginning.\n",
        "\n",
        "Now each of the max pooling layer have a different pool size.\n",
        "\n",
        "Than one flatten layer and one dense layer with 512 units and softmax activation function.\n",
        "\n",
        "We add a dropout layer with 0.5 probability to avoid overfitting.\n",
        "\n",
        "At the end we add a dense layer with 4 units (one for each class) and softmax activation function."
      ]
    },
    {
      "cell_type": "code",
      "execution_count": null,
      "metadata": {
        "id": "AWUt-2Ep-jCX"
      },
      "outputs": [],
      "source": [
        "model = Sequential()\n",
        "model.add(Conv2D(32, (3, 3), activation='relu', padding='same', input_shape=(image_size, image_size, 3)))\n",
        "model.add(MaxPooling2D((2, 2)))\n",
        "model.add(Conv2D(64, (3, 3), activation='relu', padding='same'))\n",
        "model.add(MaxPooling2D((3, 3)))\n",
        "model.add(Conv2D(128, (3, 3), activation='relu', padding='same'))\n",
        "model.add(MaxPooling2D((4, 4)))\n",
        "model.add(Conv2D(256, (3, 3), activation='relu', padding='same'))\n",
        "model.add(MaxPooling2D((5, 5)))\n",
        "model.add(Flatten())\n",
        "model.add(Dense(512, activation='relu'))\n",
        "model.add(Dropout(0.5))\n",
        "model.add(Dense(4, activation='softmax'))\n",
        "\n",
        "compile_model(model)\n",
        "\n",
        "run_model(model, 'CNN', 'cnn_from_scratch_clahe_exp8')\n",
        "\n",
        "evaluate_model(model,test_generator, 'cnn_from_scratch_clahe_exp8', 'CNN')"
      ]
    },
    {
      "attachments": {},
      "cell_type": "markdown",
      "metadata": {
        "id": "VFqP3CBveWEQ"
      },
      "source": [
        "## Exp 9\n",
        "\n",
        "Ninth CNN model with 3 convolutional layers and 3 max pooling layer at the biginning.\n",
        "\n",
        "\n",
        "Now each of the max pooling layer have a different pool size.\n",
        "\n",
        "Than one flatten layer and one dense layer with 512 units and softmax activation function.\n",
        "\n",
        "Than one other dense layer with 256 units and softmax activation function.\n",
        "\n",
        "We add a dropout layer with 0.5 probability to avoid overfitting.\n",
        "\n",
        "At the end we add a dense layer with 4 units (one for each class) and softmax activation function."
      ]
    },
    {
      "cell_type": "code",
      "execution_count": null,
      "metadata": {
        "id": "knbELMDtefHx"
      },
      "outputs": [],
      "source": [
        "model = Sequential()\n",
        "model.add(Conv2D(32, (3, 3), activation='relu', padding='same', input_shape=(image_size, image_size, 3)))\n",
        "model.add(MaxPooling2D((2, 2)))\n",
        "model.add(Conv2D(64, (3, 3), activation='relu', padding='same'))\n",
        "model.add(MaxPooling2D((3, 3)))\n",
        "model.add(Conv2D(128, (3, 3), activation='relu', padding='same'))\n",
        "model.add(MaxPooling2D((4, 4)))\n",
        "model.add(Conv2D(256, (3, 3), activation='relu', padding='same'))\n",
        "model.add(MaxPooling2D((5, 5)))\n",
        "model.add(Flatten())\n",
        "model.add(Dense(128, activation='relu'))\n",
        "model.add(Dropout(0.5))\n",
        "model.add(Dense(256, activation='relu'))\n",
        "model.add(Dropout(0.5))\n",
        "model.add(Dense(512, activation='relu'))\n",
        "model.add(Dropout(0.5))\n",
        "model.add(Dense(4, activation='softmax'))\n",
        "\n",
        "compile_model(model)\n",
        "\n",
        "run_model(model, 'CNN', 'cnn_from_scratch_clahe_exp9')\n",
        "\n",
        "evaluate_model(model,test_generator, 'cnn_from_scratch_clahe_exp9', 'CNN')"
      ]
    },
    {
      "attachments": {},
      "cell_type": "markdown",
      "metadata": {
        "id": "JORPqkMhVW_1"
      },
      "source": [
        "## initial model"
      ]
    },
    {
      "cell_type": "code",
      "execution_count": null,
      "metadata": {
        "id": "cBmiGqlc77AK"
      },
      "outputs": [],
      "source": [
        "# Definire un modello sequenziale di Keras\n",
        "model = Sequential()\n",
        "\n",
        "# Aggiungere un layer convoluzionale con 32 filtri, dimensione del kernel di 3x3, funzione di attivazione ReLU e padding \"same\"\n",
        "model.add(Conv2D(32, (3, 3), activation='relu', padding='same', input_shape=(image_size, image_size, 3)))\n",
        "\n",
        "# Aggiungere un layer di max pooling con dimensione 2x2\n",
        "model.add(MaxPooling2D((2, 2)))\n",
        "\n",
        "# Aggiungere un altro layer convoluzionale con 64 filtri, dimensione del kernel di 3x3, funzione di attivazione ReLU e padding \"same\"\n",
        "model.add(Conv2D(64, (3, 3), activation='relu', padding='same'))\n",
        "\n",
        "# Aggiungere un altro layer di max pooling con dimensione 2x2\n",
        "model.add(MaxPooling2D((2, 2)))\n",
        "\n",
        "# Aggiungere un altro layer convoluzionale con 128 filtri, dimensione del kernel di 3x3, funzione di attivazione ReLU e padding \"same\"\n",
        "model.add(Conv2D(128, (3, 3), activation='relu', padding='same'))\n",
        "\n",
        "# Aggiungere un altro layer di max pooling con dimensione 2x2\n",
        "model.add(MaxPooling2D((2, 2)))\n",
        "\n",
        "# Aggiungere un layer di appiattimento per convertire l'output del layer precedente in un vettore unidimensionale\n",
        "model.add(Flatten())\n",
        "\n",
        "# Aggiungere un layer completamente connesso con 512 unità e funzione di attivazione ReLU\n",
        "model.add(Dense(512, activation='relu'))\n",
        "\n",
        "# Aggiungere un layer di dropout con una percentuale di dropout di 0,5\n",
        "model.add(Dropout(0.5))\n",
        "\n",
        "# Aggiungere un altro layer completamente connesso con 4 unità (una per ogni classe) e funzione di attivazione softmax\n",
        "model.add(Dense(4, activation='softmax'))\n",
        "\n",
        "compile_model(model)\n",
        "\n",
        "run_model(model, 'CNN', 'cnn_from_scratch_initial_model_clahe')\n",
        "\n",
        "evaluate_model(model,test_generator, 'cnn_from_scratch_initial_model_clahe', 'CNN')"
      ]
    }
  ],
  "metadata": {
    "accelerator": "GPU",
    "colab": {
      "collapsed_sections": [
        "jxvtgzHcAkz8",
        "m4jD0V6mAk0A",
        "gGEP9Vg4Ak0H",
        "W6DEpZHJIEKF",
        "iNEpIffhILLC",
        "sGOGm5REAk0B",
        "XJalkXRHVjWV",
        "XqmB9r1_b8pH",
        "gnZjWpwwpyOE",
        "imQ45S3--XL-",
        "VFqP3CBveWEQ",
        "JORPqkMhVW_1"
      ],
      "gpuType": "T4",
      "include_colab_link": true,
      "provenance": []
    },
    "gpuClass": "standard",
    "kernelspec": {
      "display_name": "Python 3",
      "name": "python3"
    },
    "language_info": {
      "name": "python"
    }
  },
  "nbformat": 4,
  "nbformat_minor": 0
}

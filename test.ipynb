{
  "cells": [
    {
      "cell_type": "code",
      "source": [
        "akjscdnaskjncajksdncoasno\n"
      ],
      "metadata": {
        "id": "robCqfuNHrjU"
      },
      "execution_count": null,
      "outputs": []
    },
    {
      "cell_type": "markdown",
      "source": [
        "# **Introduction**\n",
        "\n",
        "In this Jupiter notebook, you are creating a Convolutional Neural Network (CNN) using TensorFlow and Keras to classify brain MRI images. The goal is to detect potential brain tumors through the analysis of MRI images. In this section, we import the necessary libraries to create the CNN and load the images."
      ],
      "metadata": {
        "id": "6cMJ4qrdrEZs"
      }
    },
    {
      "cell_type": "markdown",
      "source": [
        "# **Importing Libraries**\n",
        "\n",
        "In this paragraph, we have imported the necessary libraries to create the CNN. TensorFlow and Keras are the main frameworks that we will use to create the convolutional neural network. Additionally, we have imported other useful libraries such as OpenCV (cv2) for image preprocessing, PIL for image manipulation, and Matplotlib for image visualization."
      ],
      "metadata": {
        "id": "NDz3ICSorQXo"
      }
    },
    {
      "cell_type": "code",
      "source": [
        "import tensorflow as tf\n",
        "from tqdm import tqdm\n",
        "from tensorflow import keras\n",
        "from sklearn.model_selection import train_test_split\n",
        "from tensorflow.keras.models import Model, Sequential\n",
        "from tensorflow.keras.layers import Conv2D, MaxPooling2D, AveragePooling2D, GlobalAveragePooling2D\n",
        "from tensorflow.keras.layers import Input, Dense, Dropout, Flatten, Activation,Concatenate, BatchNormalization\n",
        "import os\n",
        "import glob\n",
        "import shutil\n",
        "from sklearn.utils import shuffle\n",
        "import zipfile\n",
        "import cv2\n",
        "import imutils\n",
        "from google.colab.patches import cv2_imshow\n",
        "from tensorflow.keras import layers\n",
        "from tensorflow.keras import optimizers\n",
        "from tensorflow.keras.utils import image_dataset_from_directory\n",
        "from PIL import Image\n",
        "from matplotlib.pyplot import imshow\n",
        "from tensorflow.keras.preprocessing.image import ImageDataGenerator\n",
        "import numpy as np\n",
        "import random\n",
        "import math\n",
        "import matplotlib.pyplot as plt"
      ],
      "metadata": {
        "id": "7qv94seOl4RA"
      },
      "execution_count": null,
      "outputs": []
    },
    {
      "cell_type": "markdown",
      "source": [
        "# **Fetch data**\n",
        "\n",
        "In the following code snippet, we are mounting the Google Drive to access the dataset required for training the CNN. We use the **drive.mount** function from the **google.colab** library to mount the drive.\n"
      ],
      "metadata": {
        "id": "ptWSxT3Lr1K1"
      }
    },
    {
      "cell_type": "code",
      "source": [
        "# mount drive \n",
        "from google.colab import drive\n",
        "drive.mount('/content/drive', force_remount=True)"
      ],
      "metadata": {
        "id": "Y28jDvT0ou8Z"
      },
      "execution_count": null,
      "outputs": []
    },
    {
      "cell_type": "code",
      "source": [
        "# Use this in case of error in code, delete folder and repeat data fetching\n",
        "#shutil.rmtree('/content/drive/MyDrive/BrainTumorDataset')"
      ],
      "metadata": {
        "id": "wCkxDPVpqbZm"
      },
      "execution_count": null,
      "outputs": []
    },
    {
      "cell_type": "markdown",
      "source": [
        "Afterward, we extract the dataset from a zip folder using the **zipfile** library's."
      ],
      "metadata": {
        "id": "bMDNjC55o0bP"
      }
    },
    {
      "cell_type": "code",
      "source": [
        "# Extract zip folder of data\n",
        "with zipfile.ZipFile(\"/content/drive/MyDrive/BrainTumorClassificationMRI.zip\", 'r') as zip_ref:\n",
        "    zip_ref.extractall(\"/content/drive/MyDrive/BrainTumorDataset\")"
      ],
      "metadata": {
        "id": "RrO02GAjl1Hu"
      },
      "execution_count": null,
      "outputs": []
    },
    {
      "cell_type": "code",
      "source": [
        "dataset_path = \"/content/drive/MyDrive/BrainTumorDataset\""
      ],
      "metadata": {
        "id": "wAp6lCRlmpYg"
      },
      "execution_count": null,
      "outputs": []
    },
    {
      "cell_type": "markdown",
      "source": [
        "# **Folder reorganization**\n",
        "\n",
        "The next code snippet renames the image files in the training and testing folders by adding the subfolder name and an incrementing number to the filename. "
      ],
      "metadata": {
        "id": "ZwlSNE9-sdY6"
      }
    },
    {
      "cell_type": "code",
      "source": [
        "# class list\n",
        "classes = ['glioma_tumor', 'meningioma_tumor', 'no_tumor', 'pituitary_tumor']"
      ],
      "metadata": {
        "id": "10oVwaAgqAwZ"
      },
      "execution_count": null,
      "outputs": []
    },
    {
      "cell_type": "code",
      "source": [
        "class_dimensions = {} # list of counters, one for each class\n",
        "for cls in classes:\n",
        "  class_dimensions[cls] = 0\n",
        "  \n",
        "# go into training folder and then into each subfolder and rename files with folder name plus incrementing number\n",
        "os.chdir('/content/drive/MyDrive/BrainTumorDataset/Training')\n",
        "for folder in glob.glob('*'):\n",
        "    os.chdir(folder)\n",
        "    i = 1\n",
        "    for file in glob.glob('*'):\n",
        "        # get file extension\n",
        "        ext = file.split('.')[1]\n",
        "        os.rename(file, folder + '_' + str(i) + '.' + ext)\n",
        "        i += 1\n",
        "    class_dimensions[folder] = i-1\n",
        "    os.chdir('..')\n",
        "\n",
        "# go into testing folder and then into each subfolder and rename files with folder name plus incrementing number\n",
        "os.chdir('/content/drive/MyDrive/BrainTumorDataset/Testing')\n",
        "for folder in glob.glob('*'):\n",
        "    os.chdir(folder)\n",
        "    i = class_dimensions[folder] + 1 # start from previous counter to have incremental ID for each image\n",
        "    for file in glob.glob('*'):\n",
        "        # get file extension\n",
        "        ext = file.split('.')[1]\n",
        "        os.rename(file, folder + '_' + str(i) + '.' + ext)\n",
        "        i += 1\n",
        "    class_dimensions[folder] = i-1\n",
        "    os.chdir('..')\n",
        "\n",
        "print(class_dimensions)"
      ],
      "metadata": {
        "id": "Jj3ZIZAz_u6Y",
        "colab": {
          "base_uri": "https://localhost:8080/"
        },
        "outputId": "5d61b44d-8c3d-4aa6-d4a6-e2035b4c6b5b"
      },
      "execution_count": null,
      "outputs": [
        {
          "output_type": "stream",
          "name": "stdout",
          "text": [
            "{'glioma_tumor': 2175, 'meningioma_tumor': 2235, 'no_tumor': 1815, 'pituitary_tumor': 2123}\n"
          ]
        }
      ]
    },
    {
      "cell_type": "markdown",
      "source": [
        "This following code snippet creates a unified dataset directory with subfolders for each class required for training the CNN."
      ],
      "metadata": {
        "id": "OyYqR-tIuhQ0"
      }
    },
    {
      "cell_type": "code",
      "source": [
        "training_path = dataset_path + '/Training'\n",
        "testing_path = dataset_path + '/Testing'\n",
        "\n",
        "if os.path.exists(dataset_path + '/Preprocessed/Unified'):\n",
        "  shutil.rmtree(dataset_path + '/Preprocessed')\n",
        "\n",
        "os.makedirs(dataset_path + '/Preprocessed/Unified')\n",
        "\n",
        "# Copia le sottocartelle delle classi da train a dataset con sovrascrittura\n",
        "for cls in classes:\n",
        "  src_path = os.path.join(training_path, cls)\n",
        "  dst_path = os.path.join(dataset_path + '/Preprocessed/Unified', cls)\n",
        "  shutil.copytree(src_path, dst_path, dirs_exist_ok=True)\n",
        "\n",
        "# Copia le sottocartelle delle classi da test a dataset con sovrascrittura\n",
        "for cls in classes:\n",
        "  src_path = os.path.join(testing_path, cls)\n",
        "  dst_path = os.path.join(dataset_path + '/Preprocessed/Unified', cls)\n",
        "  shutil.copytree(src_path, dst_path, dirs_exist_ok=True)\n"
      ],
      "metadata": {
        "id": "eJqi5UIW0uD8"
      },
      "execution_count": null,
      "outputs": []
    },
    {
      "cell_type": "markdown",
      "source": [
        "# **Split the dataset**\n",
        "\n",
        "The following function split the dataset into training, validation and test sets, using the corresponding splitting percentage value 60%, 20% and 20%."
      ],
      "metadata": {
        "id": "cIqgwPG2ast9"
      }
    },
    {
      "cell_type": "code",
      "source": [
        "train_percentage = 0.6\n",
        "val_percentage = 0.2\n",
        "test_percentage = 0.2\n",
        "\n",
        "for cls in classes:\n",
        "  path = dataset_path + '/Preprocessed/Unified/' + cls\n",
        "  partial_ds = os.listdir(path)\n",
        "  random.shuffle(partial_ds)\n",
        "\n",
        "  train_size = int(train_percentage * len(partial_ds))\n",
        "  val_size = int(val_percentage * len(partial_ds))\n",
        "\n",
        "  train_set = partial_ds[0:train_size]\n",
        "  val_set = partial_ds[train_size:train_size+val_size]\n",
        "  test_set = partial_ds[train_size+val_size:class_dimensions[cls]]\n",
        "\n",
        "  print(\"Dimension for \",cls)\n",
        "  print(\"Train set dimension: \", len(train_set))\n",
        "  print(\"Validation set dimension: \", len(val_set))\n",
        "  print(\"Test set dimension: \", len(test_set))\n",
        "  print(\"Partial set dimension: \", len(partial_ds))\n",
        "  print('-----------------------------------')\n",
        "\n",
        "  os.makedirs(dataset_path + '/Preprocessed/Training/' + cls)\n",
        "  os.makedirs(dataset_path + '/Preprocessed/Validating/' + cls)\n",
        "  os.makedirs(dataset_path + '/Preprocessed/Testing/' + cls)\n",
        "\n",
        "  for file_name in train_set:\n",
        "    src = os.path.join(path, file_name)\n",
        "    dst = os.path.join(dataset_path + '/Preprocessed/Training/' + cls, file_name)\n",
        "    shutil.copyfile(src, dst)\n",
        "  \n",
        "  for file_name in val_set:\n",
        "    src = os.path.join(path, file_name)\n",
        "    dst = os.path.join(dataset_path + '/Preprocessed/Validating/' + cls, file_name)\n",
        "    shutil.copyfile(src, dst)\n",
        "\n",
        "  for file_name in test_set:\n",
        "    src = os.path.join(path, file_name)\n",
        "    dst = os.path.join(dataset_path + '/Preprocessed/Testing/' + cls, file_name)\n",
        "    shutil.copyfile(src, dst)\n",
        "\n"
      ],
      "metadata": {
        "id": "asgpjR8dxIgM",
        "colab": {
          "base_uri": "https://localhost:8080/"
        },
        "outputId": "7f67358d-4754-48ca-bb12-cd1f815528c6"
      },
      "execution_count": null,
      "outputs": [
        {
          "output_type": "stream",
          "name": "stdout",
          "text": [
            "Dimension for  glioma_tumor\n",
            "Train set dimension:  1305\n",
            "Validation set dimension:  435\n",
            "Test set dimension:  435\n",
            "Partial set dimension:  2175\n",
            "-----------------------------------\n",
            "Dimension for  meningioma_tumor\n",
            "Train set dimension:  1341\n",
            "Validation set dimension:  447\n",
            "Test set dimension:  447\n",
            "Partial set dimension:  2235\n",
            "-----------------------------------\n",
            "Dimension for  no_tumor\n",
            "Train set dimension:  1089\n",
            "Validation set dimension:  363\n",
            "Test set dimension:  363\n",
            "Partial set dimension:  1815\n",
            "-----------------------------------\n",
            "Dimension for  pituitary_tumor\n",
            "Train set dimension:  1273\n",
            "Validation set dimension:  424\n",
            "Test set dimension:  426\n",
            "Partial set dimension:  2123\n",
            "-----------------------------------\n"
          ]
        }
      ]
    },
    {
      "cell_type": "markdown",
      "source": [
        "Get all training data entries to perform a class distribution analysis"
      ],
      "metadata": {
        "id": "Py0w59LLbu5W"
      }
    },
    {
      "cell_type": "code",
      "source": [
        "glioma_tumor_path = dataset_path + '/Preprocessed/Training/glioma_tumor'\n",
        "meningioma_tumor_path = dataset_path + '/Preprocessed/Training/meningioma_tumor'\n",
        "no_tumor_path = dataset_path + '/Preprocessed/Training/no_tumor'\n",
        "pituitary_tumor_path = dataset_path + '/Preprocessed/Training/pituitary_tumor'\n",
        "\n",
        "glioma_tumor_entries = os.listdir(glioma_tumor_path)\n",
        "meningioma_entries = os.listdir(meningioma_tumor_path)\n",
        "no_tumor_entries = os.listdir(no_tumor_path)\n",
        "pituitary_tumor_entries = os.listdir(pituitary_tumor_path)\n",
        "\n",
        "train_entries = glioma_tumor_entries + meningioma_entries + no_tumor_entries + pituitary_tumor_entries\n"
      ],
      "metadata": {
        "id": "ITA8iboSXOxv"
      },
      "execution_count": null,
      "outputs": []
    },
    {
      "cell_type": "markdown",
      "source": [
        "# **Class balance analysis**\n",
        "\n",
        "We created a histogram to analyze the balance of the classes"
      ],
      "metadata": {
        "id": "fn-xN03DcP5Y"
      }
    },
    {
      "cell_type": "code",
      "source": [
        "glioma_samples = [entry for entry in train_entries if 'glioma' in entry]\n",
        "meningioma_samples = [entry for entry in train_entries if 'meningioma' in entry]\n",
        "negative_samples = [entry for entry in train_entries if 'no' in entry]\n",
        "pituitary_samples = [entry for entry in train_entries if 'pituitary' in entry]\n",
        "\n",
        "# Creo la lista dei label per la classe positiva\n",
        "glioma_labels = ['Glioma'] * len(glioma_samples)\n",
        "\n",
        "# Creo la lista dei label per la classe negativa\n",
        "meningioma_labels = ['Meningioma'] * len(meningioma_samples)\n",
        "\n",
        "# Creo la lista dei label per la classe positiva\n",
        "negative_labels = ['Negative'] * len(negative_samples)\n",
        "\n",
        "# Creo la lista dei label per la classe negativa\n",
        "pituitary_labels = ['Pituitary'] * len(pituitary_samples)\n",
        "\n",
        "# Unisco le due liste\n",
        "labels = glioma_labels + meningioma_labels + negative_labels + pituitary_labels\n",
        "\n",
        "# Creo l'istogramma\n",
        "fig, ax = plt.subplots()\n",
        "ax.hist(labels)\n",
        "\n",
        "# Aggiungo le etichette\n",
        "ax.set_xticks(['Glioma', 'Meningioma', 'Negative', 'Pituitary'])\n",
        "ax.set_xlabel('Class')\n",
        "ax.set_ylabel('Number of samples')\n",
        "ax.set_title('Distribution of the train set')\n",
        "\n",
        "plt.show()"
      ],
      "metadata": {
        "colab": {
          "base_uri": "https://localhost:8080/"
        },
        "id": "0q6ZfeJeyoii",
        "outputId": "04d18c4f-ae02-4f9c-f857-8c16e3512a3a"
      },
      "execution_count": null,
      "outputs": [
        {
          "output_type": "display_data",
          "data": {
            "text/plain": [
              "<Figure size 640x480 with 1 Axes>"
            ],
            "image/png": "[encoded data removed]"
          },
          "metadata": {}
        }
      ]
    },
    {
      "cell_type": "markdown",
      "source": [
        "At this point we calculate how many entries we have to consdier for each class and then we calculate, if needed, how many images we have to generate with data augmentation for the minority class."
      ],
      "metadata": {
        "id": "YXzeHeeryHCV"
      }
    },
    {
      "cell_type": "code",
      "source": [
        "expected_samples_per_class = len(train_entries)//4\n",
        "print(\"Number of expected images per class: \" + str(expected_samples_per_class) + '\\n')\n",
        "\n",
        "glioma_tumor = random.sample(glioma_samples, expected_samples_per_class)\n",
        "print(\"Number of sampled GLIOMA tumor images: \" + str(len(glioma_tumor)))\n",
        "\n",
        "meningioma_tumor = random.sample(meningioma_samples, expected_samples_per_class)\n",
        "print(\"Number of sampled MENINGIOMA tumor images: \" + str(len(meningioma_tumor)))\n",
        "\n",
        "pituitary_tumor = random.sample(meningioma_samples, expected_samples_per_class)\n",
        "print(\"Number of sampled PITUITARY tumor images: \" + str(len(pituitary_tumor)))\n",
        "\n",
        "negative_samples_needed = expected_samples_per_class - len(negative_samples)\n",
        "sampled_negative = random.sample(negative_samples, negative_samples_needed)\n",
        "print(\"\\nNumber of sampled NEGATIVE tumor images: \" + str(len(negative_samples)))\n",
        "print(\"Number of sampled NEGATIVE tumor images to perform augmentation: \" + str(len(sampled_negative)))\n"
      ],
      "metadata": {
        "colab": {
          "base_uri": "https://localhost:8080/"
        },
        "id": "yFdqMfPCs9ET",
        "outputId": "b163fff5-cb99-4b82-d14f-3dbab3f7035f"
      },
      "execution_count": null,
      "outputs": [
        {
          "output_type": "stream",
          "name": "stdout",
          "text": [
            "Number of expected images per class: 964\n",
            "\n",
            "Number of sampled GLIOMA tumor images: 964\n",
            "Number of sampled MENINGIOMA tumor images: 964\n",
            "Number of sampled PITUITARY tumor images: 964\n",
            "\n",
            "Number of sampled NEGATIVE tumor images: 600\n",
            "Number of sampled NEGATIVE tumor images to perform augmentation: 364\n"
          ]
        }
      ]
    },
    {
      "cell_type": "markdown",
      "source": [
        "# **TO DO**"
      ],
      "metadata": {
        "id": "IYO5Syam0tUG"
      }
    },
    {
      "cell_type": "code",
      "source": [
        "labels = ['glioma_tumor', 'meningioma_tumor', 'no_tumor', 'pituitary_tumor']\n",
        "X_train = []\n",
        "y_train = []\n",
        "X_test = []\n",
        "y_test = []\n",
        "image_size = 120\n",
        "for lb in labels:\n",
        "    folderPath = os.path.join('/content/drive/MyDrive/BrainTumorDataset/Preprocessed/Training', lb)\n",
        "    for j in tqdm(os.listdir(folderPath)):\n",
        "        img = cv2.imread(os.path.join(folderPath,j))\n",
        "        img = cv2.resize(img,(image_size, image_size))\n",
        "        X_train.append(img)\n",
        "        y_train.append(lb)\n",
        "        \n",
        "for lb in labels:\n",
        "    folderPath = os.path.join('/content/drive/MyDrive/BrainTumorDataset/Preprocessed/Testing', lb)\n",
        "    for j in tqdm(os.listdir(folderPath)):\n",
        "        img = cv2.imread(os.path.join(folderPath,j))\n",
        "        img = cv2.resize(img,(image_size,image_size))\n",
        "        X_test.append(img)\n",
        "        y_test.append(lb)\n",
        "        \n",
        "X_train = np.array(X_train)\n",
        "y_train = np.array(y_train)\n",
        "\n",
        "X_test = np.array(X_test)\n",
        "y_test = np.array(y_test)\n"
      ],
      "metadata": {
        "colab": {
          "base_uri": "https://localhost:8080/"
        },
        "id": "8_nTsXR1W-7g",
        "outputId": "7966ae5f-0c9f-4954-dd07-dab172e08753"
      },
      "execution_count": null,
      "outputs": [
        {
          "output_type": "stream",
          "name": "stderr",
          "text": [
            "100%|██████████| 1305/1305 [00:11<00:00, 109.96it/s]\n",
            "100%|██████████| 1341/1341 [00:10<00:00, 124.07it/s]\n",
            "100%|██████████| 1089/1089 [00:07<00:00, 150.32it/s]\n",
            "100%|██████████| 1273/1273 [00:12<00:00, 98.07it/s] \n",
            "100%|██████████| 435/435 [00:03<00:00, 135.56it/s]\n",
            "100%|██████████| 447/447 [00:03<00:00, 125.82it/s]\n",
            "100%|██████████| 363/363 [00:03<00:00, 120.81it/s]\n",
            "100%|██████████| 426/426 [00:03<00:00, 117.11it/s]\n"
          ]
        }
      ]
    },
    {
      "cell_type": "code",
      "source": [
        "X_train, y_train = shuffle(X_train,y_train, random_state=14)\n",
        "\n",
        "X_train.shape\n",
        "\n",
        "X_test.shape"
      ],
      "metadata": {
        "colab": {
          "base_uri": "https://localhost:8080/"
        },
        "id": "fLPGJB0UYez6",
        "outputId": "f3241f4f-a4b6-49cc-d017-33d128e3908c"
      },
      "execution_count": null,
      "outputs": [
        {
          "output_type": "execute_result",
          "data": {
            "text/plain": [
              "(1671, 120, 120, 3)"
            ]
          },
          "metadata": {},
          "execution_count": 15
        }
      ]
    },
    {
      "cell_type": "code",
      "source": [
        "y_train_new = []\n",
        "for i in y_train:\n",
        "    y_train_new.append(labels.index(i))\n",
        "y_train = y_train_new\n",
        "y_train = tf.keras.utils.to_categorical(y_train,4)\n",
        "\n",
        "\n",
        "y_test_new = []\n",
        "for i in y_test:\n",
        "    y_test_new.append(labels.index(i))\n",
        "y_test = y_test_new\n",
        "y_test = tf.keras.utils.to_categorical(y_test,4)"
      ],
      "metadata": {
        "id": "V1DgheHsY1UR"
      },
      "execution_count": null,
      "outputs": []
    },
    {
      "cell_type": "code",
      "source": [
        "X_train,X_val,y_train,y_val = train_test_split(X_train,y_train, test_size=0.1,random_state=14)"
      ],
      "metadata": {
        "id": "dZjI_p8GZ2O4"
      },
      "execution_count": null,
      "outputs": []
    },
    {
      "cell_type": "code",
      "source": [
        "X_train = np.array(X_train) / 255."
      ],
      "metadata": {
        "id": "qWd1LGIdfDqE"
      },
      "execution_count": null,
      "outputs": []
    },
    {
      "cell_type": "code",
      "source": [
        "X_val = np.array(X_val) / 255."
      ],
      "metadata": {
        "id": "ZRIt7FuZfHDm"
      },
      "execution_count": null,
      "outputs": []
    },
    {
      "cell_type": "code",
      "source": [
        "X_test = np.array(X_test) / 255."
      ],
      "metadata": {
        "id": "xhhY_e7qaE5l"
      },
      "execution_count": null,
      "outputs": []
    },
    {
      "cell_type": "code",
      "source": [
        "from tensorflow.keras.preprocessing.image import ImageDataGenerator\n",
        "\n",
        "datagen = ImageDataGenerator(\n",
        "        featurewise_center=False,  # set input mean to 0 over the dataset\n",
        "        samplewise_center=False,  # set each sample mean to 0\n",
        "        featurewise_std_normalization=False,  # divide inputs by std of the dataset\n",
        "        samplewise_std_normalization=False,  # divide each input by its std\n",
        "        zca_whitening=False,  # apply ZCA whitening\n",
        "        rotation_range=10,  # randomly rotate images in the range (degrees, 0 to 180)\n",
        "        zoom_range=0.1,  # Randomly zoom image \n",
        "        width_shift_range=0.1,  # randomly shift images horizontally (fraction of total width)\n",
        "        height_shift_range=0.1,  # randomly shift images vertically (fraction of total height)\n",
        "        horizontal_flip=True,  # randomly flip images\n",
        "        vertical_flip=False)  # randomly flip images\n",
        "\n",
        "datagen.fit(X_train)"
      ],
      "metadata": {
        "id": "OWVzFD4u4Jye"
      },
      "execution_count": null,
      "outputs": []
    },
    {
      "cell_type": "code",
      "source": [
        "from keras.models import Sequential\n",
        "from keras.layers import Conv2D, MaxPooling2D, Flatten, Dense, Dropout\n",
        "\n",
        "# Definire un modello sequenziale di Keras\n",
        "model = Sequential()\n",
        "\n",
        "# Aggiungere un layer convoluzionale con 32 filtri, dimensione del kernel di 3x3, funzione di attivazione ReLU e padding \"same\"\n",
        "model.add(Conv2D(32, (3, 3), activation='relu', padding='same', input_shape=(120, 120, 3)))\n",
        "\n",
        "# Aggiungere un layer di max pooling con dimensione 2x2\n",
        "model.add(MaxPooling2D((2, 2)))\n",
        "\n",
        "# Aggiungere un altro layer convoluzionale con 64 filtri, dimensione del kernel di 3x3, funzione di attivazione ReLU e padding \"same\"\n",
        "model.add(Conv2D(64, (3, 3), activation='relu', padding='same'))\n",
        "\n",
        "# Aggiungere un altro layer di max pooling con dimensione 2x2\n",
        "model.add(MaxPooling2D((2, 2)))\n",
        "\n",
        "# Aggiungere un altro layer convoluzionale con 128 filtri, dimensione del kernel di 3x3, funzione di attivazione ReLU e padding \"same\"\n",
        "model.add(Conv2D(128, (3, 3), activation='relu', padding='same'))\n",
        "\n",
        "# Aggiungere un altro layer di max pooling con dimensione 2x2\n",
        "model.add(MaxPooling2D((2, 2)))\n",
        "\n",
        "# Aggiungere un layer di appiattimento per convertire l'output del layer precedente in un vettore unidimensionale\n",
        "model.add(Flatten())\n",
        "\n",
        "# Aggiungere un layer completamente connesso con 512 unità e funzione di attivazione ReLU\n",
        "model.add(Dense(512, activation='relu'))\n",
        "\n",
        "# Aggiungere un layer di dropout con una percentuale di dropout di 0,5\n",
        "model.add(Dropout(0.5))\n",
        "\n",
        "# Aggiungere un altro layer completamente connesso con 4 unità (una per ogni classe) e funzione di attivazione softmax\n",
        "model.add(Dense(4, activation='softmax'))\n",
        "\n",
        "# Compilare il modello con la funzione di loss \"categorical_crossentropy\" e l'ottimizzatore \"adam\"\n",
        "model.compile(loss='categorical_crossentropy', optimizer='adam', metrics=['accuracy'])\n",
        "\n",
        "# Stampa il riepilogo del modello\n",
        "model.summary()\n"
      ],
      "metadata": {
        "id": "cBmiGqlc77AK"
      },
      "execution_count": null,
      "outputs": []
    },
    {
      "cell_type": "code",
      "source": [
        "from keras.callbacks import ReduceLROnPlateau, ModelCheckpoint\n",
        "\n",
        "\n",
        "\n",
        "# Definire i callbacks da utilizzare durante l'addestramento del modello\n",
        "reduce_lr = ReduceLROnPlateau(monitor='val_loss', patience=5)\n",
        "checkpoint = ModelCheckpoint(filepath='best_model.h5', monitor='val_loss', save_best_only=True)\n",
        "\n",
        "# Definire una lista di callbacks\n",
        "callbacks_list = [reduce_lr, checkpoint]\n",
        "\n",
        "# Addestrare il modello usando la lista di callbacks\n",
        "history = model.fit(X_train, y_train, epochs=20, validation_data=(X_val, y_val), callbacks=callbacks_list)"
      ],
      "metadata": {
        "id": "RVcQ0hrEdUgX",
        "colab": {
          "base_uri": "https://localhost:8080/"
        },
        "outputId": "846a8c0e-7e90-4b58-8bc4-8dd0c5ba966f"
      },
      "execution_count": null,
      "outputs": [
        {
          "output_type": "stream",
          "name": "stdout",
          "text": [
            "Epoch 1/20\n",
            " 23/141 [===>..........................] - ETA: 3:02 - loss: 1.3903 - accuracy: 0.4253"
          ]
        }
      ]
    },
    {
      "cell_type": "code",
      "source": [
        "BATCH_SIZE = 20\n",
        "IMAGE_HEIGHT = 450\n",
        "IMAGE_WIDTH = 450\n",
        "\n",
        "train_ds = image_dataset_from_directory(\n",
        "    dataset_path + '/Preprocessed/Training/',\n",
        "    image_size=(IMAGE_HEIGHT, IMAGE_WIDTH),\n",
        "    batch_size=BATCH_SIZE,\n",
        "    class_names = classes\n",
        "    )\n",
        "\n",
        "validation_ds= image_dataset_from_directory(\n",
        "    dataset_path + '/Preprocessed/Validating/',\n",
        "    image_size=(IMAGE_HEIGHT, IMAGE_WIDTH),\n",
        "    batch_size=BATCH_SIZE,\n",
        "    class_names = classes\n",
        "    )\n",
        "\n",
        "test_ds= image_dataset_from_directory(\n",
        "    dataset_path + '/Preprocessed/Testing/',\n",
        "    image_size=(IMAGE_HEIGHT, IMAGE_WIDTH),\n",
        "    batch_size=BATCH_SIZE,\n",
        "    class_names = classes\n",
        "    )\n"
      ],
      "metadata": {
        "id": "4JPHSksMDDjS",
        "colab": {
          "base_uri": "https://localhost:8080/"
        },
        "outputId": "79d53088-fcc0-4c16-87e9-61af1c297ff7"
      },
      "execution_count": null,
      "outputs": [
        {
          "output_type": "stream",
          "name": "stdout",
          "text": [
            "Found 1957 files belonging to 4 classes.\n",
            "Found 652 files belonging to 4 classes.\n",
            "Found 655 files belonging to 4 classes.\n"
          ]
        }
      ]
    },
    {
      "cell_type": "code",
      "source": [
        "model_cnn = Sequential()\n",
        "\n",
        "model_cnn.add(Conv2D(64, (3, 3), padding='same',input_shape=(120,120,3))) \n",
        "model_cnn.add(Activation('relu'))\n",
        "model_cnn.add(BatchNormalization())\n",
        "\n",
        "model_cnn.add(Conv2D(64, (3, 3))) \n",
        "model_cnn.add(Activation('relu'))\n",
        "model_cnn.add(MaxPooling2D(pool_size=(2, 2))) \n",
        "model_cnn.add(BatchNormalization())\n",
        "model_cnn.add(Dropout(0.35))\n",
        "\n",
        "model_cnn.add(Conv2D(64, (3, 3), padding='same'))\n",
        "model_cnn.add(Activation('relu'))\n",
        "model_cnn.add(BatchNormalization()) \n",
        "\n",
        "model_cnn.add(Conv2D(64, (3, 3)))\n",
        "model_cnn.add(Activation('relu'))\n",
        "model_cnn.add(MaxPooling2D(pool_size=(2, 2))) \n",
        "model_cnn.add(BatchNormalization())\n",
        "model_cnn.add(Dropout(0.35)) \n",
        "\n",
        "model_cnn.add(Conv2D(64, (3, 3), padding='same')) \n",
        "model_cnn.add(Activation('relu'))\n",
        "model_cnn.add(BatchNormalization())\n",
        "\n",
        "model_cnn.add(Flatten()) \n",
        "model_cnn.add(Dropout(0.5)) \n",
        "model_cnn.add(Dense(512)) \n",
        "model_cnn.add(Activation('relu'))\n",
        "model_cnn.add(BatchNormalization())\n",
        "model_cnn.add(Dense(4)) \n",
        "model_cnn.add(Activation('softmax'))\n",
        "\n",
        "model_cnn.summary()"
      ],
      "metadata": {
        "id": "ct3IfbCR_BL2"
      },
      "execution_count": null,
      "outputs": []
    },
    {
      "cell_type": "markdown",
      "source": [
        "# **UTILS**"
      ],
      "metadata": {
        "id": "WPX5AH239cF7"
      }
    },
    {
      "cell_type": "code",
      "source": [
        "def crop_and_resize_image():\n",
        "  i = 1\n",
        "  img_size = 450\n",
        "\n",
        "  path = dataset_path + '/Preprocessed/Training/no_tumor/'\n",
        "\n",
        "  for img_name in os.listdir(path):\n",
        "      try:\n",
        "          img = cv2.imread(os.path.join(path, img_name))\n",
        "          h, w = img.shape[:2]\n",
        "          a1 = w/h\n",
        "          a2 = h/w\n",
        "    \n",
        "          if(a1 > a2):\n",
        "        \n",
        "              # if width greater than height\n",
        "              r_img = cv2.resize(img, (round(img_size * a1), img_size), interpolation = cv2.INTER_AREA)\n",
        "              margin = int(r_img.shape[1]/6)\n",
        "              crop_img = r_img[0:img_size, margin:(margin+img_size)]\n",
        "\n",
        "          elif(a1 < a2):\n",
        "            \n",
        "              # if height greater than width\n",
        "              r_img = cv2.resize(img, (img_size, round(img_size * a2)), interpolation = cv2.INTER_AREA)\n",
        "              margin = int(r_img.shape[0]/6)\n",
        "              crop_img = r_img[margin:(margin+img_size), 0:img_size]\n",
        "\n",
        "          elif(a1 == a2):\n",
        "            \n",
        "              # if height and width are equal\n",
        "              r_img = cv2.resize(img, (img_size, round(img_size * a2)), interpolation = cv2.INTER_AREA)\n",
        "              crop_img = r_img[0:img_size, 0:img_size]\n",
        "          \n",
        "          if(crop_img.shape[0] != img_size or crop_img.shape[1] != img_size):\n",
        "            \n",
        "              crop_img = r_img[0:img_size, 0:img_size]\n",
        "\n",
        "          if(crop_img.shape[0] == img_size and crop_img.shape[1] == img_size):\n",
        "            \n",
        "              print(\"Saving image with dims: \" + str(crop_img.shape[0]) + \"x\" + str(crop_img.shape[1]))\n",
        "              cv2.imwrite(path + str(i) + '.jpg', crop_img)\n",
        "              i += 1\n",
        "\n",
        "      except:\n",
        "          print('Could not save image.')\n",
        "\n",
        "crop_and_resize_image()\n",
        "\n"
      ],
      "metadata": {
        "id": "TnAhQjd2MIE1"
      },
      "execution_count": null,
      "outputs": []
    },
    {
      "cell_type": "code",
      "source": [
        "def random_flip_or_rotation(original_image):\n",
        "  '''\n",
        "  random_flip_or_rotation randomly rotates or flips the image\n",
        "  :param original_image: the image on which to perform the transformation\n",
        "  :return: the transformed image\n",
        "  '''\n",
        "  if random.randint(0,1): # decide whether to flip the image or not\n",
        "    horizontal = random.randint(0,1)\n",
        "    if horizontal:\n",
        "      new_image = tf.image.flip_left_right(original_image)\n",
        "    else:\n",
        "      new_image = tf.image.flip_up_down(original_image)\n",
        "  else: # rotate the image of a random degree (between 90° and 270°)\n",
        "    k = random.randint(1,3)\n",
        "    new_image = tf.image.rot90(original_image, k)\n",
        "\n",
        "  return np.asarray(new_image)"
      ],
      "metadata": {
        "id": "Dsjx_DTzz8iT"
      },
      "execution_count": null,
      "outputs": []
    },
    {
      "cell_type": "code",
      "source": [
        "glioma_tumor_path = dataset_path + '/Preprocessed/Training/glioma_tumor/'\n",
        "meningioma_tumor_path = dataset_path + '/Preprocessed/Training/meningioma_tumor/'\n",
        "no_tumor_path = dataset_path + '/Preprocessed/Training/no_tumor/'\n",
        "pituitary_tumor_path = dataset_path + '/Preprocessed/Training/pituitary_tumor/'\n",
        "\n",
        "glioma_tumor_entries = os.listdir(glioma_tumor_path)\n",
        "meningioma_entries = os.listdir(meningioma_tumor_path)\n",
        "no_tumor_entries = os.listdir(no_tumor_path)\n",
        "pituitary_tumor_entries = os.listdir(pituitary_tumor_path)\n",
        "\n",
        "i = len(glioma_tumor_entries) + 1 \n",
        "for entry in glioma_tumor_entries: # store cropped normal cell augmented images\n",
        "  img = cv2.imread(glioma_tumor_path + entry)\n",
        "  augmented_img = random_flip_or_rotation(img)\n",
        "  cv2.imwrite(glioma_tumor_path + 'Augmented_glioma_tumor_' + str(i) + '.jpg', augmented_img)\n",
        "  i = i + 1\n",
        "\n",
        "i = len(meningioma_entries) + 1 \n",
        "for entry in meningioma_entries: # store cropped normal cell augmented images\n",
        "  img = cv2.imread(meningioma_tumor_path + entry)\n",
        "  augmented_img = random_flip_or_rotation(img)\n",
        "  cv2.imwrite(meningioma_tumor_path + 'Augmented_meningioma_tumor_' + str(i) + '.jpg', augmented_img)\n",
        "  i = i + 1\n",
        "\n",
        "i = len(no_tumor_entries) + 1 \n",
        "for entry in no_tumor_entries: # store cropped normal cell augmented images\n",
        "  img = cv2.imread(no_tumor_path + entry)\n",
        "  augmented_img = random_flip_or_rotation(img)\n",
        "  cv2.imwrite(no_tumor_path + 'Augmented_no_tumor_' + str(i) + '.jpg', augmented_img)\n",
        "  i = i + 1\n",
        "\n",
        "i = len(pituitary_tumor_entries) + 1 \n",
        "for entry in pituitary_tumor_entries: # store cropped normal cell augmented images\n",
        "  img = cv2.imread(pituitary_tumor_path + entry)\n",
        "  augmented_img = random_flip_or_rotation(img)\n",
        "  cv2.imwrite(pituitary_tumor_path + 'Augmented_pituitary_tumor_' + str(i) + '.jpg', augmented_img)\n",
        "  i = i + 1"
      ],
      "metadata": {
        "id": "uIxvCvP91cms"
      },
      "execution_count": null,
      "outputs": []
    },
    {
      "cell_type": "code",
      "source": [
        "import os\n",
        "from PIL import Image\n",
        "\n",
        "def media_dimensioni_immagini(directory):\n",
        "    # Inizializza una lista vuota per contenere le dimensioni delle immagini\n",
        "    dimensioni = []\n",
        "\n",
        "    # Scansiona tutte le cartelle e sottocartelle presenti nella directory\n",
        "    for root, dirs, files in os.walk(directory):\n",
        "        # Scansiona tutti i file nella cartella corrente\n",
        "        for file in files:\n",
        "            # Controlla se il file è un'immagine\n",
        "            if file.endswith(\".jpg\") or file.endswith(\".jpeg\") or file.endswith(\".png\"):\n",
        "                # Carica l'immagine con Pillow\n",
        "                img = Image.open(os.path.join(root, file))\n",
        "                # Aggiungi le dimensioni dell'immagine alla lista\n",
        "                dimensioni.append(img.size)\n",
        "\n",
        "    # Calcola la media delle dimensioni delle immagini\n",
        "    media_dimensioni = tuple(map(lambda x: sum(x) / len(dimensioni), zip(*dimensioni)))\n",
        "\n",
        "    return media_dimensioni\n",
        "\n",
        "\n",
        "shape = media_dimensioni_immagini(dataset_path + '/Preprocessed/Training/')"
      ],
      "metadata": {
        "id": "lTR8CawJ60qV"
      },
      "execution_count": null,
      "outputs": []
    },
    {
      "cell_type": "code",
      "source": [
        "shape"
      ],
      "metadata": {
        "colab": {
          "base_uri": "https://localhost:8080/",
          "height": 165
        },
        "id": "6Hhxeodl7EvC",
        "outputId": "21ff2ca1-59ba-4db6-8028-0a192d0d2108"
      },
      "execution_count": null,
      "outputs": [
        {
          "output_type": "error",
          "ename": "NameError",
          "evalue": "ignored",
          "traceback": [
            "\u001b[0;31m---------------------------------------------------------------------------\u001b[0m",
            "\u001b[0;31mNameError\u001b[0m                                 Traceback (most recent call last)",
            "\u001b[0;32m<ipython-input-1-8ae9a22b4037>\u001b[0m in \u001b[0;36m<cell line: 1>\u001b[0;34m()\u001b[0m\n\u001b[0;32m----> 1\u001b[0;31m \u001b[0mshape\u001b[0m\u001b[0;34m\u001b[0m\u001b[0;34m\u001b[0m\u001b[0m\n\u001b[0m",
            "\u001b[0;31mNameError\u001b[0m: name 'shape' is not defined"
          ]
        }
      ]
    },
    {
      "cell_type": "code",
      "source": [
        "import matplotlib.pyplot as plt\n",
        "\n",
        "acc = history.history['accuracy']\n",
        "val_acc = history.history['val_accuracy']\n",
        "loss = history.history['loss']\n",
        "val_loss = history.history['val_loss']\n",
        "\n",
        "epochs = range(len(acc))\n",
        "\n",
        "plt.plot(epochs, acc, 'bo', label='Training accuracy')\n",
        "plt.plot(epochs, val_acc, 'b', label='Validation accuracy')\n",
        "plt.title('Training and validation accuracy')\n",
        "plt.legend()\n",
        "\n",
        "plt.figure()\n",
        "\n",
        "plt.plot(epochs, loss, 'bo', label='Training loss')\n",
        "plt.plot(epochs, val_loss, 'b', label='Validation loss')\n",
        "plt.title('Training and validation loss')\n",
        "plt.legend()\n",
        "\n",
        "plt.show()"
      ],
      "metadata": {
        "colab": {
          "base_uri": "https://localhost:8080/",
          "height": 887
        },
        "id": "7FQHHmxKe1dw",
        "outputId": "2b676d89-9344-4a3f-ef65-9a57489104fc"
      },
      "execution_count": null,
      "outputs": [
        {
          "output_type": "display_data",
          "data": {
            "text/plain": [
              "<Figure size 640x480 with 1 Axes>"
            ],
            "image/png": "[encoded data removed]"
          },
          "metadata": {}
        },
        {
          "output_type": "display_data",
          "data": {
            "text/plain": [
              "<Figure size 640x480 with 1 Axes>"
            ],
            "image/png": "[encoded data removed]"
          },
          "metadata": {}
        }
      ]
    }
  ],
  "metadata": {
    "accelerator": "GPU",
    "colab": {
      "provenance": [],
      "collapsed_sections": [
        "NDz3ICSorQXo",
        "ptWSxT3Lr1K1",
        "ZwlSNE9-sdY6",
        "cIqgwPG2ast9",
        "fn-xN03DcP5Y"
      ]
    },
    "kernelspec": {
      "display_name": "Python 3",
      "name": "python3"
    },
    "language_info": {
      "name": "python"
    }
  },
  "nbformat": 4,
  "nbformat_minor": 0
}
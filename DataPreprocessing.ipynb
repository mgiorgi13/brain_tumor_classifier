{
  "cells": [
    {
      "attachments": {},
      "cell_type": "markdown",
      "metadata": {
        "colab_type": "text",
        "id": "view-in-github"
      },
      "source": [
        "<a href=\"https://colab.research.google.com/github/mgiorgi13/brain_tumor_classifier/blob/mattia/DataPreprocessing.ipynb\" target=\"_parent\"><img src=\"https://colab.research.google.com/assets/colab-badge.svg\" alt=\"Open In Colab\"/></a>"
      ]
    },
    {
      "attachments": {},
      "cell_type": "markdown",
      "metadata": {
        "id": "NDz3ICSorQXo"
      },
      "source": [
        "# **Importing Libraries**\n",
        "\n",
        "In this paragraph, we have imported the necessary libraries to create the CNN. TensorFlow and Keras are the main frameworks that we will use to create the convolutional neural network. Additionally, we have imported other useful libraries such as OpenCV (cv2) for image preprocessing, PIL for image manipulation, and Matplotlib for image visualization."
      ]
    },
    {
      "cell_type": "code",
      "execution_count": 1,
      "metadata": {
        "id": "7qv94seOl4RA"
      },
      "outputs": [],
      "source": [
        "import tensorflow as tf\n",
        "from tqdm import tqdm\n",
        "from tensorflow import keras\n",
        "from sklearn.model_selection import train_test_split\n",
        "from tensorflow.keras.models import Model, Sequential\n",
        "from tensorflow.keras.layers import Conv2D, MaxPooling2D, AveragePooling2D, GlobalAveragePooling2D\n",
        "from tensorflow.keras.layers import Input, Dense, Dropout, Flatten, Activation,Concatenate, BatchNormalization\n",
        "import os\n",
        "import glob\n",
        "import shutil\n",
        "from sklearn.utils import shuffle\n",
        "import zipfile\n",
        "import cv2\n",
        "import imutils\n",
        "from google.colab.patches import cv2_imshow\n",
        "from tensorflow.keras import layers\n",
        "from tensorflow.keras import optimizers\n",
        "from tensorflow.keras.utils import image_dataset_from_directory\n",
        "from PIL import Image\n",
        "from matplotlib.pyplot import imshow\n",
        "from tensorflow.keras.preprocessing.image import ImageDataGenerator\n",
        "import numpy as np\n",
        "import random\n",
        "import math\n",
        "import matplotlib.pyplot as plt\n",
        "from keras.callbacks import ReduceLROnPlateau, ModelCheckpoint\n",
        "from keras.models import Sequential\n",
        "from keras.layers import Conv2D, MaxPooling2D, Flatten, Dense, Dropout\n",
        "from tensorflow.keras.preprocessing.image import ImageDataGenerator\n",
        "from PIL import Image"
      ]
    },
    {
      "cell_type": "code",
      "execution_count": 2,
      "metadata": {
        "id": "wAp6lCRlmpYg"
      },
      "outputs": [],
      "source": [
        "dataset_path = \"/content/drive/MyDrive/DiDonato_Giorgi\""
      ]
    },
    {
      "attachments": {},
      "cell_type": "markdown",
      "metadata": {
        "id": "ptWSxT3Lr1K1"
      },
      "source": [
        "# **Fetch data**\n",
        "\n",
        "In the following code snippet, we are mounting the Google Drive to access the dataset required for training the CNN. We use the **drive.mount** function from the **google.colab** library to mount the drive.\n"
      ]
    },
    {
      "attachments": {},
      "cell_type": "markdown",
      "metadata": {
        "id": "tLW284JeJS5B"
      },
      "source": [
        "## Google Drive connection\n",
        "\n",
        "Necessary to run the classifier"
      ]
    },
    {
      "cell_type": "code",
      "execution_count": 3,
      "metadata": {
        "colab": {
          "base_uri": "https://localhost:8080/"
        },
        "id": "Y28jDvT0ou8Z",
        "outputId": "352101bb-391b-4cb6-c3aa-d1b4450019ff"
      },
      "outputs": [
        {
          "name": "stdout",
          "output_type": "stream",
          "text": [
            "Mounted at /content/drive\n"
          ]
        }
      ],
      "source": [
        "# mount drive \n",
        "from google.colab import drive\n",
        "drive.mount('/content/drive', force_remount=True)"
      ]
    },
    {
      "attachments": {},
      "cell_type": "markdown",
      "metadata": {
        "id": "epW0hkVPJeqe"
      },
      "source": [
        "## Reset local dataset\n",
        "Remove dataset folder. Not always necessary"
      ]
    },
    {
      "cell_type": "code",
      "execution_count": 33,
      "metadata": {
        "id": "wCkxDPVpqbZm"
      },
      "outputs": [],
      "source": [
        "# Use this in case of error in code, delete folder and repeat data fetching\n",
        "shutil.rmtree('/content/drive/MyDrive/DiDonato_Giorgi')"
      ]
    },
    {
      "attachments": {},
      "cell_type": "markdown",
      "metadata": {
        "id": "bMDNjC55o0bP"
      },
      "source": [
        "Afterward, we extract the dataset from a zip folder using the **zipfile** library's."
      ]
    },
    {
      "attachments": {},
      "cell_type": "markdown",
      "metadata": {
        "id": "3HGbQ6aAJozt"
      },
      "source": [
        "## Dataset extraction\n",
        "Extract dataset from zip folder. Necessary if you reset the dataset"
      ]
    },
    {
      "cell_type": "code",
      "execution_count": 34,
      "metadata": {
        "id": "RrO02GAjl1Hu"
      },
      "outputs": [],
      "source": [
        "# Extract zip folder of data\n",
        "with zipfile.ZipFile(\"/content/drive/MyDrive/BrainTumorClassificationMRI.zip\", 'r') as zip_ref:\n",
        "    zip_ref.extractall(\"/content/drive/MyDrive/DiDonato_Giorgi\")"
      ]
    },
    {
      "attachments": {},
      "cell_type": "markdown",
      "metadata": {
        "id": "ZwlSNE9-sdY6"
      },
      "source": [
        "# **Folder reorganization**\n",
        "\n",
        "The next code snippet renames the image files in the training and testing folders by adding the subfolder name and an incrementing number to the filename. "
      ]
    },
    {
      "cell_type": "code",
      "execution_count": 35,
      "metadata": {
        "id": "10oVwaAgqAwZ"
      },
      "outputs": [],
      "source": [
        "# class list\n",
        "classes = ['glioma_tumor', 'meningioma_tumor', 'no_tumor', 'pituitary_tumor']"
      ]
    },
    {
      "cell_type": "code",
      "execution_count": 36,
      "metadata": {
        "colab": {
          "base_uri": "https://localhost:8080/"
        },
        "id": "Jj3ZIZAz_u6Y",
        "outputId": "e13c6ef4-20b0-4101-ce63-0f909767513a"
      },
      "outputs": [
        {
          "name": "stdout",
          "output_type": "stream",
          "text": [
            "{'glioma_tumor': 926, 'meningioma_tumor': 937, 'no_tumor': 500, 'pituitary_tumor': 901}\n"
          ]
        }
      ],
      "source": [
        "class_dimensions = {} # list of counters, one for each class\n",
        "for cls in classes:\n",
        "  class_dimensions[cls] = 0\n",
        "  \n",
        "# go into training folder and then into each subfolder and rename files with folder name plus incrementing number\n",
        "os.chdir('/content/drive/MyDrive/DiDonato_Giorgi/Training')\n",
        "for folder in glob.glob('*'):\n",
        "    os.chdir(folder)\n",
        "    i = 1\n",
        "    for file in glob.glob('*'):\n",
        "        # get file extension\n",
        "        ext = file.split('.')[1]\n",
        "        os.rename(file, folder + '_' + str(i) + '.' + ext)\n",
        "        i += 1\n",
        "    class_dimensions[folder] = i-1\n",
        "    os.chdir('..')\n",
        "\n",
        "# go into testing folder and then into each subfolder and rename files with folder name plus incrementing number\n",
        "os.chdir('/content/drive/MyDrive/DiDonato_Giorgi/Testing')\n",
        "for folder in glob.glob('*'):\n",
        "    os.chdir(folder)\n",
        "    i = class_dimensions[folder] + 1 # start from previous counter to have incremental ID for each image\n",
        "    for file in glob.glob('*'):\n",
        "        # get file extension\n",
        "        ext = file.split('.')[1]\n",
        "        os.rename(file, folder + '_' + str(i) + '.' + ext)\n",
        "        i += 1\n",
        "    class_dimensions[folder] = i-1\n",
        "    os.chdir('..')\n",
        "\n",
        "print(class_dimensions)"
      ]
    },
    {
      "attachments": {},
      "cell_type": "markdown",
      "metadata": {
        "id": "OyYqR-tIuhQ0"
      },
      "source": [
        "This following code snippet creates a unified dataset directory with subfolders for each class required for training the CNN."
      ]
    },
    {
      "cell_type": "code",
      "execution_count": 37,
      "metadata": {
        "id": "eJqi5UIW0uD8"
      },
      "outputs": [],
      "source": [
        "training_path = dataset_path + '/Training'\n",
        "testing_path = dataset_path + '/Testing'\n",
        "\n",
        "if os.path.exists(dataset_path + '/Preprocessed/Unified'):\n",
        "  shutil.rmtree(dataset_path + '/Preprocessed')\n",
        "\n",
        "os.makedirs(dataset_path + '/Preprocessed/Unified')\n",
        "\n",
        "# Copia le sottocartelle delle classi da train a dataset con sovrascrittura\n",
        "for cls in classes:\n",
        "  src_path = os.path.join(training_path, cls)\n",
        "  dst_path = os.path.join(dataset_path + '/Preprocessed/Unified', cls)\n",
        "  shutil.copytree(src_path, dst_path, dirs_exist_ok=True)\n",
        "\n",
        "# Copia le sottocartelle delle classi da test a dataset con sovrascrittura\n",
        "for cls in classes:\n",
        "  src_path = os.path.join(testing_path, cls)\n",
        "  dst_path = os.path.join(dataset_path + '/Preprocessed/Unified', cls)\n",
        "  shutil.copytree(src_path, dst_path, dirs_exist_ok=True)\n"
      ]
    },
    {
      "attachments": {},
      "cell_type": "markdown",
      "metadata": {
        "id": "fn-xN03DcP5Y"
      },
      "source": [
        "# **Class balance analysis - BEFORE data Augmentation**\n",
        "\n",
        "We created a histogram to analyze the balance of the classes."
      ]
    },
    {
      "cell_type": "code",
      "execution_count": 43,
      "metadata": {
        "id": "ITA8iboSXOxv"
      },
      "outputs": [],
      "source": [
        "glioma_tumor_path = dataset_path + '/Preprocessed/Unified/glioma_tumor'\n",
        "meningioma_tumor_path = dataset_path + '/Preprocessed/Unified/meningioma_tumor'\n",
        "no_tumor_path = dataset_path + '/Preprocessed/Unified/no_tumor'\n",
        "pituitary_tumor_path = dataset_path + '/Preprocessed/Unified/pituitary_tumor'\n",
        "\n",
        "glioma_tumor_entries = os.listdir(glioma_tumor_path)\n",
        "meningioma_entries = os.listdir(meningioma_tumor_path)\n",
        "no_tumor_entries = os.listdir(no_tumor_path)\n",
        "pituitary_tumor_entries = os.listdir(pituitary_tumor_path)\n",
        "\n",
        "train_entries = glioma_tumor_entries + meningioma_entries + no_tumor_entries + pituitary_tumor_entries"
      ]
    },
    {
      "cell_type": "code",
      "execution_count": 44,
      "metadata": {
        "colab": {
          "base_uri": "https://localhost:8080/",
          "height": 472
        },
        "id": "0q6ZfeJeyoii",
        "outputId": "e54262bc-d749-4c21-9086-f01ed3c483f3"
      },
      "outputs": [
        {
          "data": {
            "image/png": "[encoded data removed]",
            "text/plain": [
              "<Figure size 640x480 with 1 Axes>"
            ]
          },
          "metadata": {},
          "output_type": "display_data"
        }
      ],
      "source": [
        "glioma_samples = [entry for entry in train_entries if 'glioma' in entry]\n",
        "meningioma_samples = [entry for entry in train_entries if 'meningioma' in entry]\n",
        "negative_samples = [entry for entry in train_entries if 'no' in entry]\n",
        "pituitary_samples = [entry for entry in train_entries if 'pituitary' in entry]\n",
        "\n",
        "# create a list of labels for each class\n",
        "glioma_labels = ['Glioma'] * len(glioma_samples)\n",
        "meningioma_labels = ['Meningioma'] * len(meningioma_samples)\n",
        "negative_labels = ['Negative'] * len(negative_samples)\n",
        "pituitary_labels = ['Pituitary'] * len(pituitary_samples)\n",
        "\n",
        "# unify all labels in a single list\n",
        "labels = glioma_labels + meningioma_labels + negative_labels + pituitary_labels\n",
        "\n",
        "# create histogram of labels\n",
        "fig, ax = plt.subplots()\n",
        "ax.hist(labels)\n",
        "\n",
        "# add labels to the histogram\n",
        "ax.set_xticks(['Glioma', 'Meningioma', 'Negative', 'Pituitary'])\n",
        "ax.set_xlabel('Class')\n",
        "ax.set_ylabel('Number of samples')\n",
        "ax.set_title('Distribution of the train set')\n",
        "\n",
        "plt.show()"
      ]
    },
    {
      "attachments": {},
      "cell_type": "markdown",
      "metadata": {
        "id": "YXzeHeeryHCV"
      },
      "source": [
        "At this point we calculate how many entries we have to consdier for each class and then we calculate, if needed, how many images we have to generate with data augmentation for the minority class."
      ]
    },
    {
      "cell_type": "code",
      "execution_count": 45,
      "metadata": {
        "colab": {
          "base_uri": "https://localhost:8080/"
        },
        "id": "yFdqMfPCs9ET",
        "outputId": "31080e5f-73cb-4406-f5f3-43c543cc0536"
      },
      "outputs": [
        {
          "name": "stdout",
          "output_type": "stream",
          "text": [
            "Number of expected images per class: 816\n",
            "\n",
            "Number of sampled GLIOMA tumor images: 816\n",
            "Number of sampled MENINGIOMA tumor images: 816\n",
            "Number of sampled PITUITARY tumor images: 816\n",
            "\n",
            "Number of sampled NEGATIVE tumor images: 500\n",
            "Number of sampled NEGATIVE tumor images to perform augmentation: 316\n"
          ]
        }
      ],
      "source": [
        "expected_samples_per_class = len(train_entries)//4\n",
        "print(\"Number of expected images per class: \" + str(expected_samples_per_class) + '\\n')\n",
        "\n",
        "glioma_tumor = random.sample(glioma_samples, expected_samples_per_class)\n",
        "print(\"Number of sampled GLIOMA tumor images: \" + str(len(glioma_tumor)))\n",
        "\n",
        "meningioma_tumor = random.sample(meningioma_samples, expected_samples_per_class)\n",
        "print(\"Number of sampled MENINGIOMA tumor images: \" + str(len(meningioma_tumor)))\n",
        "\n",
        "pituitary_tumor = random.sample(meningioma_samples, expected_samples_per_class)\n",
        "print(\"Number of sampled PITUITARY tumor images: \" + str(len(pituitary_tumor)))\n",
        "\n",
        "negative_samples_needed = expected_samples_per_class - len(negative_samples)\n",
        "sampled_negative = random.sample(negative_samples, negative_samples_needed)\n",
        "print(\"\\nNumber of sampled NEGATIVE tumor images: \" + str(len(negative_samples)))\n",
        "print(\"Number of sampled NEGATIVE tumor images to perform augmentation: \" + str(len(sampled_negative)))\n"
      ]
    },
    {
      "attachments": {},
      "cell_type": "markdown",
      "metadata": {
        "id": "agEs6OeuXey2"
      },
      "source": [
        "# **Split the dataset**\n",
        "\n",
        "The following function split the dataset into training, validation and test sets, using the corresponding splitting percentage value 60%, 20% and 20%."
      ]
    },
    {
      "cell_type": "code",
      "execution_count": 41,
      "metadata": {
        "id": "qHtHgP9yXd_x"
      },
      "outputs": [],
      "source": [
        "import os\n",
        "import random\n",
        "import shutil\n",
        "\n",
        "# path to the preprocessed dataset\n",
        "base_path = \"/content/drive/MyDrive/DiDonato_Giorgi/Preprocessed/Unified\"\n",
        "\n",
        "# path to the train, test and validation folders\n",
        "test_path = \"/content/drive/MyDrive/DiDonato_Giorgi/Preprocessed/Test\"\n",
        "val_path = \"/content/drive/MyDrive/DiDonato_Giorgi/Preprocessed/Validation\"\n",
        "train_path = \"/content/drive/MyDrive/DiDonato_Giorgi/Preprocessed/Train\"\n",
        "\n",
        "os.makedirs(test_path, exist_ok=True)\n",
        "os.makedirs(val_path, exist_ok=True)\n",
        "os.makedirs(train_path, exist_ok=True)\n",
        "\n",
        "# complete path to each class\n",
        "class_paths = [os.path.join(base_path, c) for c in os.listdir(base_path)]\n",
        "\n",
        "for class_path in class_paths:\n",
        "    class_name = os.path.basename(class_path)\n",
        "\n",
        "    # create for each class the corresponding folder in the test, validation and train folders\n",
        "    os.makedirs(os.path.join(test_path, class_name), exist_ok=True)\n",
        "    os.makedirs(os.path.join(val_path, class_name), exist_ok=True)\n",
        "    os.makedirs(os.path.join(train_path, class_name), exist_ok=True)\n",
        "\n",
        "    # files in the current class\n",
        "    files = os.listdir(class_path)\n",
        "\n",
        "    # shuffle the files \n",
        "    random.shuffle(files)\n",
        "\n",
        "    # count the number of files in the current class and compute the number of files for each set (test, validation, train)\n",
        "    num_files = len(files)\n",
        "    num_test = int(0.2 * num_files)\n",
        "    num_val = int(0.2 * num_files)\n",
        "\n",
        "    # copy the files in the test set\n",
        "    test_files = files[:num_test]\n",
        "    for file in test_files:\n",
        "        src = os.path.join(class_path, file)\n",
        "        dst = os.path.join(test_path, class_name, file)\n",
        "        shutil.copyfile(src, dst)\n",
        "\n",
        "    # copy the files in the validation set\n",
        "    val_files = files[num_test:num_test+num_val]\n",
        "    for file in val_files:\n",
        "        src = os.path.join(class_path, file)\n",
        "        dst = os.path.join(val_path, class_name, file)\n",
        "        shutil.copyfile(src, dst)\n",
        "\n",
        "    # copy the files in the train set\n",
        "    train_files = files[num_test+num_val:]\n",
        "    for file in train_files:\n",
        "        src = os.path.join(class_path, file)\n",
        "        dst = os.path.join(train_path, class_name, file)\n",
        "        shutil.copyfile(src, dst)\n"
      ]
    },
    {
      "cell_type": "code",
      "execution_count": 42,
      "metadata": {
        "colab": {
          "base_uri": "https://localhost:8080/"
        },
        "id": "YYIfG85wX836",
        "outputId": "26fa8759-9295-4eca-8358-9e34eb976781"
      },
      "outputs": [
        {
          "name": "stdout",
          "output_type": "stream",
          "text": [
            "La sottocartella glioma_tumor contiene 556 file.\n",
            "La sottocartella meningioma_tumor contiene 563 file.\n",
            "La sottocartella no_tumor contiene 300 file.\n",
            "La sottocartella pituitary_tumor contiene 541 file.\n"
          ]
        }
      ],
      "source": [
        "# paths to the train, test and validation folders\n",
        "test_path = \"/content/drive/MyDrive/DiDonato_Giorgi/Preprocessed/Test\"\n",
        "val_path = \"/content/drive/MyDrive/DiDonato_Giorgi/Preprocessed/Validation\"\n",
        "train_path = \"/content/drive/MyDrive/DiDonato_Giorgi/Preprocessed/Train\"\n",
        "\n",
        "for subfolder in os.listdir(train_path):\n",
        "    subfolder_path = os.path.join(train_path, subfolder)\n",
        "    \n",
        "    # check if the current subfolder is a folder\n",
        "    if os.path.isdir(subfolder_path):\n",
        "        # get the list of files in the current subfolder\n",
        "        file_list = os.listdir(subfolder_path)\n",
        "        print(f\"La sottocartella {subfolder} contiene {len(file_list)} file.\")"
      ]
    },
    {
      "attachments": {},
      "cell_type": "markdown",
      "metadata": {
        "id": "luxNgmScPvo8"
      },
      "source": [
        "# **Data Augmentation**"
      ]
    },
    {
      "cell_type": "code",
      "execution_count": 46,
      "metadata": {
        "id": "hQD10bnPXQ9G"
      },
      "outputs": [],
      "source": [
        "def update_image(img):\n",
        "  if random.randint(0,1):\n",
        "    horizontal = random.randint(0,1)\n",
        "    if horizontal:\n",
        "      new_img = tf.image.flip_left_right(img)\n",
        "    else:\n",
        "      new_img = tf.image.flip_up_down(img)\n",
        "  else: \n",
        "    k = random.randint(1,3)\n",
        "    new_img = tf.image.rot90(img, k)\n",
        "\n",
        "  return np.asarray(new_img)"
      ]
    },
    {
      "cell_type": "code",
      "execution_count": 53,
      "metadata": {
        "id": "xwiDo_t8YQy0"
      },
      "outputs": [],
      "source": [
        "glioma_tumor_path = dataset_path + '/Preprocessed/Train/glioma_tumor/'\n",
        "meningioma_tumor_path = dataset_path + '/Preprocessed/Train/meningioma_tumor/'\n",
        "no_tumor_path = dataset_path + '/Preprocessed/Train/no_tumor/'\n",
        "pituitary_tumor_path = dataset_path + '/Preprocessed/Train/pituitary_tumor/'\n",
        "\n",
        "glioma_tumor_entries = os.listdir(glioma_tumor_path)\n",
        "meningioma_entries = os.listdir(meningioma_tumor_path)\n",
        "no_tumor_entries = os.listdir(no_tumor_path)\n",
        "pituitary_tumor_entries = os.listdir(pituitary_tumor_path)"
      ]
    },
    {
      "cell_type": "code",
      "execution_count": 50,
      "metadata": {
        "id": "-aYZyq-8YTnx"
      },
      "outputs": [],
      "source": [
        "# balance no tumor class\n",
        "no_tumor_random_entries = random.sample(no_tumor_entries, 300)\n",
        "\n",
        "i = len(no_tumor_entries) + 1 \n",
        "for entry in no_tumor_random_entries: # store cropped normal cell augmented images\n",
        "  img = cv2.imread(no_tumor_path + entry)\n",
        "  augmented_img = update_image(img)\n",
        "  cv2.imwrite(no_tumor_path + 'A_no_tumor_' + str(i) + '.jpg', augmented_img)\n",
        "  i = i + 1"
      ]
    },
    {
      "cell_type": "code",
      "execution_count": 54,
      "metadata": {
        "id": "0AFghC6MWOlr"
      },
      "outputs": [],
      "source": [
        "glioma_tumor_entries = os.listdir(glioma_tumor_path)\n",
        "meningioma_entries = os.listdir(meningioma_tumor_path)\n",
        "no_tumor_entries = os.listdir(no_tumor_path)\n",
        "pituitary_tumor_entries = os.listdir(pituitary_tumor_path)\n",
        "\n",
        "i = len(glioma_tumor_entries) + 1 \n",
        "for entry in glioma_tumor_entries: # store cropped normal cell augmented images\n",
        "  img = cv2.imread(glioma_tumor_path + entry)\n",
        "  augmented_img = update_image(img)\n",
        "  cv2.imwrite(glioma_tumor_path + 'A_glioma_tumor_' + str(i) + '.jpg', augmented_img)\n",
        "  i = i + 1\n",
        "\n",
        "i = len(meningioma_entries) + 1 \n",
        "for entry in meningioma_entries: # store cropped normal cell augmented images\n",
        "  img = cv2.imread(meningioma_tumor_path + entry)\n",
        "  augmented_img = update_image(img)\n",
        "  cv2.imwrite(meningioma_tumor_path + 'A_meningioma_tumor_' + str(i) + '.jpg', augmented_img)\n",
        "  i = i + 1\n",
        "\n",
        "i = len(no_tumor_entries) + 1 \n",
        "for entry in no_tumor_entries: # store cropped normal cell augmented images\n",
        "  img = cv2.imread(no_tumor_path + entry)\n",
        "  augmented_img = update_image(img)\n",
        "  cv2.imwrite(no_tumor_path + 'A_no_tumor_' + str(i) + '.jpg', augmented_img)\n",
        "  i = i + 1\n",
        "\n",
        "i = len(pituitary_tumor_entries) + 1 \n",
        "for entry in pituitary_tumor_entries: # store cropped normal cell augmented images\n",
        "  img = cv2.imread(pituitary_tumor_path + entry)\n",
        "  augmented_img = update_image(img)\n",
        "  cv2.imwrite(pituitary_tumor_path + 'A_pituitary_tumor_' + str(i) + '.jpg', augmented_img)\n",
        "  i = i + 1"
      ]
    },
    {
      "attachments": {},
      "cell_type": "markdown",
      "metadata": {
        "id": "SPhIvoB8cx5w"
      },
      "source": [
        "# **Class balance analysis - AFTER data Augmentation**\n",
        "\n",
        "We created a histogram to analyze the balance of the classes."
      ]
    },
    {
      "cell_type": "code",
      "execution_count": 55,
      "metadata": {
        "id": "W-KD3BXecx5w"
      },
      "outputs": [],
      "source": [
        "glioma_tumor_path = dataset_path + '/Preprocessed/Train/glioma_tumor/'\n",
        "meningioma_tumor_path = dataset_path + '/Preprocessed/Train/meningioma_tumor/'\n",
        "no_tumor_path = dataset_path + '/Preprocessed/Train/no_tumor/'\n",
        "pituitary_tumor_path = dataset_path + '/Preprocessed/Train/pituitary_tumor/'\n",
        "\n",
        "glioma_tumor_entries = os.listdir(glioma_tumor_path)\n",
        "meningioma_entries = os.listdir(meningioma_tumor_path)\n",
        "no_tumor_entries = os.listdir(no_tumor_path)\n",
        "pituitary_tumor_entries = os.listdir(pituitary_tumor_path)\n",
        "\n",
        "train_entries = glioma_tumor_entries + meningioma_entries + no_tumor_entries + pituitary_tumor_entries"
      ]
    },
    {
      "cell_type": "code",
      "execution_count": 56,
      "metadata": {
        "colab": {
          "base_uri": "https://localhost:8080/",
          "height": 472
        },
        "id": "Vu8si827cx5w",
        "outputId": "04c0266c-c83f-46a0-8b7e-286412ffe8ea"
      },
      "outputs": [
        {
          "data": {
            "image/png": "[encoded data removed]",
            "text/plain": [
              "<Figure size 640x480 with 1 Axes>"
            ]
          },
          "metadata": {},
          "output_type": "display_data"
        }
      ],
      "source": [
        "glioma_samples = [entry for entry in train_entries if 'glioma' in entry]\n",
        "meningioma_samples = [entry for entry in train_entries if 'meningioma' in entry]\n",
        "negative_samples = [entry for entry in train_entries if 'no' in entry]\n",
        "pituitary_samples = [entry for entry in train_entries if 'pituitary' in entry]\n",
        "\n",
        "# create a list of labels for each class\n",
        "glioma_labels = ['Glioma'] * len(glioma_samples)\n",
        "meningioma_labels = ['Meningioma'] * len(meningioma_samples)\n",
        "negative_labels = ['Negative'] * len(negative_samples)\n",
        "pituitary_labels = ['Pituitary'] * len(pituitary_samples)\n",
        "\n",
        "# unify all labels in a single list\n",
        "labels = glioma_labels + meningioma_labels + negative_labels + pituitary_labels\n",
        "\n",
        "# create histogram of labels\n",
        "fig, ax = plt.subplots()\n",
        "ax.hist(labels)\n",
        "\n",
        "# add labels to the histogram\n",
        "ax.set_xticks(['Glioma', 'Meningioma', 'Negative', 'Pituitary'])\n",
        "ax.set_xlabel('Class')\n",
        "ax.set_ylabel('Number of samples')\n",
        "ax.set_title('Distribution of the train set')\n",
        "\n",
        "plt.show()"
      ]
    }
  ],
  "metadata": {
    "accelerator": "GPU",
    "colab": {
      "authorship_tag": "ABX9TyNa8KAcjFbKh5oxin0gV70j",
      "collapsed_sections": [
        "NDz3ICSorQXo",
        "ZwlSNE9-sdY6",
        "fn-xN03DcP5Y",
        "luxNgmScPvo8",
        "SPhIvoB8cx5w"
      ],
      "gpuType": "T4",
      "include_colab_link": true,
      "provenance": []
    },
    "gpuClass": "standard",
    "kernelspec": {
      "display_name": "Python 3",
      "name": "python3"
    },
    "language_info": {
      "name": "python"
    }
  },
  "nbformat": 4,
  "nbformat_minor": 0
}

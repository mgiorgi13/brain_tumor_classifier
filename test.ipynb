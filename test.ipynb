{
  "cells": [
    {
      "cell_type": "markdown",
      "source": [
        "# **Introduction**\n",
        "\n",
        "In this Jupiter notebook, you are creating a Convolutional Neural Network (CNN) using TensorFlow and Keras to classify brain MRI images. The goal is to detect potential brain tumors through the analysis of MRI images. In this section, we import the necessary libraries to create the CNN and load the images."
      ],
      "metadata": {
        "id": "6cMJ4qrdrEZs"
      }
    },
    {
      "cell_type": "markdown",
      "source": [
        "# **Importing Libraries**\n",
        "\n",
        "In this paragraph, we have imported the necessary libraries to create the CNN. TensorFlow and Keras are the main frameworks that we will use to create the convolutional neural network. Additionally, we have imported other useful libraries such as OpenCV (cv2) for image preprocessing, PIL for image manipulation, and Matplotlib for image visualization."
      ],
      "metadata": {
        "id": "NDz3ICSorQXo"
      }
    },
    {
      "cell_type": "code",
      "source": [
        "import tensorflow as tf\n",
        "from tqdm import tqdm\n",
        "from tensorflow import keras\n",
        "from sklearn.model_selection import train_test_split\n",
        "from tensorflow.keras.models import Model, Sequential\n",
        "from tensorflow.keras.layers import Conv2D, MaxPooling2D, AveragePooling2D, GlobalAveragePooling2D\n",
        "from tensorflow.keras.layers import Input, Dense, Dropout, Flatten, Activation,Concatenate, BatchNormalization\n",
        "import os\n",
        "import glob\n",
        "import shutil\n",
        "from sklearn.utils import shuffle\n",
        "import zipfile\n",
        "import cv2\n",
        "import imutils\n",
        "from google.colab.patches import cv2_imshow\n",
        "from tensorflow.keras import layers\n",
        "from tensorflow.keras import optimizers\n",
        "from tensorflow.keras.utils import image_dataset_from_directory\n",
        "from PIL import Image\n",
        "from matplotlib.pyplot import imshow\n",
        "from tensorflow.keras.preprocessing.image import ImageDataGenerator\n",
        "import numpy as np\n",
        "import random\n",
        "import math\n",
        "import matplotlib.pyplot as plt"
      ],
      "metadata": {
        "id": "7qv94seOl4RA"
      },
      "execution_count": 6,
      "outputs": []
    },
    {
      "cell_type": "markdown",
      "source": [
        "# **Fetch data**\n",
        "\n",
        "In the following code snippet, we are mounting the Google Drive to access the dataset required for training the CNN. We use the **drive.mount** function from the **google.colab** library to mount the drive.\n"
      ],
      "metadata": {
        "id": "ptWSxT3Lr1K1"
      }
    },
    {
      "cell_type": "code",
      "source": [
        "# mount drive \n",
        "from google.colab import drive\n",
        "drive.mount('/content/drive', force_remount=True)"
      ],
      "metadata": {
        "id": "Y28jDvT0ou8Z",
        "outputId": "81486985-12fa-41c9-a432-f5817017dc5d",
        "colab": {
          "base_uri": "https://localhost:8080/"
        }
      },
      "execution_count": 7,
      "outputs": [
        {
          "output_type": "stream",
          "name": "stdout",
          "text": [
            "Mounted at /content/drive\n"
          ]
        }
      ]
    },
    {
      "cell_type": "code",
      "source": [
        "# Use this in case of error in code, delete folder and repeat data fetching\n",
        "#shutil.rmtree('/content/drive/MyDrive/BrainTumorDataset')"
      ],
      "metadata": {
        "id": "wCkxDPVpqbZm"
      },
      "execution_count": 8,
      "outputs": []
    },
    {
      "cell_type": "markdown",
      "source": [
        "Afterward, we extract the dataset from a zip folder using the **zipfile** library's."
      ],
      "metadata": {
        "id": "bMDNjC55o0bP"
      }
    },
    {
      "cell_type": "code",
      "source": [
        "# Extract zip folder of data\n",
        "with zipfile.ZipFile(\"/content/drive/MyDrive/BrainTumorClassificationMRI.zip\", 'r') as zip_ref:\n",
        "    zip_ref.extractall(\"/content/drive/MyDrive/BrainTumorDataset\")"
      ],
      "metadata": {
        "id": "RrO02GAjl1Hu"
      },
      "execution_count": 9,
      "outputs": []
    },
    {
      "cell_type": "code",
      "source": [
        "dataset_path = \"/content/drive/MyDrive/BrainTumorDataset\""
      ],
      "metadata": {
        "id": "wAp6lCRlmpYg"
      },
      "execution_count": 10,
      "outputs": []
    },
    {
      "cell_type": "markdown",
      "source": [
        "# **Folder reorganization**\n",
        "\n",
        "The next code snippet renames the image files in the training and testing folders by adding the subfolder name and an incrementing number to the filename. "
      ],
      "metadata": {
        "id": "ZwlSNE9-sdY6"
      }
    },
    {
      "cell_type": "code",
      "source": [
        "# class list\n",
        "classes = ['glioma_tumor', 'meningioma_tumor', 'no_tumor', 'pituitary_tumor']"
      ],
      "metadata": {
        "id": "10oVwaAgqAwZ"
      },
      "execution_count": 14,
      "outputs": []
    },
    {
      "cell_type": "code",
      "source": [
        "class_dimensions = {} # list of counters, one for each class\n",
        "for cls in classes:\n",
        "  class_dimensions[cls] = 0\n",
        "  \n",
        "# go into training folder and then into each subfolder and rename files with folder name plus incrementing number\n",
        "os.chdir('/content/drive/MyDrive/BrainTumorDataset/Training')\n",
        "for folder in glob.glob('*'):\n",
        "    os.chdir(folder)\n",
        "    i = 1\n",
        "    for file in glob.glob('*'):\n",
        "        # get file extension\n",
        "        ext = file.split('.')[1]\n",
        "        os.rename(file, folder + '_' + str(i) + '.' + ext)\n",
        "        i += 1\n",
        "    class_dimensions[folder] = i-1\n",
        "    os.chdir('..')\n",
        "\n",
        "# go into testing folder and then into each subfolder and rename files with folder name plus incrementing number\n",
        "os.chdir('/content/drive/MyDrive/BrainTumorDataset/Testing')\n",
        "for folder in glob.glob('*'):\n",
        "    os.chdir(folder)\n",
        "    i = class_dimensions[folder] + 1 # start from previous counter to have incremental ID for each image\n",
        "    for file in glob.glob('*'):\n",
        "        # get file extension\n",
        "        ext = file.split('.')[1]\n",
        "        os.rename(file, folder + '_' + str(i) + '.' + ext)\n",
        "        i += 1\n",
        "    class_dimensions[folder] = i-1\n",
        "    os.chdir('..')\n",
        "\n",
        "print(class_dimensions)"
      ],
      "metadata": {
        "id": "Jj3ZIZAz_u6Y",
        "colab": {
          "base_uri": "https://localhost:8080/"
        },
        "outputId": "91ff33e0-214d-4b13-e80a-a73562ba866c"
      },
      "execution_count": 15,
      "outputs": [
        {
          "output_type": "stream",
          "name": "stdout",
          "text": [
            "{'glioma_tumor': 926, 'meningioma_tumor': 937, 'no_tumor': 500, 'pituitary_tumor': 901}\n"
          ]
        }
      ]
    },
    {
      "cell_type": "markdown",
      "source": [
        "This following code snippet creates a unified dataset directory with subfolders for each class required for training the CNN."
      ],
      "metadata": {
        "id": "OyYqR-tIuhQ0"
      }
    },
    {
      "cell_type": "code",
      "source": [
        "training_path = dataset_path + '/Training'\n",
        "testing_path = dataset_path + '/Testing'\n",
        "\n",
        "if os.path.exists(dataset_path + '/Preprocessed/Unified'):\n",
        "  shutil.rmtree(dataset_path + '/Preprocessed')\n",
        "\n",
        "os.makedirs(dataset_path + '/Preprocessed/Unified')\n",
        "\n",
        "# Copia le sottocartelle delle classi da train a dataset con sovrascrittura\n",
        "for cls in classes:\n",
        "  src_path = os.path.join(training_path, cls)\n",
        "  dst_path = os.path.join(dataset_path + '/Preprocessed/Unified', cls)\n",
        "  shutil.copytree(src_path, dst_path, dirs_exist_ok=True)\n",
        "\n",
        "# Copia le sottocartelle delle classi da test a dataset con sovrascrittura\n",
        "for cls in classes:\n",
        "  src_path = os.path.join(testing_path, cls)\n",
        "  dst_path = os.path.join(dataset_path + '/Preprocessed/Unified', cls)\n",
        "  shutil.copytree(src_path, dst_path, dirs_exist_ok=True)\n"
      ],
      "metadata": {
        "id": "eJqi5UIW0uD8"
      },
      "execution_count": 16,
      "outputs": []
    },
    {
      "cell_type": "markdown",
      "source": [
        "# **Split the dataset**\n",
        "\n",
        "The following function split the dataset into training, validation and test sets, using the corresponding splitting percentage value 60%, 20% and 20%."
      ],
      "metadata": {
        "id": "cIqgwPG2ast9"
      }
    },
    {
      "cell_type": "code",
      "source": [
        "train_percentage = 0.6\n",
        "val_percentage = 0.2\n",
        "test_percentage = 0.2\n",
        "\n",
        "for cls in classes:\n",
        "  path = dataset_path + '/Preprocessed/Unified/' + cls\n",
        "  partial_ds = os.listdir(path)\n",
        "  random.shuffle(partial_ds)\n",
        "\n",
        "  train_size = int(train_percentage * len(partial_ds))\n",
        "  val_size = int(val_percentage * len(partial_ds))\n",
        "\n",
        "  train_set = partial_ds[0:train_size]\n",
        "  val_set = partial_ds[train_size:train_size+val_size]\n",
        "  test_set = partial_ds[train_size+val_size:class_dimensions[cls]]\n",
        "\n",
        "  print(\"Dimension for \",cls)\n",
        "  print(\"Train set dimension: \", len(train_set))\n",
        "  print(\"Validation set dimension: \", len(val_set))\n",
        "  print(\"Test set dimension: \", len(test_set))\n",
        "  print(\"Partial set dimension: \", len(partial_ds))\n",
        "  print('-----------------------------------')\n",
        "\n",
        "  os.makedirs(dataset_path + '/Preprocessed/Training/' + cls)\n",
        "  os.makedirs(dataset_path + '/Preprocessed/Validating/' + cls)\n",
        "  os.makedirs(dataset_path + '/Preprocessed/Testing/' + cls)\n",
        "\n",
        "  for file_name in train_set:\n",
        "    src = os.path.join(path, file_name)\n",
        "    dst = os.path.join(dataset_path + '/Preprocessed/Training/' + cls, file_name)\n",
        "    shutil.copyfile(src, dst)\n",
        "  \n",
        "  for file_name in val_set:\n",
        "    src = os.path.join(path, file_name)\n",
        "    dst = os.path.join(dataset_path + '/Preprocessed/Validating/' + cls, file_name)\n",
        "    shutil.copyfile(src, dst)\n",
        "\n",
        "  for file_name in test_set:\n",
        "    src = os.path.join(path, file_name)\n",
        "    dst = os.path.join(dataset_path + '/Preprocessed/Testing/' + cls, file_name)\n",
        "    shutil.copyfile(src, dst)\n",
        "\n"
      ],
      "metadata": {
        "id": "asgpjR8dxIgM",
        "colab": {
          "base_uri": "https://localhost:8080/",
          "height": 453
        },
        "outputId": "353a8daf-2240-4a34-a7b2-ad9ef6490167"
      },
      "execution_count": 19,
      "outputs": [
        {
          "output_type": "stream",
          "name": "stdout",
          "text": [
            "Dimension for  glioma_tumor\n",
            "Train set dimension:  555\n",
            "Validation set dimension:  185\n",
            "Test set dimension:  186\n",
            "Partial set dimension:  926\n",
            "-----------------------------------\n"
          ]
        },
        {
          "output_type": "error",
          "ename": "FileExistsError",
          "evalue": "ignored",
          "traceback": [
            "\u001b[0;31m---------------------------------------------------------------------------\u001b[0m",
            "\u001b[0;31mFileExistsError\u001b[0m                           Traceback (most recent call last)",
            "\u001b[0;32m<ipython-input-19-0a57e96f4f3a>\u001b[0m in \u001b[0;36m<cell line: 5>\u001b[0;34m()\u001b[0m\n\u001b[1;32m     22\u001b[0m   \u001b[0mprint\u001b[0m\u001b[0;34m(\u001b[0m\u001b[0;34m'-----------------------------------'\u001b[0m\u001b[0;34m)\u001b[0m\u001b[0;34m\u001b[0m\u001b[0;34m\u001b[0m\u001b[0m\n\u001b[1;32m     23\u001b[0m \u001b[0;34m\u001b[0m\u001b[0m\n\u001b[0;32m---> 24\u001b[0;31m   \u001b[0mos\u001b[0m\u001b[0;34m.\u001b[0m\u001b[0mmakedirs\u001b[0m\u001b[0;34m(\u001b[0m\u001b[0mdataset_path\u001b[0m \u001b[0;34m+\u001b[0m \u001b[0;34m'/Preprocessed/Training/'\u001b[0m \u001b[0;34m+\u001b[0m \u001b[0mcls\u001b[0m\u001b[0;34m)\u001b[0m\u001b[0;34m\u001b[0m\u001b[0;34m\u001b[0m\u001b[0m\n\u001b[0m\u001b[1;32m     25\u001b[0m   \u001b[0mos\u001b[0m\u001b[0;34m.\u001b[0m\u001b[0mmakedirs\u001b[0m\u001b[0;34m(\u001b[0m\u001b[0mdataset_path\u001b[0m \u001b[0;34m+\u001b[0m \u001b[0;34m'/Preprocessed/Validating/'\u001b[0m \u001b[0;34m+\u001b[0m \u001b[0mcls\u001b[0m\u001b[0;34m)\u001b[0m\u001b[0;34m\u001b[0m\u001b[0;34m\u001b[0m\u001b[0m\n\u001b[1;32m     26\u001b[0m   \u001b[0mos\u001b[0m\u001b[0;34m.\u001b[0m\u001b[0mmakedirs\u001b[0m\u001b[0;34m(\u001b[0m\u001b[0mdataset_path\u001b[0m \u001b[0;34m+\u001b[0m \u001b[0;34m'/Preprocessed/Testing/'\u001b[0m \u001b[0;34m+\u001b[0m \u001b[0mcls\u001b[0m\u001b[0;34m)\u001b[0m\u001b[0;34m\u001b[0m\u001b[0;34m\u001b[0m\u001b[0m\n",
            "\u001b[0;32m/usr/lib/python3.10/os.py\u001b[0m in \u001b[0;36mmakedirs\u001b[0;34m(name, mode, exist_ok)\u001b[0m\n\u001b[1;32m    223\u001b[0m             \u001b[0;32mreturn\u001b[0m\u001b[0;34m\u001b[0m\u001b[0;34m\u001b[0m\u001b[0m\n\u001b[1;32m    224\u001b[0m     \u001b[0;32mtry\u001b[0m\u001b[0;34m:\u001b[0m\u001b[0;34m\u001b[0m\u001b[0;34m\u001b[0m\u001b[0m\n\u001b[0;32m--> 225\u001b[0;31m         \u001b[0mmkdir\u001b[0m\u001b[0;34m(\u001b[0m\u001b[0mname\u001b[0m\u001b[0;34m,\u001b[0m \u001b[0mmode\u001b[0m\u001b[0;34m)\u001b[0m\u001b[0;34m\u001b[0m\u001b[0;34m\u001b[0m\u001b[0m\n\u001b[0m\u001b[1;32m    226\u001b[0m     \u001b[0;32mexcept\u001b[0m \u001b[0mOSError\u001b[0m\u001b[0;34m:\u001b[0m\u001b[0;34m\u001b[0m\u001b[0;34m\u001b[0m\u001b[0m\n\u001b[1;32m    227\u001b[0m         \u001b[0;31m# Cannot rely on checking for EEXIST, since the operating system\u001b[0m\u001b[0;34m\u001b[0m\u001b[0;34m\u001b[0m\u001b[0m\n",
            "\u001b[0;31mFileExistsError\u001b[0m: [Errno 17] File exists: '/content/drive/MyDrive/BrainTumorDataset/Preprocessed/Training/glioma_tumor'"
          ]
        }
      ]
    },
    {
      "cell_type": "markdown",
      "source": [
        "Get all training data entries to perform a class distribution analysis"
      ],
      "metadata": {
        "id": "Py0w59LLbu5W"
      }
    },
    {
      "cell_type": "code",
      "source": [
        "glioma_tumor_path = dataset_path + '/Preprocessed/Training/glioma_tumor'\n",
        "meningioma_tumor_path = dataset_path + '/Preprocessed/Training/meningioma_tumor'\n",
        "no_tumor_path = dataset_path + '/Preprocessed/Training/no_tumor'\n",
        "pituitary_tumor_path = dataset_path + '/Preprocessed/Training/pituitary_tumor'\n",
        "\n",
        "glioma_tumor_entries = os.listdir(glioma_tumor_path)\n",
        "meningioma_entries = os.listdir(meningioma_tumor_path)\n",
        "no_tumor_entries = os.listdir(no_tumor_path)\n",
        "pituitary_tumor_entries = os.listdir(pituitary_tumor_path)\n",
        "\n",
        "train_entries = glioma_tumor_entries + meningioma_entries + no_tumor_entries + pituitary_tumor_entries\n"
      ],
      "metadata": {
        "id": "ITA8iboSXOxv"
      },
      "execution_count": 20,
      "outputs": []
    },
    {
      "cell_type": "markdown",
      "source": [
        "# **Class balance analysis**\n",
        "\n",
        "We created a histogram to analyze the balance of the classes"
      ],
      "metadata": {
        "id": "fn-xN03DcP5Y"
      }
    },
    {
      "cell_type": "code",
      "source": [
        "glioma_samples = [entry for entry in train_entries if 'glioma' in entry]\n",
        "meningioma_samples = [entry for entry in train_entries if 'meningioma' in entry]\n",
        "negative_samples = [entry for entry in train_entries if 'no' in entry]\n",
        "pituitary_samples = [entry for entry in train_entries if 'pituitary' in entry]\n",
        "\n",
        "# Creo la lista dei label per la classe positiva\n",
        "glioma_labels = ['Glioma'] * len(glioma_samples)\n",
        "\n",
        "# Creo la lista dei label per la classe negativa\n",
        "meningioma_labels = ['Meningioma'] * len(meningioma_samples)\n",
        "\n",
        "# Creo la lista dei label per la classe positiva\n",
        "negative_labels = ['Negative'] * len(negative_samples)\n",
        "\n",
        "# Creo la lista dei label per la classe negativa\n",
        "pituitary_labels = ['Pituitary'] * len(pituitary_samples)\n",
        "\n",
        "# Unisco le due liste\n",
        "labels = glioma_labels + meningioma_labels + negative_labels + pituitary_labels\n",
        "\n",
        "# Creo l'istogramma\n",
        "fig, ax = plt.subplots()\n",
        "ax.hist(labels)\n",
        "\n",
        "# Aggiungo le etichette\n",
        "ax.set_xticks(['Glioma', 'Meningioma', 'Negative', 'Pituitary'])\n",
        "ax.set_xlabel('Class')\n",
        "ax.set_ylabel('Number of samples')\n",
        "ax.set_title('Distribution of the train set')\n",
        "\n",
        "plt.show()"
      ],
      "metadata": {
        "colab": {
          "base_uri": "https://localhost:8080/",
          "height": 472
        },
        "id": "0q6ZfeJeyoii",
        "outputId": "836f5db1-a854-491f-fc35-c813f3c8e501"
      },
      "execution_count": 21,
      "outputs": [
        {
          "output_type": "display_data",
          "data": {
            "text/plain": [
              "<Figure size 640x480 with 1 Axes>"
            ],
            "image/png": "[encoded data removed]"
          },
          "metadata": {}
        }
      ]
    },
    {
      "cell_type": "markdown",
      "source": [
        "At this point we calculate how many entries we have to consdier for each class and then we calculate, if needed, how many images we have to generate with data augmentation for the minority class."
      ],
      "metadata": {
        "id": "YXzeHeeryHCV"
      }
    },
    {
      "cell_type": "code",
      "source": [
        "expected_samples_per_class = len(train_entries)//4\n",
        "print(\"Number of expected images per class: \" + str(expected_samples_per_class) + '\\n')\n",
        "\n",
        "glioma_tumor = random.sample(glioma_samples, expected_samples_per_class)\n",
        "print(\"Number of sampled GLIOMA tumor images: \" + str(len(glioma_tumor)))\n",
        "\n",
        "meningioma_tumor = random.sample(meningioma_samples, expected_samples_per_class)\n",
        "print(\"Number of sampled MENINGIOMA tumor images: \" + str(len(meningioma_tumor)))\n",
        "\n",
        "pituitary_tumor = random.sample(meningioma_samples, expected_samples_per_class)\n",
        "print(\"Number of sampled PITUITARY tumor images: \" + str(len(pituitary_tumor)))\n",
        "\n",
        "negative_samples_needed = expected_samples_per_class - len(negative_samples)\n",
        "sampled_negative = random.sample(negative_samples, negative_samples_needed)\n",
        "print(\"\\nNumber of sampled NEGATIVE tumor images: \" + str(len(negative_samples)))\n",
        "print(\"Number of sampled NEGATIVE tumor images to perform augmentation: \" + str(len(sampled_negative)))\n"
      ],
      "metadata": {
        "colab": {
          "base_uri": "https://localhost:8080/"
        },
        "id": "yFdqMfPCs9ET",
        "outputId": "94560b5d-c6f9-4734-fb86-f1aa2c5a48d1"
      },
      "execution_count": 22,
      "outputs": [
        {
          "output_type": "stream",
          "name": "stdout",
          "text": [
            "Number of expected images per class: 489\n",
            "\n",
            "Number of sampled GLIOMA tumor images: 489\n",
            "Number of sampled MENINGIOMA tumor images: 489\n",
            "Number of sampled PITUITARY tumor images: 489\n",
            "\n",
            "Number of sampled NEGATIVE tumor images: 300\n",
            "Number of sampled NEGATIVE tumor images to perform augmentation: 189\n"
          ]
        }
      ]
    },
    {
      "cell_type": "markdown",
      "source": [
        "# **TO DO**"
      ],
      "metadata": {
        "id": "IYO5Syam0tUG"
      }
    },
    {
      "cell_type": "code",
      "source": [
        "labels = ['glioma_tumor', 'meningioma_tumor', 'no_tumor', 'pituitary_tumor']\n",
        "X_train = []\n",
        "y_train = []\n",
        "X_test = []\n",
        "y_test = []\n",
        "image_size = 120\n",
        "for lb in labels:\n",
        "    folderPath = os.path.join('/content/drive/MyDrive/BrainTumorDataset/Preprocessed/Training', lb)\n",
        "    for j in tqdm(os.listdir(folderPath)):\n",
        "        img = cv2.imread(os.path.join(folderPath,j))\n",
        "        img = cv2.resize(img,(image_size, image_size))\n",
        "        X_train.append(img)\n",
        "        y_train.append(lb)\n",
        "        \n",
        "for lb in labels:\n",
        "    folderPath = os.path.join('/content/drive/MyDrive/BrainTumorDataset/Preprocessed/Testing', lb)\n",
        "    for j in tqdm(os.listdir(folderPath)):\n",
        "        img = cv2.imread(os.path.join(folderPath,j))\n",
        "        img = cv2.resize(img,(image_size,image_size))\n",
        "        X_test.append(img)\n",
        "        y_test.append(lb)\n",
        "        \n",
        "X_train = np.array(X_train)\n",
        "y_train = np.array(y_train)\n",
        "\n",
        "X_test = np.array(X_test)\n",
        "y_test = np.array(y_test)\n"
      ],
      "metadata": {
        "colab": {
          "base_uri": "https://localhost:8080/"
        },
        "id": "8_nTsXR1W-7g",
        "outputId": "9715f395-c9a7-4791-9cc1-6f270377c994"
      },
      "execution_count": 23,
      "outputs": [
        {
          "output_type": "stream",
          "name": "stderr",
          "text": [
            "100%|██████████| 555/555 [00:03<00:00, 146.84it/s]\n",
            "100%|██████████| 562/562 [00:02<00:00, 187.46it/s]\n",
            "100%|██████████| 300/300 [00:02<00:00, 121.85it/s]\n",
            "100%|██████████| 540/540 [00:03<00:00, 142.53it/s]\n",
            "100%|██████████| 186/186 [00:00<00:00, 191.25it/s]\n",
            "100%|██████████| 188/188 [00:01<00:00, 152.53it/s]\n",
            "100%|██████████| 100/100 [00:00<00:00, 175.80it/s]\n",
            "100%|██████████| 181/181 [00:01<00:00, 138.37it/s]\n"
          ]
        }
      ]
    },
    {
      "cell_type": "code",
      "source": [
        "X_train, y_train = shuffle(X_train,y_train, random_state=14)\n",
        "\n",
        "X_train.shape\n",
        "\n",
        "X_test.shape"
      ],
      "metadata": {
        "colab": {
          "base_uri": "https://localhost:8080/"
        },
        "id": "fLPGJB0UYez6",
        "outputId": "1a805d1b-436f-4e92-e7c6-56f20767aa48"
      },
      "execution_count": 24,
      "outputs": [
        {
          "output_type": "execute_result",
          "data": {
            "text/plain": [
              "(655, 120, 120, 3)"
            ]
          },
          "metadata": {},
          "execution_count": 24
        }
      ]
    },
    {
      "cell_type": "code",
      "source": [
        "y_train_new = []\n",
        "for i in y_train:\n",
        "    y_train_new.append(labels.index(i))\n",
        "y_train = y_train_new\n",
        "y_train = tf.keras.utils.to_categorical(y_train,4)\n",
        "\n",
        "\n",
        "y_test_new = []\n",
        "for i in y_test:\n",
        "    y_test_new.append(labels.index(i))\n",
        "y_test = y_test_new\n",
        "y_test = tf.keras.utils.to_categorical(y_test,4)"
      ],
      "metadata": {
        "id": "V1DgheHsY1UR"
      },
      "execution_count": 25,
      "outputs": []
    },
    {
      "cell_type": "code",
      "source": [
        "X_train,X_val,y_train,y_val = train_test_split(X_train,y_train, test_size=0.1,random_state=14)"
      ],
      "metadata": {
        "id": "dZjI_p8GZ2O4"
      },
      "execution_count": 26,
      "outputs": []
    },
    {
      "cell_type": "code",
      "source": [
        "X_train = np.array(X_train) / 255."
      ],
      "metadata": {
        "id": "qWd1LGIdfDqE"
      },
      "execution_count": 27,
      "outputs": []
    },
    {
      "cell_type": "code",
      "source": [
        "X_val = np.array(X_val) / 255."
      ],
      "metadata": {
        "id": "ZRIt7FuZfHDm"
      },
      "execution_count": 28,
      "outputs": []
    },
    {
      "cell_type": "code",
      "source": [
        "X_test = np.array(X_test) / 255."
      ],
      "metadata": {
        "id": "xhhY_e7qaE5l"
      },
      "execution_count": 29,
      "outputs": []
    },
    {
      "cell_type": "code",
      "source": [
        "from tensorflow.keras.preprocessing.image import ImageDataGenerator\n",
        "\n",
        "datagen = ImageDataGenerator(\n",
        "        featurewise_center=False,  # set input mean to 0 over the dataset\n",
        "        samplewise_center=False,  # set each sample mean to 0\n",
        "        featurewise_std_normalization=False,  # divide inputs by std of the dataset\n",
        "        samplewise_std_normalization=False,  # divide each input by its std\n",
        "        zca_whitening=False,  # apply ZCA whitening\n",
        "        rotation_range=10,  # randomly rotate images in the range (degrees, 0 to 180)\n",
        "        zoom_range=0.1,  # Randomly zoom image \n",
        "        width_shift_range=0.1,  # randomly shift images horizontally (fraction of total width)\n",
        "        height_shift_range=0.1,  # randomly shift images vertically (fraction of total height)\n",
        "        horizontal_flip=True,  # randomly flip images\n",
        "        vertical_flip=False)  # randomly flip images\n",
        "\n",
        "datagen.fit(X_train)\n"
      ],
      "metadata": {
        "id": "OWVzFD4u4Jye"
      },
      "execution_count": null,
      "outputs": []
    },
    {
      "cell_type": "code",
      "source": [
        "from keras.models import Sequential\n",
        "from keras.layers import Conv2D, MaxPooling2D, Flatten, Dense, Dropout\n",
        "\n",
        "# Definire un modello sequenziale di Keras\n",
        "model = Sequential()\n",
        "\n",
        "# Aggiungere un layer convoluzionale con 32 filtri, dimensione del kernel di 3x3, funzione di attivazione ReLU e padding \"same\"\n",
        "model.add(Conv2D(32, (3, 3), activation='relu', padding='same', input_shape=(120, 120, 3)))\n",
        "\n",
        "# Aggiungere un layer di max pooling con dimensione 2x2\n",
        "model.add(MaxPooling2D((2, 2)))\n",
        "\n",
        "# Aggiungere un altro layer convoluzionale con 64 filtri, dimensione del kernel di 3x3, funzione di attivazione ReLU e padding \"same\"\n",
        "model.add(Conv2D(64, (3, 3), activation='relu', padding='same'))\n",
        "\n",
        "# Aggiungere un altro layer di max pooling con dimensione 2x2\n",
        "model.add(MaxPooling2D((2, 2)))\n",
        "\n",
        "# Aggiungere un altro layer convoluzionale con 128 filtri, dimensione del kernel di 3x3, funzione di attivazione ReLU e padding \"same\"\n",
        "model.add(Conv2D(128, (3, 3), activation='relu', padding='same'))\n",
        "\n",
        "# Aggiungere un altro layer di max pooling con dimensione 2x2\n",
        "model.add(MaxPooling2D((2, 2)))\n",
        "\n",
        "# Aggiungere un layer di appiattimento per convertire l'output del layer precedente in un vettore unidimensionale\n",
        "model.add(Flatten())\n",
        "\n",
        "# Aggiungere un layer completamente connesso con 512 unità e funzione di attivazione ReLU\n",
        "model.add(Dense(512, activation='relu'))\n",
        "\n",
        "# Aggiungere un layer di dropout con una percentuale di dropout di 0,5\n",
        "model.add(Dropout(0.5))\n",
        "\n",
        "# Aggiungere un altro layer completamente connesso con 4 unità (una per ogni classe) e funzione di attivazione softmax\n",
        "model.add(Dense(4, activation='softmax'))\n",
        "\n",
        "# Compilare il modello con la funzione di loss \"categorical_crossentropy\" e l'ottimizzatore \"adam\"\n",
        "model.compile(loss='categorical_crossentropy', optimizer='adam', metrics=['accuracy'])\n",
        "\n",
        "# Stampa il riepilogo del modello\n",
        "model.summary()\n"
      ],
      "metadata": {
        "id": "cBmiGqlc77AK",
        "outputId": "7cdce597-c032-46b5-ca8d-95ba656c453f",
        "colab": {
          "base_uri": "https://localhost:8080/"
        }
      },
      "execution_count": 35,
      "outputs": [
        {
          "output_type": "stream",
          "name": "stdout",
          "text": [
            "Model: \"sequential_1\"\n",
            "_________________________________________________________________\n",
            " Layer (type)                Output Shape              Param #   \n",
            "=================================================================\n",
            " conv2d_3 (Conv2D)           (None, 120, 120, 32)      896       \n",
            "                                                                 \n",
            " max_pooling2d_3 (MaxPooling  (None, 60, 60, 32)       0         \n",
            " 2D)                                                             \n",
            "                                                                 \n",
            " conv2d_4 (Conv2D)           (None, 60, 60, 64)        18496     \n",
            "                                                                 \n",
            " max_pooling2d_4 (MaxPooling  (None, 30, 30, 64)       0         \n",
            " 2D)                                                             \n",
            "                                                                 \n",
            " conv2d_5 (Conv2D)           (None, 30, 30, 128)       73856     \n",
            "                                                                 \n",
            " max_pooling2d_5 (MaxPooling  (None, 15, 15, 128)      0         \n",
            " 2D)                                                             \n",
            "                                                                 \n",
            " flatten_1 (Flatten)         (None, 28800)             0         \n",
            "                                                                 \n",
            " dense_2 (Dense)             (None, 512)               14746112  \n",
            "                                                                 \n",
            " dropout_1 (Dropout)         (None, 512)               0         \n",
            "                                                                 \n",
            " dense_3 (Dense)             (None, 4)                 2052      \n",
            "                                                                 \n",
            "=================================================================\n",
            "Total params: 14,841,412\n",
            "Trainable params: 14,841,412\n",
            "Non-trainable params: 0\n",
            "_________________________________________________________________\n"
          ]
        }
      ]
    },
    {
      "cell_type": "code",
      "source": [
        "from keras.callbacks import ReduceLROnPlateau, ModelCheckpoint\n",
        "\n",
        "\n",
        "\n",
        "# Definire i callbacks da utilizzare durante l'addestramento del modello\n",
        "reduce_lr = ReduceLROnPlateau(monitor='val_loss', patience=5)\n",
        "checkpoint = ModelCheckpoint(filepath='best_model.h5', monitor='val_loss', save_best_only=True)\n",
        "\n",
        "# Definire una lista di callbacks\n",
        "callbacks_list = [reduce_lr, checkpoint]\n",
        "\n",
        "# Addestrare il modello usando la lista di callbacks\n",
        "history = model.fit(X_train, y_train, epochs=7, validation_data=(X_val, y_val), callbacks=callbacks_list)"
      ],
      "metadata": {
        "id": "RVcQ0hrEdUgX",
        "colab": {
          "base_uri": "https://localhost:8080/"
        },
        "outputId": "6cedd18b-80bd-4f83-a59f-72b59749b8c0"
      },
      "execution_count": 36,
      "outputs": [
        {
          "output_type": "stream",
          "name": "stdout",
          "text": [
            "Epoch 1/7\n",
            "56/56 [==============================] - 5s 41ms/step - loss: 1.2622 - accuracy: 0.4412 - val_loss: 0.9193 - val_accuracy: 0.6020 - lr: 0.0010\n",
            "Epoch 2/7\n",
            "56/56 [==============================] - 2s 34ms/step - loss: 0.8764 - accuracy: 0.6337 - val_loss: 0.8325 - val_accuracy: 0.6327 - lr: 0.0010\n",
            "Epoch 3/7\n",
            "56/56 [==============================] - 2s 34ms/step - loss: 0.7021 - accuracy: 0.7132 - val_loss: 0.6163 - val_accuracy: 0.7602 - lr: 0.0010\n",
            "Epoch 4/7\n",
            "56/56 [==============================] - 1s 21ms/step - loss: 0.5588 - accuracy: 0.7706 - val_loss: 0.6352 - val_accuracy: 0.7653 - lr: 0.0010\n",
            "Epoch 5/7\n",
            "56/56 [==============================] - 2s 33ms/step - loss: 0.4302 - accuracy: 0.8450 - val_loss: 0.5100 - val_accuracy: 0.8061 - lr: 0.0010\n",
            "Epoch 6/7\n",
            "56/56 [==============================] - 2s 33ms/step - loss: 0.3403 - accuracy: 0.8671 - val_loss: 0.4402 - val_accuracy: 0.8622 - lr: 0.0010\n",
            "Epoch 7/7\n",
            "56/56 [==============================] - 2s 39ms/step - loss: 0.2320 - accuracy: 0.9188 - val_loss: 0.3468 - val_accuracy: 0.8827 - lr: 0.0010\n"
          ]
        }
      ]
    },
    {
      "cell_type": "markdown",
      "source": [
        "# **UTILS**"
      ],
      "metadata": {
        "id": "WPX5AH239cF7"
      }
    },
    {
      "cell_type": "code",
      "source": [
        "glioma_tumor_path = dataset_path + '/Preprocessed/Training/glioma_tumor/'\n",
        "meningioma_tumor_path = dataset_path + '/Preprocessed/Training/meningioma_tumor/'\n",
        "no_tumor_path = dataset_path + '/Preprocessed/Training/no_tumor/'\n",
        "pituitary_tumor_path = dataset_path + '/Preprocessed/Training/pituitary_tumor/'\n",
        "\n",
        "glioma_tumor_entries = os.listdir(glioma_tumor_path)\n",
        "meningioma_entries = os.listdir(meningioma_tumor_path)\n",
        "no_tumor_entries = os.listdir(no_tumor_path)\n",
        "pituitary_tumor_entries = os.listdir(pituitary_tumor_path)\n",
        "\n",
        "i = len(glioma_tumor_entries) + 1 \n",
        "for entry in glioma_tumor_entries: # store cropped normal cell augmented images\n",
        "  img = cv2.imread(glioma_tumor_path + entry)\n",
        "  augmented_img = random_flip_or_rotation(img)\n",
        "  cv2.imwrite(glioma_tumor_path + 'Augmented_glioma_tumor_' + str(i) + '.jpg', augmented_img)\n",
        "  i = i + 1\n",
        "\n",
        "i = len(meningioma_entries) + 1 \n",
        "for entry in meningioma_entries: # store cropped normal cell augmented images\n",
        "  img = cv2.imread(meningioma_tumor_path + entry)\n",
        "  augmented_img = random_flip_or_rotation(img)\n",
        "  cv2.imwrite(meningioma_tumor_path + 'Augmented_meningioma_tumor_' + str(i) + '.jpg', augmented_img)\n",
        "  i = i + 1\n",
        "\n",
        "i = len(no_tumor_entries) + 1 \n",
        "for entry in no_tumor_entries: # store cropped normal cell augmented images\n",
        "  img = cv2.imread(no_tumor_path + entry)\n",
        "  augmented_img = random_flip_or_rotation(img)\n",
        "  cv2.imwrite(no_tumor_path + 'Augmented_no_tumor_' + str(i) + '.jpg', augmented_img)\n",
        "  i = i + 1\n",
        "\n",
        "i = len(pituitary_tumor_entries) + 1 \n",
        "for entry in pituitary_tumor_entries: # store cropped normal cell augmented images\n",
        "  img = cv2.imread(pituitary_tumor_path + entry)\n",
        "  augmented_img = random_flip_or_rotation(img)\n",
        "  cv2.imwrite(pituitary_tumor_path + 'Augmented_pituitary_tumor_' + str(i) + '.jpg', augmented_img)\n",
        "  i = i + 1"
      ],
      "metadata": {
        "id": "uIxvCvP91cms"
      },
      "execution_count": null,
      "outputs": []
    },
    {
      "cell_type": "code",
      "source": [
        "import matplotlib.pyplot as plt\n",
        "\n",
        "acc = history.history['accuracy']\n",
        "val_acc = history.history['val_accuracy']\n",
        "loss = history.history['loss']\n",
        "val_loss = history.history['val_loss']\n",
        "\n",
        "epochs = range(len(acc))\n",
        "\n",
        "plt.plot(epochs, acc, 'bo', label='Training accuracy')\n",
        "plt.plot(epochs, val_acc, 'b', label='Validation accuracy')\n",
        "plt.title('Training and validation accuracy')\n",
        "plt.legend()\n",
        "\n",
        "plt.figure()\n",
        "\n",
        "plt.plot(epochs, loss, 'bo', label='Training loss')\n",
        "plt.plot(epochs, val_loss, 'b', label='Validation loss')\n",
        "plt.title('Training and validation loss')\n",
        "plt.legend()\n",
        "\n",
        "plt.show()"
      ],
      "metadata": {
        "colab": {
          "base_uri": "https://localhost:8080/",
          "height": 887
        },
        "id": "7FQHHmxKe1dw",
        "outputId": "19376096-e9de-4094-ff84-db1b62cab3c0"
      },
      "execution_count": 37,
      "outputs": [
        {
          "output_type": "display_data",
          "data": {
            "text/plain": [
              "<Figure size 640x480 with 1 Axes>"
            ],
            "image/png": "[encoded data removed]"
          },
          "metadata": {}
        },
        {
          "output_type": "display_data",
          "data": {
            "text/plain": [
              "<Figure size 640x480 with 1 Axes>"
            ],
            "image/png": "[encoded data removed]"
          },
          "metadata": {}
        }
      ]
    }
  ],
  "metadata": {
    "accelerator": "GPU",
    "colab": {
      "provenance": [],
      "collapsed_sections": [
        "NDz3ICSorQXo",
        "ptWSxT3Lr1K1",
        "ZwlSNE9-sdY6",
        "cIqgwPG2ast9",
        "fn-xN03DcP5Y"
      ]
    },
    "kernelspec": {
      "display_name": "Python 3",
      "name": "python3"
    },
    "language_info": {
      "name": "python"
    }
  },
  "nbformat": 4,
  "nbformat_minor": 0
}
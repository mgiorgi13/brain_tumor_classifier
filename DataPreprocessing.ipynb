{
  "nbformat": 4,
  "nbformat_minor": 0,
  "metadata": {
    "colab": {
      "provenance": [],
      "collapsed_sections": [
        "NDz3ICSorQXo",
        "ZwlSNE9-sdY6",
        "agEs6OeuXey2",
        "fn-xN03DcP5Y",
        "luxNgmScPvo8"
      ],
      "toc_visible": true,
      "authorship_tag": "ABX9TyO2cwnVFN+IceSbwSplxHg4",
      "include_colab_link": true
    },
    "kernelspec": {
      "name": "python3",
      "display_name": "Python 3"
    },
    "language_info": {
      "name": "python"
    }
  },
  "cells": [
    {
      "cell_type": "markdown",
      "metadata": {
        "id": "view-in-github",
        "colab_type": "text"
      },
      "source": [
        "<a href=\"https://colab.research.google.com/github/mgiorgi13/brain_tumor_classifier/blob/mattia/DataPreprocessing.ipynb\" target=\"_parent\"><img src=\"https://colab.research.google.com/assets/colab-badge.svg\" alt=\"Open In Colab\"/></a>"
      ]
    },
    {
      "cell_type": "markdown",
      "source": [
        "# **Introduction**\n",
        "\n",
        "In this Jupiter notebook, you are creating a Convolutional Neural Network (CNN) using TensorFlow and Keras to classify brain MRI images. The goal is to detect potential brain tumors through the analysis of MRI images. In this section, we import the necessary libraries to create the CNN and load the images."
      ],
      "metadata": {
        "id": "6cMJ4qrdrEZs"
      }
    },
    {
      "cell_type": "markdown",
      "source": [
        "# **Importing Libraries**\n",
        "\n",
        "In this paragraph, we have imported the necessary libraries to create the CNN. TensorFlow and Keras are the main frameworks that we will use to create the convolutional neural network. Additionally, we have imported other useful libraries such as OpenCV (cv2) for image preprocessing, PIL for image manipulation, and Matplotlib for image visualization."
      ],
      "metadata": {
        "id": "NDz3ICSorQXo"
      }
    },
    {
      "cell_type": "code",
      "source": [
        "import tensorflow as tf\n",
        "from tqdm import tqdm\n",
        "from tensorflow import keras\n",
        "from sklearn.model_selection import train_test_split\n",
        "from tensorflow.keras.models import Model, Sequential\n",
        "from tensorflow.keras.layers import Conv2D, MaxPooling2D, AveragePooling2D, GlobalAveragePooling2D\n",
        "from tensorflow.keras.layers import Input, Dense, Dropout, Flatten, Activation,Concatenate, BatchNormalization\n",
        "import os\n",
        "import glob\n",
        "import shutil\n",
        "from sklearn.utils import shuffle\n",
        "import zipfile\n",
        "import cv2\n",
        "import imutils\n",
        "from google.colab.patches import cv2_imshow\n",
        "from tensorflow.keras import layers\n",
        "from tensorflow.keras import optimizers\n",
        "from tensorflow.keras.utils import image_dataset_from_directory\n",
        "from PIL import Image\n",
        "from matplotlib.pyplot import imshow\n",
        "from tensorflow.keras.preprocessing.image import ImageDataGenerator\n",
        "import numpy as np\n",
        "import random\n",
        "import math\n",
        "import matplotlib.pyplot as plt\n",
        "from keras.callbacks import ReduceLROnPlateau, ModelCheckpoint\n",
        "from keras.models import Sequential\n",
        "from keras.layers import Conv2D, MaxPooling2D, Flatten, Dense, Dropout\n",
        "from tensorflow.keras.preprocessing.image import ImageDataGenerator\n",
        "from PIL import Image"
      ],
      "metadata": {
        "id": "7qv94seOl4RA"
      },
      "execution_count": null,
      "outputs": []
    },
    {
      "cell_type": "code",
      "source": [
        "dataset_path = \"/content/drive/MyDrive/BrainTumorDataset\""
      ],
      "metadata": {
        "id": "wAp6lCRlmpYg"
      },
      "execution_count": null,
      "outputs": []
    },
    {
      "cell_type": "markdown",
      "source": [
        "# **Folder reorganization**\n",
        "\n",
        "The next code snippet renames the image files in the training and testing folders by adding the subfolder name and an incrementing number to the filename. "
      ],
      "metadata": {
        "id": "ZwlSNE9-sdY6"
      }
    },
    {
      "cell_type": "code",
      "source": [
        "# class list\n",
        "classes = ['glioma_tumor', 'meningioma_tumor', 'no_tumor', 'pituitary_tumor']"
      ],
      "metadata": {
        "id": "10oVwaAgqAwZ"
      },
      "execution_count": null,
      "outputs": []
    },
    {
      "cell_type": "code",
      "source": [
        "class_dimensions = {} # list of counters, one for each class\n",
        "for cls in classes:\n",
        "  class_dimensions[cls] = 0\n",
        "  \n",
        "# go into training folder and then into each subfolder and rename files with folder name plus incrementing number\n",
        "os.chdir('/content/drive/MyDrive/BrainTumorDataset/Training')\n",
        "for folder in glob.glob('*'):\n",
        "    os.chdir(folder)\n",
        "    i = 1\n",
        "    for file in glob.glob('*'):\n",
        "        # get file extension\n",
        "        ext = file.split('.')[1]\n",
        "        os.rename(file, folder + '_' + str(i) + '.' + ext)\n",
        "        i += 1\n",
        "    class_dimensions[folder] = i-1\n",
        "    os.chdir('..')\n",
        "\n",
        "# go into testing folder and then into each subfolder and rename files with folder name plus incrementing number\n",
        "os.chdir('/content/drive/MyDrive/BrainTumorDataset/Testing')\n",
        "for folder in glob.glob('*'):\n",
        "    os.chdir(folder)\n",
        "    i = class_dimensions[folder] + 1 # start from previous counter to have incremental ID for each image\n",
        "    for file in glob.glob('*'):\n",
        "        # get file extension\n",
        "        ext = file.split('.')[1]\n",
        "        os.rename(file, folder + '_' + str(i) + '.' + ext)\n",
        "        i += 1\n",
        "    class_dimensions[folder] = i-1\n",
        "    os.chdir('..')\n",
        "\n",
        "print(class_dimensions)"
      ],
      "metadata": {
        "id": "Jj3ZIZAz_u6Y",
        "colab": {
          "base_uri": "https://localhost:8080/"
        },
        "outputId": "22835cae-f4cb-4646-87fc-2c93fdd479d5"
      },
      "execution_count": null,
      "outputs": [
        {
          "output_type": "stream",
          "name": "stdout",
          "text": [
            "{'glioma_tumor': 926, 'meningioma_tumor': 937, 'no_tumor': 500, 'pituitary_tumor': 901}\n"
          ]
        }
      ]
    },
    {
      "cell_type": "markdown",
      "source": [
        "This following code snippet creates a unified dataset directory with subfolders for each class required for training the CNN."
      ],
      "metadata": {
        "id": "OyYqR-tIuhQ0"
      }
    },
    {
      "cell_type": "code",
      "source": [
        "training_path = dataset_path + '/Training'\n",
        "testing_path = dataset_path + '/Testing'\n",
        "\n",
        "if os.path.exists(dataset_path + '/Preprocessed/Unified'):\n",
        "  shutil.rmtree(dataset_path + '/Preprocessed')\n",
        "\n",
        "os.makedirs(dataset_path + '/Preprocessed/Unified')\n",
        "\n",
        "# Copia le sottocartelle delle classi da train a dataset con sovrascrittura\n",
        "for cls in classes:\n",
        "  src_path = os.path.join(training_path, cls)\n",
        "  dst_path = os.path.join(dataset_path + '/Preprocessed/Unified', cls)\n",
        "  shutil.copytree(src_path, dst_path, dirs_exist_ok=True)\n",
        "\n",
        "# Copia le sottocartelle delle classi da test a dataset con sovrascrittura\n",
        "for cls in classes:\n",
        "  src_path = os.path.join(testing_path, cls)\n",
        "  dst_path = os.path.join(dataset_path + '/Preprocessed/Unified', cls)\n",
        "  shutil.copytree(src_path, dst_path, dirs_exist_ok=True)\n"
      ],
      "metadata": {
        "id": "eJqi5UIW0uD8"
      },
      "execution_count": null,
      "outputs": []
    },
    {
      "cell_type": "markdown",
      "source": [
        "# **Split the dataset**\n",
        "\n",
        "The following function split the dataset into training, validation and test sets, using the corresponding splitting percentage value 60%, 20% and 20%."
      ],
      "metadata": {
        "id": "agEs6OeuXey2"
      }
    },
    {
      "cell_type": "code",
      "source": [
        "import os\n",
        "import random\n",
        "import shutil\n",
        "\n",
        "# Percorso della cartella \"unified\" che contiene le sottocartelle delle classi\n",
        "base_path = \"/content/drive/MyDrive/BrainTumorDataset/Preprocessed/Unified\"\n",
        "\n",
        "# Definisci i percorsi per il set di test, di validazione e di addestramento\n",
        "test_path = \"/content/drive/MyDrive/BrainTumorDataset/Preprocessed/Test\"\n",
        "val_path = \"/content/drive/MyDrive/BrainTumorDataset/Preprocessed/Validation\"\n",
        "train_path = \"/content/drive/MyDrive/BrainTumorDataset/Preprocessed/Train\"\n",
        "\n",
        "# Crea le cartelle per il set di test, di validazione e di addestramento\n",
        "os.makedirs(test_path, exist_ok=True)\n",
        "os.makedirs(val_path, exist_ok=True)\n",
        "os.makedirs(train_path, exist_ok=True)\n",
        "\n",
        "# Percorso completo delle classi\n",
        "class_paths = [os.path.join(base_path, c) for c in os.listdir(base_path)]\n",
        "\n",
        "# Itera attraverso le classi\n",
        "for class_path in class_paths:\n",
        "    class_name = os.path.basename(class_path)\n",
        "\n",
        "    # Creazione delle cartelle per il set di test, di validazione e di addestramento per ogni classe\n",
        "    os.makedirs(os.path.join(test_path, class_name), exist_ok=True)\n",
        "    os.makedirs(os.path.join(val_path, class_name), exist_ok=True)\n",
        "    os.makedirs(os.path.join(train_path, class_name), exist_ok=True)\n",
        "\n",
        "    # Ottieni la lista di file per la classe corrente\n",
        "    files = os.listdir(class_path)\n",
        "\n",
        "    # Shuffle dei file\n",
        "    random.shuffle(files)\n",
        "\n",
        "    # Calcola il numero di file per il set di test e di validazione (20% per il set di test e 20% per il set di validazione)\n",
        "    num_files = len(files)\n",
        "    num_test = int(0.2 * num_files)\n",
        "    num_val = int(0.2 * num_files)\n",
        "\n",
        "    # Copia i file nel set di test\n",
        "    test_files = files[:num_test]\n",
        "    for file in test_files:\n",
        "        src = os.path.join(class_path, file)\n",
        "        dst = os.path.join(test_path, class_name, file)\n",
        "        shutil.copyfile(src, dst)\n",
        "\n",
        "    # Copia i file nel set di validazione\n",
        "    val_files = files[num_test:num_test+num_val]\n",
        "    for file in val_files:\n",
        "        src = os.path.join(class_path, file)\n",
        "        dst = os.path.join(val_path, class_name, file)\n",
        "        shutil.copyfile(src, dst)\n",
        "\n",
        "    # Copia i file nel set di addestramento\n",
        "    train_files = files[num_test+num_val:]\n",
        "    for file in train_files:\n",
        "        src = os.path.join(class_path, file)\n",
        "        dst = os.path.join(train_path, class_name, file)\n",
        "        shutil.copyfile(src, dst)\n"
      ],
      "metadata": {
        "id": "qHtHgP9yXd_x"
      },
      "execution_count": null,
      "outputs": []
    },
    {
      "cell_type": "code",
      "source": [
        "# Definisci i percorsi per il set di test, di validazione e di addestramento\n",
        "test_path = \"/content/drive/MyDrive/BrainTumorDataset/Preprocessed/Test\"\n",
        "val_path = \"/content/drive/MyDrive/BrainTumorDataset/Preprocessed/Validation\"\n",
        "train_path = \"/content/drive/MyDrive/BrainTumorDataset/Preprocessed/Train\"\n",
        "\n",
        "for subfolder in os.listdir(test_path):\n",
        "    subfolder_path = os.path.join(test_path, subfolder)\n",
        "    \n",
        "    # Verifica se è una cartella\n",
        "    if os.path.isdir(subfolder_path):\n",
        "        # Ottieni la lista dei file\n",
        "        file_list = os.listdir(subfolder_path)\n",
        "        \n",
        "        # Stampa il numero di file\n",
        "        print(f\"La sottocartella {subfolder} contiene {len(file_list)} file.\")"
      ],
      "metadata": {
        "id": "YYIfG85wX836"
      },
      "execution_count": null,
      "outputs": []
    },
    {
      "cell_type": "markdown",
      "source": [
        "# **Class balance analysis**\n",
        "\n",
        "We created a histogram to analyze the balance of the classes"
      ],
      "metadata": {
        "id": "fn-xN03DcP5Y"
      }
    },
    {
      "cell_type": "code",
      "source": [
        "glioma_tumor_path = dataset_path + '/Preprocessed/Unified/glioma_tumor'\n",
        "meningioma_tumor_path = dataset_path + '/Preprocessed/Unified/meningioma_tumor'\n",
        "no_tumor_path = dataset_path + '/Preprocessed/Unified/no_tumor'\n",
        "pituitary_tumor_path = dataset_path + '/Preprocessed/Unified/pituitary_tumor'\n",
        "\n",
        "glioma_tumor_entries = os.listdir(glioma_tumor_path)\n",
        "meningioma_entries = os.listdir(meningioma_tumor_path)\n",
        "no_tumor_entries = os.listdir(no_tumor_path)\n",
        "pituitary_tumor_entries = os.listdir(pituitary_tumor_path)\n",
        "\n",
        "train_entries = glioma_tumor_entries + meningioma_entries + no_tumor_entries + pituitary_tumor_entries"
      ],
      "metadata": {
        "id": "ITA8iboSXOxv"
      },
      "execution_count": null,
      "outputs": []
    },
    {
      "cell_type": "code",
      "source": [
        "glioma_samples = [entry for entry in train_entries if 'glioma' in entry]\n",
        "meningioma_samples = [entry for entry in train_entries if 'meningioma' in entry]\n",
        "negative_samples = [entry for entry in train_entries if 'no' in entry]\n",
        "pituitary_samples = [entry for entry in train_entries if 'pituitary' in entry]\n",
        "\n",
        "# Creo la lista dei label per la classe positiva\n",
        "glioma_labels = ['Glioma'] * len(glioma_samples)\n",
        "\n",
        "# Creo la lista dei label per la classe negativa\n",
        "meningioma_labels = ['Meningioma'] * len(meningioma_samples)\n",
        "\n",
        "# Creo la lista dei label per la classe positiva\n",
        "negative_labels = ['Negative'] * len(negative_samples)\n",
        "\n",
        "# Creo la lista dei label per la classe negativa\n",
        "pituitary_labels = ['Pituitary'] * len(pituitary_samples)\n",
        "\n",
        "# Unisco le due liste\n",
        "labels = glioma_labels + meningioma_labels + negative_labels + pituitary_labels\n",
        "\n",
        "# Creo l'istogramma\n",
        "fig, ax = plt.subplots()\n",
        "ax.hist(labels)\n",
        "\n",
        "# Aggiungo le etichette\n",
        "ax.set_xticks(['Glioma', 'Meningioma', 'Negative', 'Pituitary'])\n",
        "ax.set_xlabel('Class')\n",
        "ax.set_ylabel('Number of samples')\n",
        "ax.set_title('Distribution of the train set')\n",
        "\n",
        "plt.show()"
      ],
      "metadata": {
        "id": "0q6ZfeJeyoii",
        "colab": {
          "base_uri": "https://localhost:8080/",
          "height": 472
        },
        "outputId": "b665f49d-7896-496e-90ec-0a945e7dc822"
      },
      "execution_count": null,
      "outputs": [
        {
          "output_type": "display_data",
          "data": {
            "text/plain": [
              "<Figure size 640x480 with 1 Axes>"
            ],
            "image/png": "[encoded data removed]"
          },
          "metadata": {}
        }
      ]
    },
    {
      "cell_type": "markdown",
      "source": [
        "At this point we calculate how many entries we have to consdier for each class and then we calculate, if needed, how many images we have to generate with data augmentation for the minority class."
      ],
      "metadata": {
        "id": "YXzeHeeryHCV"
      }
    },
    {
      "cell_type": "code",
      "source": [
        "expected_samples_per_class = len(train_entries)//4\n",
        "print(\"Number of expected images per class: \" + str(expected_samples_per_class) + '\\n')\n",
        "\n",
        "glioma_tumor = random.sample(glioma_samples, expected_samples_per_class)\n",
        "print(\"Number of sampled GLIOMA tumor images: \" + str(len(glioma_tumor)))\n",
        "\n",
        "meningioma_tumor = random.sample(meningioma_samples, expected_samples_per_class)\n",
        "print(\"Number of sampled MENINGIOMA tumor images: \" + str(len(meningioma_tumor)))\n",
        "\n",
        "pituitary_tumor = random.sample(meningioma_samples, expected_samples_per_class)\n",
        "print(\"Number of sampled PITUITARY tumor images: \" + str(len(pituitary_tumor)))\n",
        "\n",
        "negative_samples_needed = expected_samples_per_class - len(negative_samples)\n",
        "sampled_negative = random.sample(negative_samples, negative_samples_needed)\n",
        "print(\"\\nNumber of sampled NEGATIVE tumor images: \" + str(len(negative_samples)))\n",
        "print(\"Number of sampled NEGATIVE tumor images to perform augmentation: \" + str(len(sampled_negative)))\n"
      ],
      "metadata": {
        "colab": {
          "base_uri": "https://localhost:8080/"
        },
        "id": "yFdqMfPCs9ET",
        "outputId": "943ce307-3930-4e78-dc84-056786b5db64"
      },
      "execution_count": null,
      "outputs": [
        {
          "output_type": "stream",
          "name": "stdout",
          "text": [
            "Number of expected images per class: 1790\n",
            "\n",
            "Number of sampled GLIOMA tumor images: 1790\n",
            "Number of sampled MENINGIOMA tumor images: 1790\n",
            "Number of sampled PITUITARY tumor images: 1790\n",
            "\n",
            "Number of sampled NEGATIVE tumor images: 1632\n",
            "Number of sampled NEGATIVE tumor images to perform augmentation: 158\n"
          ]
        }
      ]
    },
    {
      "cell_type": "markdown",
      "source": [
        "# **Data Augmentation**"
      ],
      "metadata": {
        "id": "luxNgmScPvo8"
      }
    },
    {
      "cell_type": "code",
      "source": [
        "def random_flip_or_rotation(original_image):\n",
        "  '''\n",
        "  random_flip_or_rotation randomly rotates or flips the image\n",
        "  :param original_image: the image on which to perform the transformation\n",
        "  :return: the transformed image\n",
        "  '''\n",
        "  if random.randint(0,1): # decide whether to flip the image or not\n",
        "    horizontal = random.randint(0,1)\n",
        "    if horizontal:\n",
        "      new_image = tf.image.flip_left_right(original_image)\n",
        "    else:\n",
        "      new_image = tf.image.flip_up_down(original_image)\n",
        "  else: # rotate the image of a random degree (between 90° and 270°)\n",
        "    k = random.randint(1,3)\n",
        "    new_image = tf.image.rot90(original_image, k)\n",
        "\n",
        "  return np.asarray(new_image)"
      ],
      "metadata": {
        "id": "hQD10bnPXQ9G"
      },
      "execution_count": null,
      "outputs": []
    },
    {
      "cell_type": "code",
      "source": [
        "glioma_tumor_path = dataset_path + '/Preprocessed/Unified/glioma_tumor/'\n",
        "meningioma_tumor_path = dataset_path + '/Preprocessed/Unified/meningioma_tumor/'\n",
        "no_tumor_path = dataset_path + '/Preprocessed/Unified/no_tumor/'\n",
        "pituitary_tumor_path = dataset_path + '/Preprocessed/Unified/pituitary_tumor/'\n",
        "\n",
        "glioma_tumor_entries = os.listdir(glioma_tumor_path)\n",
        "meningioma_entries = os.listdir(meningioma_tumor_path)\n",
        "no_tumor_entries = os.listdir(no_tumor_path)\n",
        "pituitary_tumor_entries = os.listdir(pituitary_tumor_path)"
      ],
      "metadata": {
        "id": "xwiDo_t8YQy0"
      },
      "execution_count": null,
      "outputs": []
    },
    {
      "cell_type": "code",
      "source": [
        "# balance no tumor class\n",
        "\n",
        "no_tumor_random_entries = random.sample(no_tumor_entries, 316)\n",
        "\n",
        "i = len(no_tumor_entries) + 1 \n",
        "for entry in no_tumor_random_entries: # store cropped normal cell augmented images\n",
        "  img = cv2.imread(no_tumor_path + entry)\n",
        "  augmented_img = random_flip_or_rotation(img)\n",
        "  cv2.imwrite(no_tumor_path + 'A_no_tumor_' + str(i) + '.jpg', augmented_img)\n",
        "  i = i + 1"
      ],
      "metadata": {
        "id": "-aYZyq-8YTnx"
      },
      "execution_count": null,
      "outputs": []
    },
    {
      "cell_type": "code",
      "source": [
        "i = len(glioma_tumor_entries) + 1 \n",
        "for entry in glioma_tumor_entries: # store cropped normal cell augmented images\n",
        "  img = cv2.imread(glioma_tumor_path + entry)\n",
        "  augmented_img = random_flip_or_rotation(img)\n",
        "  cv2.imwrite(glioma_tumor_path + 'A_glioma_tumor_' + str(i) + '.jpg', augmented_img)\n",
        "  i = i + 1\n",
        "\n",
        "i = len(meningioma_entries) + 1 \n",
        "for entry in meningioma_entries: # store cropped normal cell augmented images\n",
        "  img = cv2.imread(meningioma_tumor_path + entry)\n",
        "  augmented_img = random_flip_or_rotation(img)\n",
        "  cv2.imwrite(meningioma_tumor_path + 'A_meningioma_tumor_' + str(i) + '.jpg', augmented_img)\n",
        "  i = i + 1\n",
        "\n",
        "i = len(no_tumor_entries) + 1 \n",
        "for entry in no_tumor_entries: # store cropped normal cell augmented images\n",
        "  img = cv2.imread(no_tumor_path + entry)\n",
        "  augmented_img = random_flip_or_rotation(img)\n",
        "  cv2.imwrite(no_tumor_path + 'A_no_tumor_' + str(i) + '.jpg', augmented_img)\n",
        "  i = i + 1\n",
        "\n",
        "i = len(pituitary_tumor_entries) + 1 \n",
        "for entry in pituitary_tumor_entries: # store cropped normal cell augmented images\n",
        "  img = cv2.imread(pituitary_tumor_path + entry)\n",
        "  augmented_img = random_flip_or_rotation(img)\n",
        "  cv2.imwrite(pituitary_tumor_path + 'A_pituitary_tumor_' + str(i) + '.jpg', augmented_img)\n",
        "  i = i + 1"
      ],
      "metadata": {
        "id": "0AFghC6MWOlr"
      },
      "execution_count": null,
      "outputs": []
    }
  ]
}
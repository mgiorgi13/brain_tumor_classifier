{
  "cells": [
    {
      "cell_type": "markdown",
      "metadata": {
        "id": "view-in-github",
        "colab_type": "text"
      },
      "source": [
        "<a href=\"https://colab.research.google.com/github/mgiorgi13/brain_tumor_classifier/blob/mattia/test.ipynb\" target=\"_parent\"><img src=\"https://colab.research.google.com/assets/colab-badge.svg\" alt=\"Open In Colab\"/></a>"
      ]
    },
    {
      "cell_type": "markdown",
      "source": [
        "# **Introduction**\n",
        "\n",
        "In this Jupiter notebook, you are creating a Convolutional Neural Network (CNN) using TensorFlow and Keras to classify brain MRI images. The goal is to detect potential brain tumors through the analysis of MRI images. In this section, we import the necessary libraries to create the CNN and load the images."
      ],
      "metadata": {
        "id": "6cMJ4qrdrEZs"
      }
    },
    {
      "cell_type": "markdown",
      "source": [
        "# **Importing Libraries**\n",
        "\n",
        "In this paragraph, we have imported the necessary libraries to create the CNN. TensorFlow and Keras are the main frameworks that we will use to create the convolutional neural network. Additionally, we have imported other useful libraries such as OpenCV (cv2) for image preprocessing, PIL for image manipulation, and Matplotlib for image visualization."
      ],
      "metadata": {
        "id": "NDz3ICSorQXo"
      }
    },
    {
      "cell_type": "code",
      "source": [
        "import tensorflow as tf\n",
        "from tqdm import tqdm\n",
        "from tensorflow import keras\n",
        "from sklearn.model_selection import train_test_split\n",
        "from tensorflow.keras.models import Model, Sequential\n",
        "from tensorflow.keras.layers import Conv2D, MaxPooling2D, AveragePooling2D, GlobalAveragePooling2D\n",
        "from tensorflow.keras.layers import Input, Dense, Dropout, Flatten, Activation,Concatenate, BatchNormalization\n",
        "import os\n",
        "import glob\n",
        "import shutil\n",
        "from sklearn.utils import shuffle\n",
        "import zipfile\n",
        "import cv2\n",
        "import imutils\n",
        "from google.colab.patches import cv2_imshow\n",
        "from tensorflow.keras import layers\n",
        "from tensorflow.keras import optimizers\n",
        "from tensorflow.keras.utils import image_dataset_from_directory\n",
        "from PIL import Image\n",
        "from matplotlib.pyplot import imshow\n",
        "from tensorflow.keras.preprocessing.image import ImageDataGenerator\n",
        "import numpy as np\n",
        "import random\n",
        "import math\n",
        "import matplotlib.pyplot as plt\n",
        "from keras.callbacks import ReduceLROnPlateau, ModelCheckpoint\n",
        "from keras.models import Sequential\n",
        "from keras.layers import Conv2D, MaxPooling2D, Flatten, Dense, Dropout\n",
        "from tensorflow.keras.preprocessing.image import ImageDataGenerator"
      ],
      "metadata": {
        "id": "7qv94seOl4RA"
      },
      "execution_count": 1,
      "outputs": []
    },
    {
      "cell_type": "code",
      "source": [
        "dataset_path = \"/content/drive/MyDrive/BrainTumorDataset\""
      ],
      "metadata": {
        "id": "wAp6lCRlmpYg"
      },
      "execution_count": 2,
      "outputs": []
    },
    {
      "cell_type": "markdown",
      "source": [
        "# **Fetch data**\n",
        "\n",
        "In the following code snippet, we are mounting the Google Drive to access the dataset required for training the CNN. We use the **drive.mount** function from the **google.colab** library to mount the drive.\n"
      ],
      "metadata": {
        "id": "ptWSxT3Lr1K1"
      }
    },
    {
      "cell_type": "markdown",
      "source": [
        "## Google Drive connection\n",
        "\n",
        "Necessary to run the classifier"
      ],
      "metadata": {
        "id": "tLW284JeJS5B"
      }
    },
    {
      "cell_type": "code",
      "source": [
        "# mount drive \n",
        "from google.colab import drive\n",
        "drive.mount('/content/drive', force_remount=True)"
      ],
      "metadata": {
        "colab": {
          "base_uri": "https://localhost:8080/"
        },
        "id": "Y28jDvT0ou8Z",
        "outputId": "e4e5eabc-7867-47b7-a44a-30f7fcd0ce84"
      },
      "execution_count": 3,
      "outputs": [
        {
          "output_type": "stream",
          "name": "stdout",
          "text": [
            "Mounted at /content/drive\n"
          ]
        }
      ]
    },
    {
      "cell_type": "markdown",
      "source": [
        "## Reset local dataset\n",
        "Remove dataset folder. Not always necessary"
      ],
      "metadata": {
        "id": "epW0hkVPJeqe"
      }
    },
    {
      "cell_type": "code",
      "source": [
        "# Use this in case of error in code, delete folder and repeat data fetching\n",
        "shutil.rmtree('/content/drive/MyDrive/BrainTumorDataset')"
      ],
      "metadata": {
        "id": "wCkxDPVpqbZm"
      },
      "execution_count": null,
      "outputs": []
    },
    {
      "cell_type": "markdown",
      "source": [
        "Afterward, we extract the dataset from a zip folder using the **zipfile** library's."
      ],
      "metadata": {
        "id": "bMDNjC55o0bP"
      }
    },
    {
      "cell_type": "markdown",
      "source": [
        "## Dataset extraction\n",
        "Extract dataset from zip folder. Necessary if you reset the dataset"
      ],
      "metadata": {
        "id": "3HGbQ6aAJozt"
      }
    },
    {
      "cell_type": "code",
      "source": [
        "# Extract zip folder of data\n",
        "with zipfile.ZipFile(\"/content/drive/MyDrive/BrainTumorClassificationMRI.zip\", 'r') as zip_ref:\n",
        "    zip_ref.extractall(\"/content/drive/MyDrive/BrainTumorDataset\")"
      ],
      "metadata": {
        "id": "RrO02GAjl1Hu"
      },
      "execution_count": null,
      "outputs": []
    },
    {
      "cell_type": "markdown",
      "source": [
        "# **Folder reorganization**\n",
        "\n",
        "The next code snippet renames the image files in the training and testing folders by adding the subfolder name and an incrementing number to the filename. "
      ],
      "metadata": {
        "id": "ZwlSNE9-sdY6"
      }
    },
    {
      "cell_type": "code",
      "source": [
        "# class list\n",
        "classes = ['glioma_tumor', 'meningioma_tumor', 'no_tumor', 'pituitary_tumor']"
      ],
      "metadata": {
        "id": "10oVwaAgqAwZ"
      },
      "execution_count": null,
      "outputs": []
    },
    {
      "cell_type": "code",
      "source": [
        "class_dimensions = {} # list of counters, one for each class\n",
        "for cls in classes:\n",
        "  class_dimensions[cls] = 0\n",
        "  \n",
        "# go into training folder and then into each subfolder and rename files with folder name plus incrementing number\n",
        "os.chdir('/content/drive/MyDrive/BrainTumorDataset/Training')\n",
        "for folder in glob.glob('*'):\n",
        "    os.chdir(folder)\n",
        "    i = 1\n",
        "    for file in glob.glob('*'):\n",
        "        # get file extension\n",
        "        ext = file.split('.')[1]\n",
        "        os.rename(file, folder + '_' + str(i) + '.' + ext)\n",
        "        i += 1\n",
        "    class_dimensions[folder] = i-1\n",
        "    os.chdir('..')\n",
        "\n",
        "# go into testing folder and then into each subfolder and rename files with folder name plus incrementing number\n",
        "os.chdir('/content/drive/MyDrive/BrainTumorDataset/Testing')\n",
        "for folder in glob.glob('*'):\n",
        "    os.chdir(folder)\n",
        "    i = class_dimensions[folder] + 1 # start from previous counter to have incremental ID for each image\n",
        "    for file in glob.glob('*'):\n",
        "        # get file extension\n",
        "        ext = file.split('.')[1]\n",
        "        os.rename(file, folder + '_' + str(i) + '.' + ext)\n",
        "        i += 1\n",
        "    class_dimensions[folder] = i-1\n",
        "    os.chdir('..')\n",
        "\n",
        "print(class_dimensions)"
      ],
      "metadata": {
        "id": "Jj3ZIZAz_u6Y",
        "colab": {
          "base_uri": "https://localhost:8080/"
        },
        "outputId": "51d188f2-d884-45fe-fb01-817cc54a330c"
      },
      "execution_count": null,
      "outputs": [
        {
          "output_type": "stream",
          "name": "stdout",
          "text": [
            "{'glioma_tumor': 926, 'meningioma_tumor': 937, 'no_tumor': 500, 'pituitary_tumor': 901}\n"
          ]
        }
      ]
    },
    {
      "cell_type": "markdown",
      "source": [
        "This following code snippet creates a unified dataset directory with subfolders for each class required for training the CNN."
      ],
      "metadata": {
        "id": "OyYqR-tIuhQ0"
      }
    },
    {
      "cell_type": "code",
      "source": [
        "training_path = dataset_path + '/Training'\n",
        "testing_path = dataset_path + '/Testing'\n",
        "\n",
        "if os.path.exists(dataset_path + '/Preprocessed/Unified'):\n",
        "  shutil.rmtree(dataset_path + '/Preprocessed')\n",
        "\n",
        "os.makedirs(dataset_path + '/Preprocessed/Unified')\n",
        "\n",
        "# Copia le sottocartelle delle classi da train a dataset con sovrascrittura\n",
        "for cls in classes:\n",
        "  src_path = os.path.join(training_path, cls)\n",
        "  dst_path = os.path.join(dataset_path + '/Preprocessed/Unified', cls)\n",
        "  shutil.copytree(src_path, dst_path, dirs_exist_ok=True)\n",
        "\n",
        "# Copia le sottocartelle delle classi da test a dataset con sovrascrittura\n",
        "for cls in classes:\n",
        "  src_path = os.path.join(testing_path, cls)\n",
        "  dst_path = os.path.join(dataset_path + '/Preprocessed/Unified', cls)\n",
        "  shutil.copytree(src_path, dst_path, dirs_exist_ok=True)\n"
      ],
      "metadata": {
        "id": "eJqi5UIW0uD8"
      },
      "execution_count": null,
      "outputs": []
    },
    {
      "cell_type": "markdown",
      "source": [
        "# **Load Dataset**"
      ],
      "metadata": {
        "id": "NyGma4rvVH5s"
      }
    },
    {
      "cell_type": "markdown",
      "source": [
        "The following code loads all the data from the **../Preprocessed/Unified** folder and links each photo to its corresponding class label."
      ],
      "metadata": {
        "id": "hMpd3zH3Phhb"
      }
    },
    {
      "cell_type": "code",
      "source": [
        "labels = ['glioma_tumor', 'meningioma_tumor', 'no_tumor', 'pituitary_tumor']\n",
        "image_size = 250\n",
        "X_dataset = []\n",
        "y_dataset = []\n",
        "for lb in labels:\n",
        "    folderPath = os.path.join('/content/drive/MyDrive/BrainTumorDataset/Preprocessed/Unified', lb)\n",
        "    for j in tqdm(os.listdir(folderPath)):\n",
        "        img = cv2.imread(os.path.join(folderPath,j))\n",
        "        img = cv2.resize(img,(image_size, image_size))\n",
        "        X_dataset.append(img)\n",
        "        y_dataset.append(lb)\n",
        "\n",
        "X_dataset = np.array(X_dataset)\n",
        "y_dataset = np.array(y_dataset)"
      ],
      "metadata": {
        "id": "HrFSvhI8PD1D",
        "colab": {
          "base_uri": "https://localhost:8080/"
        },
        "outputId": "e9cefe8a-a68c-4677-d512-2af6e8faac2b"
      },
      "execution_count": 3,
      "outputs": [
        {
          "output_type": "stream",
          "name": "stderr",
          "text": [
            "100%|██████████| 926/926 [00:06<00:00, 140.53it/s]\n",
            "100%|██████████| 937/937 [00:06<00:00, 153.42it/s]\n",
            "100%|██████████| 500/500 [00:03<00:00, 149.25it/s]\n",
            "100%|██████████| 901/901 [00:07<00:00, 123.49it/s]\n"
          ]
        }
      ]
    },
    {
      "cell_type": "code",
      "source": [
        "X_dataset, y_dataset = shuffle(X_dataset, y_dataset, random_state=14)"
      ],
      "metadata": {
        "id": "gX3J-oq5QWFn"
      },
      "execution_count": 4,
      "outputs": []
    },
    {
      "cell_type": "code",
      "source": [
        "y_dataset_new = []\n",
        "for i in y_dataset:\n",
        "    y_dataset_new.append(labels.index(i))\n",
        "y_dataset = y_dataset_new\n",
        "y_dataset = tf.keras.utils.to_categorical(y_dataset,4)"
      ],
      "metadata": {
        "id": "B_9FpUA3Q5Xr"
      },
      "execution_count": 5,
      "outputs": []
    },
    {
      "cell_type": "markdown",
      "source": [
        "# **Split the dataset**\n",
        "\n",
        "The following function split the dataset into training, validation and test sets, using the corresponding splitting percentage value 60%, 20% and 20%."
      ],
      "metadata": {
        "id": "cIqgwPG2ast9"
      }
    },
    {
      "cell_type": "code",
      "source": [
        "train_percentage = 0.6\n",
        "val_percentage = 0.2\n",
        "test_percentage = 0.2\n",
        "\n",
        "total_entries = len(X_dataset)\n",
        "\n",
        "train_size = int(train_percentage * total_entries)\n",
        "val_size = int(val_percentage * total_entries)\n",
        "\n",
        "X_train = X_dataset[0:train_size]\n",
        "y_train = y_dataset[0:train_size]\n",
        "\n",
        "X_test = X_dataset[train_size+val_size:total_entries]\n",
        "y_test = y_dataset[train_size+val_size:total_entries]\n",
        "\n",
        "X_val = X_dataset[train_size:train_size+val_size]\n",
        "y_val = y_dataset[train_size:train_size+val_size]\n",
        "\n",
        "print(\"Dataset dimension \", total_entries)\n",
        "print(\"Train set dimension: \", len(X_train), len(y_train))\n",
        "print(\"Validation set dimension: \", len(X_val), len(y_val))\n",
        "print(\"Test set dimension: \", len(X_test), len(y_test))\n",
        "\n",
        "X_dataset = []\n",
        "y_dataset = []"
      ],
      "metadata": {
        "colab": {
          "base_uri": "https://localhost:8080/"
        },
        "id": "FEkfjQvxR977",
        "outputId": "277c0914-e56f-4a8e-9be1-ddd9975d27b6"
      },
      "execution_count": 6,
      "outputs": [
        {
          "output_type": "stream",
          "name": "stdout",
          "text": [
            "Dataset dimension  3264\n",
            "Train set dimension:  1958 1958\n",
            "Validation set dimension:  652 652\n",
            "Test set dimension:  654 654\n"
          ]
        }
      ]
    },
    {
      "cell_type": "markdown",
      "source": [
        "Normalization"
      ],
      "metadata": {
        "id": "aibLaGDdVSHK"
      }
    },
    {
      "cell_type": "code",
      "source": [
        "X_train = np.array(X_train) / 255.\n",
        "X_val = np.array(X_val) / 255.\n",
        "X_test = np.array(X_test) / 255."
      ],
      "metadata": {
        "id": "Y4uqGMf4VRKm"
      },
      "execution_count": 7,
      "outputs": []
    },
    {
      "cell_type": "markdown",
      "source": [
        "Get all training data entries to perform a class distribution analysis"
      ],
      "metadata": {
        "id": "Py0w59LLbu5W"
      }
    },
    {
      "cell_type": "markdown",
      "source": [
        "# **Class balance analysis**\n",
        "\n",
        "We created a histogram to analyze the balance of the classes"
      ],
      "metadata": {
        "id": "fn-xN03DcP5Y"
      }
    },
    {
      "cell_type": "code",
      "source": [
        "glioma_tumor_path = dataset_path + '/Preprocessed/Unified/glioma_tumor'\n",
        "meningioma_tumor_path = dataset_path + '/Preprocessed/Unified/meningioma_tumor'\n",
        "no_tumor_path = dataset_path + '/Preprocessed/Unified/no_tumor'\n",
        "pituitary_tumor_path = dataset_path + '/Preprocessed/Unified/pituitary_tumor'\n",
        "\n",
        "glioma_tumor_entries = os.listdir(glioma_tumor_path)\n",
        "meningioma_entries = os.listdir(meningioma_tumor_path)\n",
        "no_tumor_entries = os.listdir(no_tumor_path)\n",
        "pituitary_tumor_entries = os.listdir(pituitary_tumor_path)\n",
        "\n",
        "train_entries = glioma_tumor_entries + meningioma_entries + no_tumor_entries + pituitary_tumor_entries"
      ],
      "metadata": {
        "id": "ITA8iboSXOxv"
      },
      "execution_count": null,
      "outputs": []
    },
    {
      "cell_type": "code",
      "source": [
        "glioma_samples = [entry for entry in train_entries if 'glioma' in entry]\n",
        "meningioma_samples = [entry for entry in train_entries if 'meningioma' in entry]\n",
        "negative_samples = [entry for entry in train_entries if 'no' in entry]\n",
        "pituitary_samples = [entry for entry in train_entries if 'pituitary' in entry]\n",
        "\n",
        "# Creo la lista dei label per la classe positiva\n",
        "glioma_labels = ['Glioma'] * len(glioma_samples)\n",
        "\n",
        "# Creo la lista dei label per la classe negativa\n",
        "meningioma_labels = ['Meningioma'] * len(meningioma_samples)\n",
        "\n",
        "# Creo la lista dei label per la classe positiva\n",
        "negative_labels = ['Negative'] * len(negative_samples)\n",
        "\n",
        "# Creo la lista dei label per la classe negativa\n",
        "pituitary_labels = ['Pituitary'] * len(pituitary_samples)\n",
        "\n",
        "# Unisco le due liste\n",
        "labels = glioma_labels + meningioma_labels + negative_labels + pituitary_labels\n",
        "\n",
        "# Creo l'istogramma\n",
        "fig, ax = plt.subplots()\n",
        "ax.hist(labels)\n",
        "\n",
        "# Aggiungo le etichette\n",
        "ax.set_xticks(['Glioma', 'Meningioma', 'Negative', 'Pituitary'])\n",
        "ax.set_xlabel('Class')\n",
        "ax.set_ylabel('Number of samples')\n",
        "ax.set_title('Distribution of the train set')\n",
        "\n",
        "plt.show()"
      ],
      "metadata": {
        "id": "0q6ZfeJeyoii"
      },
      "execution_count": null,
      "outputs": []
    },
    {
      "cell_type": "markdown",
      "source": [
        "At this point we calculate how many entries we have to consdier for each class and then we calculate, if needed, how many images we have to generate with data augmentation for the minority class."
      ],
      "metadata": {
        "id": "YXzeHeeryHCV"
      }
    },
    {
      "cell_type": "code",
      "source": [
        "expected_samples_per_class = len(train_entries)//4\n",
        "print(\"Number of expected images per class: \" + str(expected_samples_per_class) + '\\n')\n",
        "\n",
        "glioma_tumor = random.sample(glioma_samples, expected_samples_per_class)\n",
        "print(\"Number of sampled GLIOMA tumor images: \" + str(len(glioma_tumor)))\n",
        "\n",
        "meningioma_tumor = random.sample(meningioma_samples, expected_samples_per_class)\n",
        "print(\"Number of sampled MENINGIOMA tumor images: \" + str(len(meningioma_tumor)))\n",
        "\n",
        "pituitary_tumor = random.sample(meningioma_samples, expected_samples_per_class)\n",
        "print(\"Number of sampled PITUITARY tumor images: \" + str(len(pituitary_tumor)))\n",
        "\n",
        "negative_samples_needed = expected_samples_per_class - len(negative_samples)\n",
        "sampled_negative = random.sample(negative_samples, negative_samples_needed)\n",
        "print(\"\\nNumber of sampled NEGATIVE tumor images: \" + str(len(negative_samples)))\n",
        "print(\"Number of sampled NEGATIVE tumor images to perform augmentation: \" + str(len(sampled_negative)))\n"
      ],
      "metadata": {
        "colab": {
          "base_uri": "https://localhost:8080/"
        },
        "id": "yFdqMfPCs9ET",
        "outputId": "89077f97-4e16-4891-bcd7-d4ac69711b8a"
      },
      "execution_count": null,
      "outputs": [
        {
          "output_type": "stream",
          "name": "stdout",
          "text": [
            "Number of expected images per class: 816\n",
            "\n",
            "Number of sampled GLIOMA tumor images: 816\n",
            "Number of sampled MENINGIOMA tumor images: 816\n",
            "Number of sampled PITUITARY tumor images: 816\n",
            "\n",
            "Number of sampled NEGATIVE tumor images: 500\n",
            "Number of sampled NEGATIVE tumor images to perform augmentation: 316\n"
          ]
        }
      ]
    },
    {
      "cell_type": "markdown",
      "source": [
        "# **Data Augmentation**"
      ],
      "metadata": {
        "id": "luxNgmScPvo8"
      }
    },
    {
      "cell_type": "code",
      "source": [
        "datagen = ImageDataGenerator(\n",
        "        featurewise_center=False,  # set input mean to 0 over the dataset\n",
        "        samplewise_center=False,  # set each sample mean to 0\n",
        "        featurewise_std_normalization=False,  # divide inputs by std of the dataset\n",
        "        samplewise_std_normalization=False,  # divide each input by its std\n",
        "        zca_whitening=False,  # apply ZCA whitening\n",
        "        rotation_range=10,  # randomly rotate images in the range (degrees, 0 to 180)\n",
        "        zoom_range=0.1,  # Randomly zoom image \n",
        "        width_shift_range=0.1,  # randomly shift images horizontally (fraction of total width)\n",
        "        height_shift_range=0.1,  # randomly shift images vertically (fraction of total height)\n",
        "        horizontal_flip=True,  # randomly flip images\n",
        "        vertical_flip=False)  # randomly flip images\n",
        "\n",
        "datagen.fit(X_train)"
      ],
      "metadata": {
        "id": "OWVzFD4u4Jye"
      },
      "execution_count": 8,
      "outputs": []
    },
    {
      "cell_type": "markdown",
      "source": [
        "# **CNN from scratch**"
      ],
      "metadata": {
        "id": "C29MLUU_RCy9"
      }
    },
    {
      "cell_type": "code",
      "source": [
        "# Definire un modello sequenziale di Keras\n",
        "model = Sequential()\n",
        "\n",
        "# Aggiungere un layer convoluzionale con 32 filtri, dimensione del kernel di 3x3, funzione di attivazione ReLU e padding \"same\"\n",
        "model.add(Conv2D(32, (3, 3), activation='relu', padding='same', input_shape=(image_size, image_size, 3)))\n",
        "\n",
        "# Aggiungere un layer di max pooling con dimensione 2x2\n",
        "model.add(MaxPooling2D((2, 2)))\n",
        "\n",
        "# Aggiungere un altro layer convoluzionale con 64 filtri, dimensione del kernel di 3x3, funzione di attivazione ReLU e padding \"same\"\n",
        "model.add(Conv2D(64, (3, 3), activation='relu', padding='same'))\n",
        "\n",
        "# Aggiungere un altro layer di max pooling con dimensione 2x2\n",
        "model.add(MaxPooling2D((2, 2)))\n",
        "\n",
        "# Aggiungere un altro layer convoluzionale con 128 filtri, dimensione del kernel di 3x3, funzione di attivazione ReLU e padding \"same\"\n",
        "model.add(Conv2D(128, (3, 3), activation='relu', padding='same'))\n",
        "\n",
        "# Aggiungere un altro layer di max pooling con dimensione 2x2\n",
        "model.add(MaxPooling2D((2, 2)))\n",
        "\n",
        "# Aggiungere un layer di appiattimento per convertire l'output del layer precedente in un vettore unidimensionale\n",
        "model.add(Flatten())\n",
        "\n",
        "# Aggiungere un layer completamente connesso con 512 unità e funzione di attivazione ReLU\n",
        "model.add(Dense(512, activation='relu'))\n",
        "\n",
        "# Aggiungere un layer di dropout con una percentuale di dropout di 0,5\n",
        "model.add(Dropout(0.5))\n",
        "\n",
        "# Aggiungere un altro layer completamente connesso con 4 unità (una per ogni classe) e funzione di attivazione softmax\n",
        "model.add(Dense(4, activation='softmax'))\n",
        "\n",
        "# Stampa il riepilogo del modello\n",
        "model.summary()\n"
      ],
      "metadata": {
        "id": "cBmiGqlc77AK",
        "colab": {
          "base_uri": "https://localhost:8080/"
        },
        "outputId": "efb9f966-f292-4fc5-cf31-1de2bb2ea2c6"
      },
      "execution_count": 9,
      "outputs": [
        {
          "output_type": "stream",
          "name": "stdout",
          "text": [
            "Model: \"sequential\"\n",
            "_________________________________________________________________\n",
            " Layer (type)                Output Shape              Param #   \n",
            "=================================================================\n",
            " conv2d (Conv2D)             (None, 250, 250, 32)      896       \n",
            "                                                                 \n",
            " max_pooling2d (MaxPooling2D  (None, 125, 125, 32)     0         \n",
            " )                                                               \n",
            "                                                                 \n",
            " conv2d_1 (Conv2D)           (None, 125, 125, 64)      18496     \n",
            "                                                                 \n",
            " max_pooling2d_1 (MaxPooling  (None, 62, 62, 64)       0         \n",
            " 2D)                                                             \n",
            "                                                                 \n",
            " conv2d_2 (Conv2D)           (None, 62, 62, 128)       73856     \n",
            "                                                                 \n",
            " max_pooling2d_2 (MaxPooling  (None, 31, 31, 128)      0         \n",
            " 2D)                                                             \n",
            "                                                                 \n",
            " flatten (Flatten)           (None, 123008)            0         \n",
            "                                                                 \n",
            " dense (Dense)               (None, 512)               62980608  \n",
            "                                                                 \n",
            " dropout (Dropout)           (None, 512)               0         \n",
            "                                                                 \n",
            " dense_1 (Dense)             (None, 4)                 2052      \n",
            "                                                                 \n",
            "=================================================================\n",
            "Total params: 63,075,908\n",
            "Trainable params: 63,075,908\n",
            "Non-trainable params: 0\n",
            "_________________________________________________________________\n"
          ]
        }
      ]
    },
    {
      "cell_type": "code",
      "source": [
        "# Compilare il modello con la funzione di loss \"categorical_crossentropy\" e l'ottimizzatore \"adam\"\n",
        "model.compile(loss='categorical_crossentropy', optimizer='adam', metrics=['accuracy'])"
      ],
      "metadata": {
        "id": "u_1FWbFrRri0"
      },
      "execution_count": 10,
      "outputs": []
    },
    {
      "cell_type": "code",
      "source": [
        "from keras.callbacks import ReduceLROnPlateau, ModelCheckpoint\n",
        "\n",
        "# Definire i callbacks da utilizzare durante l'addestramento del modello\n",
        "reduce_lr = ReduceLROnPlateau(monitor='val_loss', patience=5)\n",
        "checkpoint = ModelCheckpoint(filepath='best_model.h5', monitor='val_loss', save_best_only=True)\n",
        "\n",
        "# Definire una lista di callbacks\n",
        "callbacks_list = [reduce_lr, checkpoint]\n",
        "\n",
        "# Addestrare il modello usando la lista di callbacks\n",
        "history = model.fit(X_train, y_train, epochs=10, validation_data=(X_val, y_val), callbacks=callbacks_list)"
      ],
      "metadata": {
        "id": "RVcQ0hrEdUgX",
        "colab": {
          "base_uri": "https://localhost:8080/"
        },
        "outputId": "2a698c55-8431-445f-b562-76c5be391e79"
      },
      "execution_count": 11,
      "outputs": [
        {
          "output_type": "stream",
          "name": "stdout",
          "text": [
            "Epoch 1/10\n",
            "62/62 [==============================] - 26s 200ms/step - loss: 1.2420 - accuracy: 0.5189 - val_loss: 0.9926 - val_accuracy: 0.5690 - lr: 0.0010\n",
            "Epoch 2/10\n",
            "62/62 [==============================] - 9s 152ms/step - loss: 0.7782 - accuracy: 0.6839 - val_loss: 0.7161 - val_accuracy: 0.7086 - lr: 0.0010\n",
            "Epoch 3/10\n",
            "62/62 [==============================] - 9s 151ms/step - loss: 0.5258 - accuracy: 0.7937 - val_loss: 0.5642 - val_accuracy: 0.7868 - lr: 0.0010\n",
            "Epoch 4/10\n",
            "62/62 [==============================] - 10s 154ms/step - loss: 0.3780 - accuracy: 0.8570 - val_loss: 0.4903 - val_accuracy: 0.8144 - lr: 0.0010\n",
            "Epoch 5/10\n",
            "62/62 [==============================] - 9s 147ms/step - loss: 0.2846 - accuracy: 0.8882 - val_loss: 0.4672 - val_accuracy: 0.8482 - lr: 0.0010\n",
            "Epoch 6/10\n",
            "62/62 [==============================] - 5s 85ms/step - loss: 0.1669 - accuracy: 0.9321 - val_loss: 0.4978 - val_accuracy: 0.8512 - lr: 0.0010\n",
            "Epoch 7/10\n",
            "62/62 [==============================] - 5s 79ms/step - loss: 0.1102 - accuracy: 0.9607 - val_loss: 0.4792 - val_accuracy: 0.8620 - lr: 0.0010\n",
            "Epoch 8/10\n",
            "62/62 [==============================] - 9s 151ms/step - loss: 0.1004 - accuracy: 0.9622 - val_loss: 0.4554 - val_accuracy: 0.8819 - lr: 0.0010\n",
            "Epoch 9/10\n",
            "62/62 [==============================] - 9s 146ms/step - loss: 0.0644 - accuracy: 0.9791 - val_loss: 0.4410 - val_accuracy: 0.8773 - lr: 0.0010\n",
            "Epoch 10/10\n",
            "62/62 [==============================] - 9s 152ms/step - loss: 0.0413 - accuracy: 0.9837 - val_loss: 0.4291 - val_accuracy: 0.8926 - lr: 0.0010\n"
          ]
        }
      ]
    },
    {
      "cell_type": "code",
      "source": [
        "model.save('modello_cnn.h5')"
      ],
      "metadata": {
        "id": "w9qwX6o_iRzW"
      },
      "execution_count": 14,
      "outputs": []
    },
    {
      "cell_type": "markdown",
      "source": [
        "# **Load trained model**"
      ],
      "metadata": {
        "id": "c0-lG3ABmxO6"
      }
    },
    {
      "cell_type": "code",
      "source": [
        "from keras.models import load_model\n",
        "\n",
        "model = load_model('modello_cnn.h5')\n",
        "\n",
        "#model = load_model('best_model.h5') # temporaneo causa fine spazio su drive "
      ],
      "metadata": {
        "id": "YBkBPIZdnB17"
      },
      "execution_count": null,
      "outputs": []
    },
    {
      "cell_type": "markdown",
      "source": [
        "# **DA ELIMINARE**"
      ],
      "metadata": {
        "id": "gSJ4J8H9sXlO"
      }
    },
    {
      "cell_type": "code",
      "source": [
        "X_dataset = y_dataset = 0"
      ],
      "metadata": {
        "id": "D5R_MLsIsHRF"
      },
      "execution_count": 16,
      "outputs": []
    },
    {
      "cell_type": "code",
      "source": [
        "X_val = y_val = 0"
      ],
      "metadata": {
        "id": "5ed6L0HMsNEI"
      },
      "execution_count": 17,
      "outputs": []
    },
    {
      "cell_type": "code",
      "source": [
        "X_train = y_train = 0"
      ],
      "metadata": {
        "id": "l6jYt8jLsRO7"
      },
      "execution_count": 18,
      "outputs": []
    },
    {
      "cell_type": "markdown",
      "source": [
        "# **STATS**"
      ],
      "metadata": {
        "id": "WPX5AH239cF7"
      }
    },
    {
      "cell_type": "code",
      "source": [
        "import matplotlib.pyplot as plt\n",
        "\n",
        "acc = history.history['accuracy']\n",
        "val_acc = history.history['val_accuracy']\n",
        "loss = history.history['loss']\n",
        "val_loss = history.history['val_loss']\n",
        "\n",
        "epochs = range(len(acc))\n",
        "\n",
        "plt.plot(epochs, acc, 'bo', label='Training accuracy')\n",
        "plt.plot(epochs, val_acc, 'b', label='Validation accuracy')\n",
        "plt.title('Training and validation accuracy')\n",
        "plt.legend()\n",
        "\n",
        "plt.figure()\n",
        "\n",
        "plt.plot(epochs, loss, 'bo', label='Training loss')\n",
        "plt.plot(epochs, val_loss, 'b', label='Validation loss')\n",
        "plt.title('Training and validation loss')\n",
        "plt.legend()\n",
        "\n",
        "plt.show()"
      ],
      "metadata": {
        "id": "7FQHHmxKe1dw"
      },
      "execution_count": null,
      "outputs": []
    },
    {
      "cell_type": "code",
      "source": [
        "# Ottenere le previsioni del modello per i dati di test\n",
        "y_pred = model.predict(X_test)\n",
        "\n",
        "# Convertire le previsioni in classi (etichette) utilizzando la funzione argmax di NumPy\n",
        "y_pred_classes = np.argmax(y_pred, axis=1)\n",
        "\n",
        "# Convertire le etichette reali dei dati di test in un array di interi\n",
        "y_true = np.argmax(y_test, axis=1)"
      ],
      "metadata": {
        "colab": {
          "base_uri": "https://localhost:8080/"
        },
        "id": "tHO8d3qptwV7",
        "outputId": "e4c5b827-7e11-4e60-f692-e0c8a5e83f26"
      },
      "execution_count": 28,
      "outputs": [
        {
          "output_type": "stream",
          "name": "stdout",
          "text": [
            "21/21 [==============================] - 1s 25ms/step\n"
          ]
        }
      ]
    },
    {
      "cell_type": "code",
      "source": [
        "from sklearn.metrics import roc_curve, auc, roc_auc_score\n",
        "from itertools import cycle\n",
        "\n",
        "# Compute ROC curve and ROC area for each class\n",
        "fpr = dict()\n",
        "tpr = dict()\n",
        "roc_auc = dict()\n",
        "for i in range(4):\n",
        "    fpr[i], tpr[i], _ = roc_curve(y_test[:, i], y_pred[:, i])\n",
        "    roc_auc[i] = auc(fpr[i], tpr[i])\n",
        "\n",
        "\n",
        "colors = cycle(['aqua', 'darkorange', 'cornflowerblue', 'green'])\n",
        "for i, color in zip(range(4), colors):\n",
        "    plt.plot(\n",
        "        fpr[i],\n",
        "        tpr[i],\n",
        "        color=color,\n",
        "        lw=2,\n",
        "        label='ROC curve of class {0} (area = {1:0.2f})'.format(i, roc_auc[i]),\n",
        "    )\n",
        "\n",
        "plt.plot([0, 1], [0, 1], 'k--', lw=2)\n",
        "plt.xlim([0.0, 1.0])\n",
        "plt.ylim([0.0, 1.05])\n",
        "plt.xlabel('False Positive Rate')\n",
        "plt.ylabel('True Positive Rate')\n",
        "plt.title('Some extension of Receiver operating characteristic to multiclass')\n",
        "plt.legend(loc='lower right')\n",
        "plt.show()\n"
      ],
      "metadata": {
        "colab": {
          "base_uri": "https://localhost:8080/",
          "height": 472
        },
        "id": "71uM-YC-tjdG",
        "outputId": "f53b5dde-6def-4836-bdd6-0394e3a891f9"
      },
      "execution_count": 32,
      "outputs": [
        {
          "output_type": "display_data",
          "data": {
            "text/plain": [
              "<Figure size 640x480 with 1 Axes>"
            ],
            "image/png": "[encoded data removed]"
          },
          "metadata": {}
        }
      ]
    },
    {
      "cell_type": "code",
      "source": [
        "import matplotlib.pyplot as plt\n",
        "from sklearn.metrics import confusion_matrix, ConfusionMatrixDisplay\n",
        "\n",
        "y_pred = np.argmax(y_pred, axis=1)\n",
        "y_test = np.argmax(y_test, axis=1)\n",
        "cm = confusion_matrix(y_test, y_pred)\n",
        "disp = ConfusionMatrixDisplay(confusion_matrix=cm)#, display_labels=['0', '1'])\n",
        "disp.plot()\n",
        "plt.show()"
      ],
      "metadata": {
        "colab": {
          "base_uri": "https://localhost:8080/",
          "height": 449
        },
        "id": "l7vFD09vnHXJ",
        "outputId": "1c2e5fad-0faf-45c4-fdb6-7505c77e4788"
      },
      "execution_count": 34,
      "outputs": [
        {
          "output_type": "display_data",
          "data": {
            "text/plain": [
              "<Figure size 640x480 with 2 Axes>"
            ],
            "image/png": "[encoded data removed]"
          },
          "metadata": {}
        }
      ]
    },
    {
      "cell_type": "markdown",
      "source": [
        "# **TO DO**"
      ],
      "metadata": {
        "id": "IYO5Syam0tUG"
      }
    },
    {
      "cell_type": "code",
      "source": [
        "y_score = model.predict(X_test)\n",
        "y_pred = np.rint(y_score) # to have 0 or 1\n",
        "y_true = tf.concat([labels_batch for data_batch, labels_batch in test_dataset], axis = 0)\n",
        "print(\"Classification report: \")\n",
        "print(metrics.classification_report(y_true, y_pred, digits=4, labels=['0', '1', '2', '3']))\n",
        "metrics.ConfusionMatrixDisplay.from_predictions(y_true, y_pred)\n",
        "# ROC curve\n",
        "fpr,tpr,th = metrics.roc_curve(y_true,y_score)\n",
        "roc_auc = metrics.roc_auc_score(y_true,y_score)\n",
        "plt.figure()\n",
        "plt.plot(fpr, tpr, label='ROC curve (area = %0.2f)' % roc_auc)\n",
        "plot([0, 1], [0, 1], color='navy', linestyle='--')\n",
        "plt.xlim([0.0, 1.0])\n",
        "plt.ylim([0.0, 1.0])\n",
        "plt.xlabel('False Positive Rate')\n",
        "plt.ylabel('True Positive Rate')\n",
        "plt.title('ROC curve')\n",
        "plt.legend(loc=\"lower right\")\n",
        "plt.show()"
      ],
      "metadata": {
        "id": "zHwor0nDku71"
      },
      "execution_count": null,
      "outputs": []
    },
    {
      "cell_type": "code",
      "source": [
        "import pandas as pd\n",
        "\n",
        "# save train test and validation set into csv file\n",
        "\n",
        "df = pd.DataFrame({'X': X_train, 'y': y_train})\n",
        "df.to_csv('/content/drive/MyDrive/BrainTumorDataset/train.csv', index=False)\n",
        "\n",
        "df = pd.DataFrame({'X': X_test, 'y': y_test})\n",
        "df.to_csv('/content/drive/MyDrive/BrainTumorDataset/test.csv', index=False)\n",
        "\n",
        "df = pd.DataFrame({'X': X_val, 'y': y_val})\n",
        "df.to_csv('/content/drive/MyDrive/BrainTumorDataset/validation.csv', index=False)\n"
      ],
      "metadata": {
        "id": "WyStxeutUL86"
      },
      "execution_count": null,
      "outputs": []
    },
    {
      "cell_type": "markdown",
      "source": [
        "# **OLD VERSIONS**"
      ],
      "metadata": {
        "id": "kYl_b52JUtBp"
      }
    },
    {
      "cell_type": "code",
      "source": [
        "# augmentation\n",
        "\n",
        "glioma_tumor_path = dataset_path + '/Preprocessed/Training/glioma_tumor/'\n",
        "meningioma_tumor_path = dataset_path + '/Preprocessed/Training/meningioma_tumor/'\n",
        "no_tumor_path = dataset_path + '/Preprocessed/Training/no_tumor/'\n",
        "pituitary_tumor_path = dataset_path + '/Preprocessed/Training/pituitary_tumor/'\n",
        "\n",
        "glioma_tumor_entries = os.listdir(glioma_tumor_path)\n",
        "meningioma_entries = os.listdir(meningioma_tumor_path)\n",
        "no_tumor_entries = os.listdir(no_tumor_path)\n",
        "pituitary_tumor_entries = os.listdir(pituitary_tumor_path)\n",
        "\n",
        "i = len(glioma_tumor_entries) + 1 \n",
        "for entry in glioma_tumor_entries: # store cropped normal cell augmented images\n",
        "  img = cv2.imread(glioma_tumor_path + entry)\n",
        "  augmented_img = random_flip_or_rotation(img)\n",
        "  cv2.imwrite(glioma_tumor_path + 'Augmented_glioma_tumor_' + str(i) + '.jpg', augmented_img)\n",
        "  i = i + 1\n",
        "\n",
        "i = len(meningioma_entries) + 1 \n",
        "for entry in meningioma_entries: # store cropped normal cell augmented images\n",
        "  img = cv2.imread(meningioma_tumor_path + entry)\n",
        "  augmented_img = random_flip_or_rotation(img)\n",
        "  cv2.imwrite(meningioma_tumor_path + 'Augmented_meningioma_tumor_' + str(i) + '.jpg', augmented_img)\n",
        "  i = i + 1\n",
        "\n",
        "i = len(no_tumor_entries) + 1 \n",
        "for entry in no_tumor_entries: # store cropped normal cell augmented images\n",
        "  img = cv2.imread(no_tumor_path + entry)\n",
        "  augmented_img = random_flip_or_rotation(img)\n",
        "  cv2.imwrite(no_tumor_path + 'Augmented_no_tumor_' + str(i) + '.jpg', augmented_img)\n",
        "  i = i + 1\n",
        "\n",
        "i = len(pituitary_tumor_entries) + 1 \n",
        "for entry in pituitary_tumor_entries: # store cropped normal cell augmented images\n",
        "  img = cv2.imread(pituitary_tumor_path + entry)\n",
        "  augmented_img = random_flip_or_rotation(img)\n",
        "  cv2.imwrite(pituitary_tumor_path + 'Augmented_pituitary_tumor_' + str(i) + '.jpg', augmented_img)\n",
        "  i = i + 1"
      ],
      "metadata": {
        "id": "ESTai0jnIO-G"
      },
      "execution_count": null,
      "outputs": []
    }
  ],
  "metadata": {
    "accelerator": "GPU",
    "colab": {
      "provenance": [],
      "collapsed_sections": [
        "NDz3ICSorQXo",
        "ptWSxT3Lr1K1",
        "ZwlSNE9-sdY6",
        "cIqgwPG2ast9",
        "fn-xN03DcP5Y",
        "WPX5AH239cF7"
      ],
      "include_colab_link": true
    },
    "kernelspec": {
      "display_name": "Python 3",
      "name": "python3"
    },
    "language_info": {
      "name": "python"
    }
  },
  "nbformat": 4,
  "nbformat_minor": 0
}
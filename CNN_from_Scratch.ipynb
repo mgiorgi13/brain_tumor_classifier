{
  "cells": [
    {
      "attachments": {},
      "cell_type": "markdown",
      "metadata": {
        "colab_type": "text",
        "id": "view-in-github"
      },
      "source": [
        "<a href=\"https://colab.research.google.com/github/mgiorgi13/brain_tumor_classifier/blob/mattia/CNN_from_Scratch.ipynb\" target=\"_parent\"><img src=\"https://colab.research.google.com/assets/colab-badge.svg\" alt=\"Open In Colab\"/></a>"
      ]
    },
    {
      "attachments": {},
      "cell_type": "markdown",
      "metadata": {
        "id": "NDz3ICSorQXo"
      },
      "source": [
        "# **Importing Libraries**\n",
        "\n",
        "In this paragraph, we have imported the necessary libraries to create the CNN. TensorFlow and Keras are the main frameworks that we will use to create the convolutional neural network. Additionally, we have imported other useful libraries such as OpenCV (cv2) for image preprocessing, PIL for image manipulation, and Matplotlib for image visualization."
      ]
    },
    {
      "cell_type": "code",
      "execution_count": 1,
      "metadata": {
        "id": "7qv94seOl4RA"
      },
      "outputs": [],
      "source": [
        "import pickle\n",
        "from keras.models import load_model\n",
        "import tensorflow as tf\n",
        "from tqdm import tqdm\n",
        "from tensorflow import keras\n",
        "from sklearn.model_selection import train_test_split\n",
        "from tensorflow.keras.models import Model, Sequential\n",
        "from tensorflow.keras.layers import Conv2D, MaxPooling2D, AveragePooling2D, GlobalAveragePooling2D\n",
        "from tensorflow.keras.layers import Input, Dense, Dropout, Flatten, Activation,Concatenate, BatchNormalization\n",
        "import os\n",
        "import glob\n",
        "import shutil\n",
        "from sklearn.utils import shuffle\n",
        "import zipfile\n",
        "import cv2\n",
        "import imutils\n",
        "from google.colab.patches import cv2_imshow\n",
        "from tensorflow.keras import layers\n",
        "from tensorflow.keras import optimizers\n",
        "from tensorflow.keras.utils import image_dataset_from_directory\n",
        "from PIL import Image\n",
        "from matplotlib.pyplot import imshow\n",
        "from tensorflow.keras.preprocessing.image import ImageDataGenerator\n",
        "import numpy as np\n",
        "import random\n",
        "import math\n",
        "import matplotlib.pyplot as plt\n",
        "from keras.callbacks import ReduceLROnPlateau, ModelCheckpoint\n",
        "from keras.models import Sequential\n",
        "from keras.layers import Conv2D, MaxPooling2D, Flatten, Dense, Dropout\n",
        "from tensorflow.keras.preprocessing.image import ImageDataGenerator\n",
        "from PIL import Image\n",
        "from sklearn import metrics"
      ]
    },
    {
      "cell_type": "code",
      "execution_count": 2,
      "metadata": {
        "id": "wAp6lCRlmpYg"
      },
      "outputs": [],
      "source": [
        "dataset_path = \"/content/drive/MyDrive/BrainTumorDataset\""
      ]
    },
    {
      "attachments": {},
      "cell_type": "markdown",
      "metadata": {
        "id": "tLW284JeJS5B"
      },
      "source": [
        "# **Google Drive connection**\n",
        "\n",
        "Necessary to run the classifier"
      ]
    },
    {
      "attachments": {},
      "cell_type": "markdown",
      "metadata": {},
      "source": [
        "# **Utilities**"
      ]
    },
    {
      "cell_type": "code",
      "execution_count": null,
      "metadata": {},
      "outputs": [
        {
          "name": "stdout",
          "output_type": "stream",
          "text": [
            "Found 4520 images belonging to 4 classes.\n",
            "Found 652 images belonging to 4 classes.\n",
            "Found 652 images belonging to 4 classes.\n"
          ]
        }
      ],
      "source": [
        "import matplotlib.pyplot as plt\n",
        "import numpy as np\n",
        "\n",
        "from itertools import cycle\n",
        "from sklearn.metrics import confusion_matrix, ConfusionMatrixDisplay,roc_curve, auc, roc_auc_score\n",
        "\n",
        "dataset_path = \"/content/drive/MyDrive/BrainTumorDataset\"\n",
        "\n",
        "# Percorso della cartella \"unified\" che contiene le sottocartelle delle classi\n",
        "base_path = \"/content/drive/MyDrive/BrainTumorDataset/Preprocessed/Unified\"\n",
        "\n",
        "# Definisci i percorsi per il set di test, di validazione e di addestramento\n",
        "test_path = \"/content/drive/MyDrive/BrainTumorDataset/Preprocessed/Test\"\n",
        "val_path = \"/content/drive/MyDrive/BrainTumorDataset/Preprocessed/Validation\"\n",
        "train_path = \"/content/drive/MyDrive/BrainTumorDataset/Preprocessed/Train\"\n",
        "\n",
        "def set_seed ():\n",
        "\t''' \n",
        "\tset_seed is used to obtain reproducible results using keras during the development phase\n",
        "\t'''\n",
        "\tseed = 10\n",
        "\t# The below is necessary for reproducible results of certain Python hash-based operations.\n",
        "\tos.environ[\"PYTHONHASHSEED\"]=\"0\"\n",
        "\t# The below is necessary for starting Numpy generated random numbers in a well-defined initial state.\n",
        "\tnp.random.seed(seed)\n",
        "\t# The below is necessary for starting core Python generated random numbers in a well-defined state.\n",
        "\trn.seed(seed)\n",
        "\t# The below tf.random.set_seed will make x number generation in TensorFlow have a well-defined initial state.\n",
        "\ttf.random.set_seed(seed)     \n",
        "\n",
        "# Definisci le dimensioni delle immagini\n",
        "image_size = 250\n",
        "batch_size = 32\n",
        "\n",
        "# Crea un oggetto ImageDataGenerator per il preprocessing delle immagini\n",
        "data_generator = ImageDataGenerator(rescale=1.0/255.0)\n",
        "\n",
        "# Carica le immagini dal set di addestramento\n",
        "train_generator = data_generator.flow_from_directory(\n",
        "    train_path,\n",
        "    target_size=(image_size, image_size),\n",
        "    batch_size=batch_size,\n",
        "    class_mode='categorical'\n",
        ")\n",
        "\n",
        "# Carica le immagini dal set di test\n",
        "test_generator = data_generator.flow_from_directory(\n",
        "    test_path,\n",
        "    target_size=(image_size, image_size),\n",
        "    batch_size=batch_size,\n",
        "    class_mode='categorical',\n",
        "    shuffle=False\n",
        ")\n",
        "\n",
        "# Carica le immagini dal set di validazione\n",
        "val_generator = data_generator.flow_from_directory(\n",
        "    val_path,\n",
        "    target_size=(image_size, image_size),\n",
        "    batch_size=batch_size,\n",
        "    class_mode='categorical'\n",
        ")\n",
        "     \n",
        "\n",
        "def show_training_and_validation_performance(history):\n",
        "\t'''\n",
        "\tshow_training_and_validation_performance is used to plot the performances during the training phase\n",
        "\t:param history: object in which are recorded all the events\n",
        "\t'''\n",
        "\tacc = history.history['accuracy']\n",
        "\tval_acc = history.history['val_accuracy']\n",
        "\tloss = history.history['loss']\n",
        "\tval_loss = history.history['val_loss']\n",
        "\n",
        "\tepochs = range(len(acc))\n",
        "\n",
        "\tplt.plot(epochs, acc, 'bo', label='Training accuracy')\n",
        "\tplt.plot(epochs, val_acc, 'b', label='Validation accuracy')\n",
        "\tplt.title('Training and validation accuracy')\n",
        "\tplt.legend()\n",
        "\n",
        "\tplt.figure()\n",
        "\n",
        "\tplt.plot(epochs, loss, 'bo', label='Training loss')\n",
        "\tplt.plot(epochs, val_loss, 'b', label='Validation loss')\n",
        "\tplt.title('Training and validation loss')\n",
        "\tplt.legend()\n",
        "\n",
        "\tplt.show()\n",
        "\n",
        "def compile_model (model, optimizer='adam', learning_rate = 0.001):\n",
        "\t'''\n",
        "\tcompile_model is used to compile the current model\n",
        "\t:param model: model to compile\n",
        "\t:param optimizer: optimizer to be used\n",
        "\t:param learning_rate: learning rate parameter for the optimizer\n",
        "\t'''\n",
        "\tif optimizer == 'adam':\n",
        "\t\tmodel.compile(loss=\"categorical_crossentropy\",\n",
        "\t\toptimizer=optimizers.Adam(learning_rate=learning_rate),\n",
        "\t\tmetrics=[\"accuracy\"])\n",
        "\telif optimizer == 'rmsprop':\n",
        "\t\tmodel.compile(loss=\"categorical_crossentropy\",\n",
        "\t\t\t\t\toptimizer = optimizers.RMSprop(learning_rate=learning_rate),\n",
        "\t\t\t\t\tmetrics=['accuracy'])\n",
        "\tmodel.summary()\n",
        "\n",
        "def run_model (model, model_name, epochs = 100, patience=5, monitor='val_loss'):\n",
        "\t'''\n",
        "\trun_model is used to run the current mode\n",
        "\t:param model: model to run\n",
        "\t:param model_name: name given to save the model\n",
        "\t:param epochs: how many epochs to do\n",
        "\t:param patience: patience value for Early Stopping\n",
        "\t:param monitor: what to monitor for Early Stopping and Model Checkpoint\n",
        "\t'''\n",
        "\t# local save path for the models\n",
        "\tsave_path = dataset_path + '/' + model_name + '.h5'\n",
        "\tcallbacks_list = [\n",
        "\t\t\t\t\tkeras.callbacks.EarlyStopping(monitor=monitor, patience=patience),\n",
        "\t\t\t\t\tkeras.callbacks.ModelCheckpoint(\n",
        "\t\t\t\t\t\tfilepath = save_path,\n",
        "\t\t\t\t\t\tmonitor=monitor,\n",
        "\t\t\t\t\t\tverbose=1,\n",
        "\t\t\t\t\t\tsave_best_only=True)\n",
        "\t\t\t\t\t]\n",
        "\thistory = model.fit(train_generator,\n",
        "\t\t\t\t\t\tepochs=epochs,\n",
        "\t\t\t\t\t\tvalidation_data=val_generator,\n",
        "\t\t\t\t\t\tcallbacks=callbacks_list)\n",
        "\t# save on Drive only the best model\n",
        "\tshow_training_and_validation_performance(history)\n",
        "\n",
        "def plot_roc_curve(y_true, y_pred, n_classes, class_labels):\n",
        "\n",
        "    # Converti le etichette di classe in formato binario\n",
        "    lb = LabelBinarizer()\n",
        "    y_true_binary = lb.fit_transform(y_true)\n",
        "\n",
        "    # Calcola i tassi di FPR e TPR per ogni classe\n",
        "    fpr = dict()\n",
        "    tpr = dict()\n",
        "    roc_auc = dict()\n",
        "\n",
        "    for i in range(n_classes):\n",
        "        fpr[i], tpr[i], _ = metrics.roc_curve(y_true_binary[:, i], y_pred[:, i])\n",
        "        roc_auc[i] = metrics.auc(fpr[i], tpr[i])\n",
        "\n",
        "    plt.figure()\n",
        "    colors = ['blue', 'red', 'green', 'orange']  # Colori per le diverse classi\n",
        "\n",
        "    for i, color in zip(range(n_classes), colors):\n",
        "        plt.plot(fpr[i], tpr[i], color=color, label='ROC curve {0} ({1:0.2f}%)'.format(class_labels[i], roc_auc[i]*100))\n",
        "\n",
        "    plt.plot([0, 1], [0, 1], color='navy', linestyle='--')\n",
        "    plt.xlim([0.0, 1.0])\n",
        "    plt.ylim([0.0, 1.0])\n",
        "    plt.xlabel('False Positive Rate')\n",
        "    plt.ylabel('True Positive Rate')\n",
        "    plt.title('ROC curve')\n",
        "    plt.legend(loc=\"lower right\")\n",
        "    plt.show()\n",
        "\n",
        "def evaluate_model (model, test_dataset):\n",
        "\t'''\n",
        "\tevaluate_model is used to plot some statistics about the performance on the test set\n",
        "\t:param model: model to consider\n",
        "\t'''\n",
        "\tlabels_d= ['glioma_tumor', 'meningioma_tumor', 'no_tumor', 'pituitary_tumor']\n",
        "\n",
        "\t# get predictions\n",
        "\ty_score = model.predict(test_generator)\n",
        "\t# convert predictions to classes\n",
        "\ty_pred = np.argmax(y_score, axis=-1)\n",
        "\t# get true classes\n",
        "\ty_true = test_generator.classes\n",
        "\t# extract class labels\n",
        "\tclass_labels = list(test_generator.class_indices.keys())\n",
        "\t\n",
        "\tprint(\"Classification report: \")\n",
        "\tprint(metrics.classification_report(y_true, y_pred, target_names=class_labels,digits = 4))\n",
        "\t# create and show confusion matrix and roc\n",
        "\tmetrics.ConfusionMatrixDisplay.from_predictions(y_true, y_pred,display_labels=class_labels, xticks_rotation='vertical')\n",
        "\tplot_roc_curve(y_true, y_score, 4, class_labels)\n",
        " \n",
        "set_seed()\n"
      ]
    },
    {
      "cell_type": "code",
      "execution_count": 3,
      "metadata": {
        "colab": {
          "base_uri": "https://localhost:8080/"
        },
        "id": "Y28jDvT0ou8Z",
        "outputId": "7e16b969-7523-4c74-a4b5-e20bbe7a21ef"
      },
      "outputs": [
        {
          "name": "stdout",
          "output_type": "stream",
          "text": [
            "Mounted at /content/drive\n"
          ]
        }
      ],
      "source": [
        "# mount drive \n",
        "from google.colab import drive\n",
        "drive.mount('/content/drive', force_remount=True)"
      ]
    },
    {
      "attachments": {},
      "cell_type": "markdown",
      "metadata": {
        "id": "NyGma4rvVH5s"
      },
      "source": [
        "# **Load Dataset**"
      ]
    },
    {
      "cell_type": "code",
      "execution_count": 4,
      "metadata": {
        "id": "thaQRwiA9gLw"
      },
      "outputs": [],
      "source": [
        "# Definisci i percorsi per il set di test, di validazione e di addestramento\n",
        "test_path = \"/content/drive/MyDrive/BrainTumorDataset/Preprocessed/Test\"\n",
        "val_path = \"/content/drive/MyDrive/BrainTumorDataset/Preprocessed/Validation\"\n",
        "train_path = \"/content/drive/MyDrive/BrainTumorDataset/Preprocessed/Train\""
      ]
    },
    {
      "cell_type": "code",
      "execution_count": 5,
      "metadata": {
        "colab": {
          "base_uri": "https://localhost:8080/"
        },
        "id": "x1ijH4MAZ1Pk",
        "outputId": "c878fed5-58d6-4ada-d4d4-fb3cabede223"
      },
      "outputs": [
        {
          "name": "stdout",
          "output_type": "stream",
          "text": [
            "Found 4520 images belonging to 4 classes.\n",
            "Found 652 images belonging to 4 classes.\n",
            "Found 652 images belonging to 4 classes.\n"
          ]
        }
      ],
      "source": [
        "from keras.preprocessing.image import ImageDataGenerator\n",
        "\n",
        "# Definisci le dimensioni delle immagini\n",
        "image_size = 250\n",
        "batch_size = 32\n",
        "\n",
        "# Crea un oggetto ImageDataGenerator per il preprocessing delle immagini\n",
        "data_generator = ImageDataGenerator(rescale=1.0/255.0)\n",
        "\n",
        "# Carica le immagini dal set di addestramento\n",
        "train_generator = data_generator.flow_from_directory(\n",
        "    train_path,\n",
        "    target_size=(image_size, image_size),\n",
        "    batch_size=batch_size,\n",
        "    class_mode='categorical'\n",
        ")\n",
        "\n",
        "# Carica le immagini dal set di test\n",
        "test_generator = data_generator.flow_from_directory(\n",
        "    test_path,\n",
        "    target_size=(image_size, image_size),\n",
        "    batch_size=batch_size,\n",
        "    class_mode='categorical',\n",
        "    shuffle=False\n",
        ")\n",
        "\n",
        "# Carica le immagini dal set di validazione\n",
        "val_generator = data_generator.flow_from_directory(\n",
        "    val_path,\n",
        "    target_size=(image_size, image_size),\n",
        "    batch_size=batch_size,\n",
        "    class_mode='categorical'\n",
        ")\n"
      ]
    },
    {
      "cell_type": "code",
      "execution_count": 6,
      "metadata": {
        "colab": {
          "base_uri": "https://localhost:8080/"
        },
        "id": "DV_iPmcOQSdN",
        "outputId": "242e929e-d3ec-47fa-d1b7-2a7a0d796432"
      },
      "outputs": [
        {
          "name": "stdout",
          "output_type": "stream",
          "text": [
            "Bilanciamento delle classi nel set di test:\n",
            "Classe glioma_tumor: 28.37423312883436%\n",
            "Classe meningioma_tumor: 28.680981595092025%\n",
            "Classe no_tumor: 15.337423312883436%\n",
            "Classe pituitary_tumor: 27.607361963190186%\n"
          ]
        }
      ],
      "source": [
        "class_indices = test_generator.class_indices\n",
        "num_samples = test_generator.samples\n",
        "\n",
        "class_counts = {class_label: 0 for class_label in class_indices}\n",
        "\n",
        "# Conta i campioni per ogni classe\n",
        "for filename in val_generator.filenames:\n",
        "    class_label = filename.split('/')[0]  # Ottieni l'etichetta della classe dal percorso del file\n",
        "    class_counts[class_label] += 1\n",
        "\n",
        "# Calcola la percentuale di campioni per ogni classe\n",
        "class_balances = {class_label: count / num_samples for class_label, count in class_counts.items()}\n",
        "\n",
        "print(\"Bilanciamento delle classi nel set di test:\")\n",
        "for class_label, balance in class_balances.items():\n",
        "    print(f\"Classe {class_label}: {balance * 100}%\")\n"
      ]
    },
    {
      "attachments": {},
      "cell_type": "markdown",
      "metadata": {
        "id": "WPX5AH239cF7"
      },
      "source": [
        "# **STATS**"
      ]
    },
    {
      "cell_type": "code",
      "execution_count": 7,
      "metadata": {
        "id": "bbT77tXhdvEM"
      },
      "outputs": [],
      "source": [
        "def save_history(name, history):\n",
        "  with open(dataset_path + name, 'wb') as file_pi:\n",
        "    pickle.dump(history.history, file_pi)\n",
        "\n",
        "def load_history(path):\n",
        "  with open(path, \"rb\") as file_pi:\n",
        "    history = pickle.load(file_pi)\n",
        "  return history\n",
        "\n",
        "def train_val_evaluation_plot(history):\n",
        "  acc = history['accuracy']\n",
        "  val_acc = history['val_accuracy']\n",
        "  loss = history['loss']\n",
        "  val_loss = history['val_loss']\n",
        "\n",
        "  epochs = range(len(acc))\n",
        "\n",
        "  plt.plot(epochs, acc, 'bo', label='Training accuracy')\n",
        "  plt.plot(epochs, val_acc, 'b', label='Validation accuracy')\n",
        "  plt.title('Training and validation accuracy')\n",
        "  plt.legend()\n",
        "\n",
        "  plt.figure()\n",
        "\n",
        "  plt.plot(epochs, loss, 'bo', label='Training loss')\n",
        "  plt.plot(epochs, val_loss, 'b', label='Validation loss')\n",
        "  plt.title('Training and validation loss')\n",
        "  plt.legend()\n",
        "\n",
        "  plt.show()\n",
        "\n",
        "def run_test(model):\n",
        "  m = load_model(dataset_path + model)\n",
        "  # Ottenere le previsioni del modello per i dati di test\n",
        "  y_pred = m.predict(test_generator)\n",
        "  # Convertire le previsioni in classi (etichette) utilizzando la funzione argmax di NumPy\n",
        "  y_pred_classes = np.argmax(y_pred, axis=1)\n",
        "  # Convertire le etichette reali dei dati di test in un array di interi\n",
        "  y_true = test_generator.classes\n",
        "  return y_true, y_pred_classes\n",
        "\n",
        "def stats(model, history):\n",
        "  m = load_model(dataset_path + model)\n",
        "  train_val_evaluation_plot(history)\n",
        "  y_true, y_pred_classes = run_test(model)\n",
        "  print(\"Classification report: \")\n",
        "  print(metrics.classification_report(y_true,y_pred_classes,digits = 4))\n",
        "  metrics.ConfusionMatrixDisplay.from_predictions(y_true, y_pred_classes)"
      ]
    },
    {
      "attachments": {},
      "cell_type": "markdown",
      "metadata": {
        "id": "-63kjt0dMZoa"
      },
      "source": [
        "Se il modello riesce ad apprendere correttamente, si dovrebbe osservare un andamento decrescente della loss e un andamento crescente dell'accuracy nel training set. Tuttavia, se la rete ha una capacità eccessiva rispetto al problema da risolvere, può incorrere in overfitting: in tal caso si ha un abbassamento della loss e un aumento dell'accuracy sul training set, ma un peggioramento delle performance sulla validation set (ovvero un aumento della validation loss e un abbassamento della validation accuracy)."
      ]
    },
    {
      "cell_type": "code",
      "execution_count": null,
      "metadata": {
        "colab": {
          "base_uri": "https://localhost:8080/",
          "height": 235
        },
        "id": "7_Zc7qC_90Oe",
        "outputId": "f8c31d6e-b71c-43f2-b461-2d2b134a1a40"
      },
      "outputs": [
        {
          "ename": "NameError",
          "evalue": "ignored",
          "output_type": "error",
          "traceback": [
            "\u001b[0;31m---------------------------------------------------------------------------\u001b[0m",
            "\u001b[0;31mNameError\u001b[0m                                 Traceback (most recent call last)",
            "\u001b[0;32m<ipython-input-12-2942a57032c4>\u001b[0m in \u001b[0;36m<cell line: 15>\u001b[0;34m()\u001b[0m\n\u001b[1;32m     13\u001b[0m \u001b[0mn_classes\u001b[0m \u001b[0;34m=\u001b[0m \u001b[0mtest_generator\u001b[0m\u001b[0;34m.\u001b[0m\u001b[0mnum_classes\u001b[0m\u001b[0;34m\u001b[0m\u001b[0;34m\u001b[0m\u001b[0m\n\u001b[1;32m     14\u001b[0m \u001b[0;34m\u001b[0m\u001b[0m\n\u001b[0;32m---> 15\u001b[0;31m \u001b[0my_true_categorical\u001b[0m \u001b[0;34m=\u001b[0m \u001b[0mto_categorical\u001b[0m\u001b[0;34m(\u001b[0m\u001b[0my_true\u001b[0m\u001b[0;34m,\u001b[0m \u001b[0mnum_classes\u001b[0m\u001b[0;34m=\u001b[0m\u001b[0mn_classes\u001b[0m\u001b[0;34m)\u001b[0m\u001b[0;34m\u001b[0m\u001b[0;34m\u001b[0m\u001b[0m\n\u001b[0m\u001b[1;32m     16\u001b[0m \u001b[0;34m\u001b[0m\u001b[0m\n\u001b[1;32m     17\u001b[0m \u001b[0;32mfor\u001b[0m \u001b[0mi\u001b[0m \u001b[0;32min\u001b[0m \u001b[0mrange\u001b[0m\u001b[0;34m(\u001b[0m\u001b[0mn_classes\u001b[0m\u001b[0;34m)\u001b[0m\u001b[0;34m:\u001b[0m\u001b[0;34m\u001b[0m\u001b[0;34m\u001b[0m\u001b[0m\n",
            "\u001b[0;31mNameError\u001b[0m: name 'y_true' is not defined"
          ]
        }
      ],
      "source": [
        "from sklearn.metrics import roc_curve, auc\n",
        "import numpy as np\n",
        "import matplotlib.pyplot as plt\n",
        "from keras.utils import to_categorical\n",
        "from itertools import cycle\n",
        "\n",
        "\n",
        "\n",
        "# Calcolare le curve ROC per ogni classe\n",
        "fpr = dict()\n",
        "tpr = dict()\n",
        "roc_auc = dict()\n",
        "n_classes = test_generator.num_classes\n",
        "\n",
        "y_true_categorical = to_categorical(y_true, num_classes=n_classes)\n",
        "\n",
        "for i in range(n_classes):\n",
        "    fpr[i], tpr[i], _ = roc_curve(y_true_categorical[:, i], y_pred[:, i])\n",
        "    roc_auc[i] = auc(fpr[i], tpr[i])\n",
        "\n",
        "# Calcolare la media delle curve ROC micro e macro\n",
        "fpr[\"micro\"], tpr[\"micro\"], _ = roc_curve(y_true_categorical.ravel(), y_pred.ravel())\n",
        "roc_auc[\"micro\"] = auc(fpr[\"micro\"], tpr[\"micro\"])\n",
        "\n",
        "# Calcolare il valore medio delle AUC macro\n",
        "all_fpr = np.unique(np.concatenate([fpr[i] for i in range(n_classes)]))\n",
        "mean_tpr = np.zeros_like(all_fpr)\n",
        "for i in range(n_classes):\n",
        "    mean_tpr += np.interp(all_fpr, fpr[i], tpr[i])\n",
        "mean_tpr /= n_classes\n",
        "fpr[\"macro\"] = all_fpr\n",
        "tpr[\"macro\"] = mean_tpr\n",
        "roc_auc[\"macro\"] = auc(fpr[\"macro\"], tpr[\"macro\"])\n",
        "\n",
        "# Plot della curva ROC per ogni classe\n",
        "plt.figure()\n",
        "plt.plot(fpr[\"micro\"], tpr[\"micro\"],\n",
        "         label='ROC curve (micro-average) (area = {0:0.2f})'\n",
        "               ''.format(roc_auc[\"micro\"]),\n",
        "         color='deeppink', linestyle=':', linewidth=2)\n",
        "plt.plot(fpr[\"macro\"], tpr[\"macro\"],\n",
        "         label='ROC curve (macro-average) (area = {0:0.2f})'\n",
        "               ''.format(roc_auc[\"macro\"]),\n",
        "         color='navy', linestyle=':', linewidth=2)\n",
        "colors = cycle(['aqua', 'darkorange', 'cornflowerblue', 'green'])\n",
        "for i, color in zip(range(n_classes), colors):\n",
        "    plt.plot(fpr[i], tpr[i], color=color, lw=2,\n",
        "             label='ROC curve of class {0} (area = {1:0.2f})'\n",
        "             ''.format(i, roc_auc[i]))\n",
        "\n",
        "# Plot della linea diagonale (classificatore casuale)\n",
        "plt.plot([0, 1], [0, 1], 'k--', lw=2)\n",
        "\n",
        "# Impostare limiti e etichette del grafico\n",
        "plt.xlim([0.0, 1.0])\n",
        "plt.ylim([0.0, 1.05])\n",
        "plt.xlabel('False Positive Rate')\n",
        "plt.ylabel('True Positive Rate')\n",
        "plt.title('ROC curve')\n",
        "plt.legend(loc='lower right')\n",
        "plt.show()\n"
      ]
    },
    {
      "attachments": {},
      "cell_type": "markdown",
      "metadata": {
        "id": "UvDy2Ww4AB86"
      },
      "source": [
        "FIN QUI FUNZIONA"
      ]
    },
    {
      "attachments": {},
      "cell_type": "markdown",
      "metadata": {
        "id": "m3hYTFyL_nri"
      },
      "source": [
        "## TO DO"
      ]
    },
    {
      "cell_type": "code",
      "execution_count": null,
      "metadata": {
        "id": "WNIAuVUh4226"
      },
      "outputs": [],
      "source": []
    },
    {
      "attachments": {},
      "cell_type": "markdown",
      "metadata": {
        "id": "clIhJFr6_08S"
      },
      "source": [
        "## VERSIONE VECCHIA"
      ]
    },
    {
      "cell_type": "code",
      "execution_count": null,
      "metadata": {
        "id": "71uM-YC-tjdG"
      },
      "outputs": [],
      "source": [
        "from sklearn.metrics import roc_curve, auc, roc_auc_score\n",
        "from itertools import cycle\n",
        "\n",
        "# Compute ROC curve and ROC area for each class\n",
        "fpr = dict()\n",
        "tpr = dict()\n",
        "roc_auc = dict()\n",
        "for i in range(4):\n",
        "    fpr[i], tpr[i], _ = roc_curve(y_test[:, i], y_pred[:, i])\n",
        "    roc_auc[i] = auc(fpr[i], tpr[i])\n",
        "\n",
        "\n",
        "colors = cycle(['aqua', 'darkorange', 'cornflowerblue', 'green'])\n",
        "for i, color in zip(range(4), colors):\n",
        "    plt.plot(\n",
        "        fpr[i],\n",
        "        tpr[i],\n",
        "        color=color,\n",
        "        lw=2,\n",
        "        label='ROC curve of class {0} (area = {1:0.2f})'.format(i, roc_auc[i]),\n",
        "    )\n",
        "\n",
        "plt.plot([0, 1], [0, 1], 'k--', lw=2)\n",
        "plt.xlim([0.0, 1.0])\n",
        "plt.ylim([0.0, 1.05])\n",
        "plt.xlabel('False Positive Rate')\n",
        "plt.ylabel('True Positive Rate')\n",
        "plt.title('Some extension of Receiver operating characteristic to multiclass')\n",
        "plt.legend(loc='lower right')\n",
        "plt.show()\n"
      ]
    },
    {
      "cell_type": "code",
      "execution_count": null,
      "metadata": {
        "id": "l7vFD09vnHXJ"
      },
      "outputs": [],
      "source": [
        "import matplotlib.pyplot as plt\n",
        "from sklearn.metrics import confusion_matrix, ConfusionMatrixDisplay\n",
        "\n",
        "y_pred = np.argmax(y_pred, axis=1)\n",
        "y_test = np.argmax(y_test, axis=1)\n",
        "cm = confusion_matrix(y_test, y_pred)\n",
        "disp = ConfusionMatrixDisplay(confusion_matrix=cm)#, display_labels=['0', '1'])\n",
        "disp.plot()\n",
        "plt.show()\n",
        "\n",
        "# classes = ['glioma_tumor', 'meningioma_tumor', 'no_tumor', 'pituitary_tumor']"
      ]
    },
    {
      "attachments": {},
      "cell_type": "markdown",
      "metadata": {
        "id": "fy5Ew-6HL016"
      },
      "source": [
        "confonde meningioma con il glioma"
      ]
    },
    {
      "attachments": {},
      "cell_type": "markdown",
      "metadata": {
        "id": "C29MLUU_RCy9"
      },
      "source": [
        "# **CNN from scratch**\n",
        "\n",
        "Se stai aggiungendo 3 layer di convoluzione e Max Pooling alla tua CNN, hai alcune opzioni per le dimensioni delle finestre dei layer di Max Pooling. Puoi lasciare le dimensioni fisse a 3x3 per tutti i layer, oppure puoi renderle incrementali, aumentandole passo dopo passo. Entrambi gli approcci hanno i loro pro e contro.\n",
        "\n",
        "Dimensioni fisse a 3x3 per tutti i layer di Max Pooling: Questo approccio mantiene le dimensioni delle finestre di pooling costanti in tutti i layer. Puoi utilizzare una dimensione di 3x3 per tutti e tre i layer di Max Pooling. Questo offre uniformità nell'estrazione delle caratteristiche e riduce il rischio di perdita di informazioni in modo significativo. Tuttavia, potresti incorrere in una riduzione delle dimensioni spaziali più rapida rispetto a un'alternativa incrementale.\n",
        "\n",
        "Dimensioni incrementali delle finestre di Max Pooling: In alternativa, puoi aumentare le dimensioni delle finestre di pooling man mano che procedi attraverso i layer. Ad esempio, potresti utilizzare una finestra 2x2 per il primo layer di Max Pooling, una finestra 3x3 per il secondo e una finestra 4x4 per il terzo. Questo approccio consente di catturare caratteristiche a diverse scale durante la progressione attraverso la rete. Può essere particolarmente utile se hai immagini di grandi dimensioni o se desideri enfatizzare caratteristiche più ampie a livelli superiori della rete.\n",
        "\n",
        "La scelta tra le due opzioni dipende dal tuo problema specifico, dalle dimensioni delle immagini di input, dalla complessità delle caratteristiche che desideri rilevare e dal trade-off tra dimensione dell'output, complessità computazionale e informazioni mantenute.\n",
        "\n",
        "Tuttavia, ricorda che aumentare le dimensioni delle finestre di pooling può portare a una riduzione più rapida delle dimensioni spaziali dell'output e potrebbe comportare una perdita di dettagli più significativa. Pertanto, è consigliabile eseguire esperimenti e valutare le prestazioni del tuo modello per determinare quale approccio funzioni meglio nel contesto del tuo problema specifico."
      ]
    },
    {
      "attachments": {},
      "cell_type": "markdown",
      "metadata": {
        "id": "XJalkXRHVjWV"
      },
      "source": [
        "## Exp 1\n",
        "\n",
        "First CNN model with **one convolutional layer** and **one max pooling layer** at the biginning.\n",
        "\n",
        "Than **one flatten layer** and **one dense layer** with 4 units (one for each class) and softmax activation function."
      ]
    },
    {
      "cell_type": "code",
      "execution_count": 8,
      "metadata": {
        "colab": {
          "base_uri": "https://localhost:8080/"
        },
        "id": "ITbZXXbSVafh",
        "outputId": "08026c99-f28d-4fd4-e5a6-985b6f52b476"
      },
      "outputs": [
        {
          "name": "stdout",
          "output_type": "stream",
          "text": [
            "Model: \"sequential\"\n",
            "_________________________________________________________________\n",
            " Layer (type)                Output Shape              Param #   \n",
            "=================================================================\n",
            " conv2d (Conv2D)             (None, 250, 250, 32)      896       \n",
            "                                                                 \n",
            " max_pooling2d (MaxPooling2D  (None, 125, 125, 32)     0         \n",
            " )                                                               \n",
            "                                                                 \n",
            " flatten (Flatten)           (None, 500000)            0         \n",
            "                                                                 \n",
            " dense (Dense)               (None, 4)                 2000004   \n",
            "                                                                 \n",
            "=================================================================\n",
            "Total params: 2,000,900\n",
            "Trainable params: 2,000,900\n",
            "Non-trainable params: 0\n",
            "_________________________________________________________________\n"
          ]
        }
      ],
      "source": [
        "model = Sequential()\n",
        "model.add(Conv2D(32, (3, 3), activation='relu', padding='same', input_shape=(image_size, image_size, 3)))\n",
        "model.add(MaxPooling2D((2, 2)))\n",
        "model.add(Flatten())\n",
        "model.add(Dense(4, activation='softmax'))\n",
        "\n",
        "compile_model(model)\n",
        "\n",
        "run_model(model, 'cnn_from_scratch_exp1')\n",
        "\n",
        "evaluate_model(model,test_generator)"
      ]
    },
    {
      "attachments": {},
      "cell_type": "markdown",
      "metadata": {
        "id": "XqmB9r1_b8pH"
      },
      "source": [
        "## Exp 2\n",
        "\n",
        "Second CNN model with **three convolutional layers** and **three max pooling layers** at the biginning.\n",
        "\n",
        "Than **one flatten layer** and **one dense layer** with 256 units and softmax activation function.\n",
        "\n",
        "We add a **dropout layer** with 0.5 probability to avoid overfitting.\n",
        "\n",
        "At the end we add a **dense layer** with 4 units (one for each class) and softmax activation function."
      ]
    },
    {
      "cell_type": "code",
      "execution_count": 13,
      "metadata": {
        "colab": {
          "base_uri": "https://localhost:8080/"
        },
        "id": "zI5PEiR-ce8B",
        "outputId": "c9b163e8-7f68-496b-ab57-f318c82ab98c"
      },
      "outputs": [
        {
          "name": "stdout",
          "output_type": "stream",
          "text": [
            "Model: \"sequential_1\"\n",
            "_________________________________________________________________\n",
            " Layer (type)                Output Shape              Param #   \n",
            "=================================================================\n",
            " conv2d_1 (Conv2D)           (None, 250, 250, 32)      896       \n",
            "                                                                 \n",
            " max_pooling2d_1 (MaxPooling  (None, 125, 125, 32)     0         \n",
            " 2D)                                                             \n",
            "                                                                 \n",
            " conv2d_2 (Conv2D)           (None, 125, 125, 64)      18496     \n",
            "                                                                 \n",
            " max_pooling2d_2 (MaxPooling  (None, 41, 41, 64)       0         \n",
            " 2D)                                                             \n",
            "                                                                 \n",
            " conv2d_3 (Conv2D)           (None, 41, 41, 128)       73856     \n",
            "                                                                 \n",
            " max_pooling2d_3 (MaxPooling  (None, 10, 10, 128)      0         \n",
            " 2D)                                                             \n",
            "                                                                 \n",
            " flatten_1 (Flatten)         (None, 12800)             0         \n",
            "                                                                 \n",
            " dense_1 (Dense)             (None, 256)               3277056   \n",
            "                                                                 \n",
            " dropout (Dropout)           (None, 256)               0         \n",
            "                                                                 \n",
            " dense_2 (Dense)             (None, 4)                 1028      \n",
            "                                                                 \n",
            "=================================================================\n",
            "Total params: 3,371,332\n",
            "Trainable params: 3,371,332\n",
            "Non-trainable params: 0\n",
            "_________________________________________________________________\n"
          ]
        }
      ],
      "source": [
        "model = Sequential()\n",
        "model.add(Conv2D(32, (3, 3), activation='relu', padding='same', input_shape=(image_size, image_size, 3)))\n",
        "model.add(MaxPooling2D((2, 2)))\n",
        "model.add(Conv2D(64, (3, 3), activation='relu', padding='same'))\n",
        "model.add(MaxPooling2D((3, 3)))\n",
        "model.add(Conv2D(128, (3, 3), activation='relu', padding='same'))\n",
        "model.add(MaxPooling2D((4, 4)))\n",
        "model.add(Flatten())\n",
        "model.add(Dense(256, activation='relu'))\n",
        "model.add(Dropout(0.5))\n",
        "model.add(Dense(4, activation='softmax'))\n",
        "\n",
        "compile_model(model)\n",
        "\n",
        "run_model(model, 'cnn_from_scratch_exp2')\n",
        "\n",
        "evaluate_model(model,test_generator)"
      ]
    },
    {
      "attachments": {},
      "cell_type": "markdown",
      "metadata": {
        "id": "gnZjWpwwpyOE"
      },
      "source": [
        "## Exp 3\n",
        "\n",
        "Third CNN model with **four convolutional layers** and **four max pooling layers** at the biginning.\n",
        "\n",
        "Each of the max pooling layer have a **different pool size**.\n",
        "\n",
        "Than **one flatten layer** and **one dense layer** with 256 units and softmax activation function.\n",
        "\n",
        "We add a **dropout layer** with 0.5 probability to avoid overfitting.\n",
        "\n",
        "At the end we add a **dense layer** with 4 units (one for each class) and softmax activation function. "
      ]
    },
    {
      "cell_type": "code",
      "execution_count": 18,
      "metadata": {
        "colab": {
          "base_uri": "https://localhost:8080/"
        },
        "id": "_FX17rHCp94N",
        "outputId": "949880ef-c7a5-4e61-998b-3c9e52e0856c"
      },
      "outputs": [
        {
          "name": "stdout",
          "output_type": "stream",
          "text": [
            "Model: \"sequential_2\"\n",
            "_________________________________________________________________\n",
            " Layer (type)                Output Shape              Param #   \n",
            "=================================================================\n",
            " conv2d_4 (Conv2D)           (None, 250, 250, 32)      896       \n",
            "                                                                 \n",
            " max_pooling2d_4 (MaxPooling  (None, 125, 125, 32)     0         \n",
            " 2D)                                                             \n",
            "                                                                 \n",
            " conv2d_5 (Conv2D)           (None, 125, 125, 64)      18496     \n",
            "                                                                 \n",
            " max_pooling2d_5 (MaxPooling  (None, 41, 41, 64)       0         \n",
            " 2D)                                                             \n",
            "                                                                 \n",
            " conv2d_6 (Conv2D)           (None, 41, 41, 128)       73856     \n",
            "                                                                 \n",
            " max_pooling2d_6 (MaxPooling  (None, 10, 10, 128)      0         \n",
            " 2D)                                                             \n",
            "                                                                 \n",
            " conv2d_7 (Conv2D)           (None, 10, 10, 256)       295168    \n",
            "                                                                 \n",
            " max_pooling2d_7 (MaxPooling  (None, 2, 2, 256)        0         \n",
            " 2D)                                                             \n",
            "                                                                 \n",
            " flatten_2 (Flatten)         (None, 1024)              0         \n",
            "                                                                 \n",
            " dense_3 (Dense)             (None, 256)               262400    \n",
            "                                                                 \n",
            " dropout_1 (Dropout)         (None, 256)               0         \n",
            "                                                                 \n",
            " dense_4 (Dense)             (None, 4)                 1028      \n",
            "                                                                 \n",
            "=================================================================\n",
            "Total params: 651,844\n",
            "Trainable params: 651,844\n",
            "Non-trainable params: 0\n",
            "_________________________________________________________________\n"
          ]
        }
      ],
      "source": [
        "model = Sequential()\n",
        "model.add(Conv2D(32, (3, 3), activation='relu', padding='same', input_shape=(image_size, image_size, 3)))\n",
        "model.add(MaxPooling2D((2, 2)))\n",
        "model.add(Conv2D(64, (3, 3), activation='relu', padding='same'))\n",
        "model.add(MaxPooling2D((3, 3)))\n",
        "model.add(Conv2D(128, (3, 3), activation='relu', padding='same'))\n",
        "model.add(MaxPooling2D((4, 4)))\n",
        "model.add(Conv2D(256, (3, 3), activation='relu', padding='same'))\n",
        "model.add(MaxPooling2D((5, 5)))\n",
        "model.add(Flatten())\n",
        "model.add(Dense(256, activation='relu'))\n",
        "model.add(Dropout(0.5))\n",
        "model.add(Dense(4, activation='softmax'))\n",
        "\n",
        "compile_model(model)\n",
        "\n",
        "run_model(model, 'cnn_from_scratch_exp3')\n",
        "\n",
        "evaluate_model(model,test_generator)"
      ]
    },
    {
      "attachments": {},
      "cell_type": "markdown",
      "metadata": {
        "id": "imQ45S3--XL-"
      },
      "source": [
        "##Exp 8\n",
        "\n",
        "Eighth CNN model with four convolutional layers and four max pooling layers at the biginning.\n",
        "\n",
        "Now each of the max pooling layer have a different pool size.\n",
        "\n",
        "Than one flatten layer and one dense layer with 512 units and softmax activation function.\n",
        "\n",
        "We add a dropout layer with 0.5 probability to avoid overfitting.\n",
        "\n",
        "At the end we add a dense layer with 4 units (one for each class) and softmax activation function."
      ]
    },
    {
      "cell_type": "code",
      "execution_count": 23,
      "metadata": {
        "colab": {
          "base_uri": "https://localhost:8080/"
        },
        "id": "AWUt-2Ep-jCX",
        "outputId": "a64028bb-af40-464e-a52c-b7b4f5f1c0e4"
      },
      "outputs": [
        {
          "name": "stdout",
          "output_type": "stream",
          "text": [
            "Model: \"sequential_3\"\n",
            "_________________________________________________________________\n",
            " Layer (type)                Output Shape              Param #   \n",
            "=================================================================\n",
            " conv2d_8 (Conv2D)           (None, 250, 250, 32)      896       \n",
            "                                                                 \n",
            " max_pooling2d_8 (MaxPooling  (None, 125, 125, 32)     0         \n",
            " 2D)                                                             \n",
            "                                                                 \n",
            " conv2d_9 (Conv2D)           (None, 125, 125, 64)      18496     \n",
            "                                                                 \n",
            " max_pooling2d_9 (MaxPooling  (None, 41, 41, 64)       0         \n",
            " 2D)                                                             \n",
            "                                                                 \n",
            " conv2d_10 (Conv2D)          (None, 41, 41, 128)       73856     \n",
            "                                                                 \n",
            " max_pooling2d_10 (MaxPoolin  (None, 10, 10, 128)      0         \n",
            " g2D)                                                            \n",
            "                                                                 \n",
            " conv2d_11 (Conv2D)          (None, 10, 10, 256)       295168    \n",
            "                                                                 \n",
            " max_pooling2d_11 (MaxPoolin  (None, 2, 2, 256)        0         \n",
            " g2D)                                                            \n",
            "                                                                 \n",
            " flatten_3 (Flatten)         (None, 1024)              0         \n",
            "                                                                 \n",
            " dense_5 (Dense)             (None, 512)               524800    \n",
            "                                                                 \n",
            " dropout_2 (Dropout)         (None, 512)               0         \n",
            "                                                                 \n",
            " dense_6 (Dense)             (None, 4)                 2052      \n",
            "                                                                 \n",
            "=================================================================\n",
            "Total params: 915,268\n",
            "Trainable params: 915,268\n",
            "Non-trainable params: 0\n",
            "_________________________________________________________________\n"
          ]
        }
      ],
      "source": [
        "model = Sequential()\n",
        "model.add(Conv2D(32, (3, 3), activation='relu', padding='same', input_shape=(image_size, image_size, 3)))\n",
        "model.add(MaxPooling2D((2, 2)))\n",
        "model.add(Conv2D(64, (3, 3), activation='relu', padding='same'))\n",
        "model.add(MaxPooling2D((3, 3)))\n",
        "model.add(Conv2D(128, (3, 3), activation='relu', padding='same'))\n",
        "model.add(MaxPooling2D((4, 4)))\n",
        "model.add(Conv2D(256, (3, 3), activation='relu', padding='same'))\n",
        "model.add(MaxPooling2D((5, 5)))\n",
        "model.add(Flatten())\n",
        "model.add(Dense(512, activation='relu'))\n",
        "model.add(Dropout(0.5))\n",
        "model.add(Dense(4, activation='softmax'))\n",
        "model.summary()"
      ]
    },
    {
      "cell_type": "code",
      "execution_count": 24,
      "metadata": {
        "id": "KWWtoiSt-nFF"
      },
      "outputs": [],
      "source": [
        "model.compile(loss='categorical_crossentropy', optimizer='adam', metrics=['accuracy'])"
      ]
    },
    {
      "cell_type": "code",
      "execution_count": 25,
      "metadata": {
        "colab": {
          "base_uri": "https://localhost:8080/"
        },
        "id": "B8V9rNSL-oQU",
        "outputId": "162ffccb-0ff8-4b0c-8819-03b7c4df04cd"
      },
      "outputs": [
        {
          "name": "stdout",
          "output_type": "stream",
          "text": [
            "Epoch 1/20\n",
            "142/142 [==============================] - 36s 238ms/step - loss: 1.1596 - accuracy: 0.4697 - val_loss: 0.8826 - val_accuracy: 0.6212 - lr: 0.0010\n",
            "Epoch 2/20\n",
            "142/142 [==============================] - 35s 248ms/step - loss: 0.7838 - accuracy: 0.6909 - val_loss: 0.6178 - val_accuracy: 0.7439 - lr: 0.0010\n",
            "Epoch 3/20\n",
            "142/142 [==============================] - 34s 241ms/step - loss: 0.6234 - accuracy: 0.7611 - val_loss: 0.5528 - val_accuracy: 0.7791 - lr: 0.0010\n",
            "Epoch 4/20\n",
            "142/142 [==============================] - 35s 247ms/step - loss: 0.5098 - accuracy: 0.8100 - val_loss: 0.4706 - val_accuracy: 0.8129 - lr: 0.0010\n",
            "Epoch 5/20\n",
            "142/142 [==============================] - 34s 240ms/step - loss: 0.4201 - accuracy: 0.8354 - val_loss: 0.4603 - val_accuracy: 0.8113 - lr: 0.0010\n",
            "Epoch 6/20\n",
            "142/142 [==============================] - 36s 250ms/step - loss: 0.3347 - accuracy: 0.8686 - val_loss: 0.4567 - val_accuracy: 0.8298 - lr: 0.0010\n",
            "Epoch 7/20\n",
            "142/142 [==============================] - 34s 236ms/step - loss: 0.2822 - accuracy: 0.8881 - val_loss: 0.4032 - val_accuracy: 0.8666 - lr: 0.0010\n",
            "Epoch 8/20\n",
            "142/142 [==============================] - 35s 248ms/step - loss: 0.2014 - accuracy: 0.9239 - val_loss: 0.3761 - val_accuracy: 0.8988 - lr: 0.0010\n",
            "Epoch 9/20\n",
            "142/142 [==============================] - 34s 237ms/step - loss: 0.1538 - accuracy: 0.9445 - val_loss: 0.3508 - val_accuracy: 0.8942 - lr: 0.0010\n",
            "Epoch 10/20\n",
            "142/142 [==============================] - 36s 256ms/step - loss: 0.1526 - accuracy: 0.9482 - val_loss: 0.2877 - val_accuracy: 0.9187 - lr: 0.0010\n",
            "Epoch 11/20\n",
            "142/142 [==============================] - 34s 238ms/step - loss: 0.0961 - accuracy: 0.9631 - val_loss: 0.4026 - val_accuracy: 0.9034 - lr: 0.0010\n",
            "Epoch 12/20\n",
            "142/142 [==============================] - 34s 239ms/step - loss: 0.0793 - accuracy: 0.9726 - val_loss: 0.4321 - val_accuracy: 0.9126 - lr: 0.0010\n",
            "Epoch 13/20\n",
            "142/142 [==============================] - 35s 245ms/step - loss: 0.0466 - accuracy: 0.9830 - val_loss: 0.4625 - val_accuracy: 0.8788 - lr: 0.0010\n",
            "Epoch 14/20\n",
            "142/142 [==============================] - 34s 238ms/step - loss: 0.0775 - accuracy: 0.9728 - val_loss: 0.4070 - val_accuracy: 0.8988 - lr: 0.0010\n",
            "Epoch 15/20\n",
            "142/142 [==============================] - 34s 238ms/step - loss: 0.0846 - accuracy: 0.9739 - val_loss: 0.4427 - val_accuracy: 0.9095 - lr: 0.0010\n",
            "Epoch 16/20\n",
            "142/142 [==============================] - 33s 233ms/step - loss: 0.0165 - accuracy: 0.9965 - val_loss: 0.3950 - val_accuracy: 0.9172 - lr: 1.0000e-04\n",
            "Epoch 17/20\n",
            "142/142 [==============================] - 35s 244ms/step - loss: 0.0073 - accuracy: 0.9993 - val_loss: 0.4045 - val_accuracy: 0.9172 - lr: 1.0000e-04\n",
            "Epoch 18/20\n",
            "142/142 [==============================] - 34s 237ms/step - loss: 0.0057 - accuracy: 0.9996 - val_loss: 0.4144 - val_accuracy: 0.9172 - lr: 1.0000e-04\n",
            "Epoch 19/20\n",
            "142/142 [==============================] - 34s 241ms/step - loss: 0.0059 - accuracy: 0.9987 - val_loss: 0.4248 - val_accuracy: 0.9187 - lr: 1.0000e-04\n",
            "Epoch 20/20\n",
            "142/142 [==============================] - 35s 243ms/step - loss: 0.0044 - accuracy: 0.9989 - val_loss: 0.4286 - val_accuracy: 0.9172 - lr: 1.0000e-04\n"
          ]
        }
      ],
      "source": [
        "reduce_lr = ReduceLROnPlateau(monitor='val_loss', patience=5)\n",
        "checkpoint = ModelCheckpoint(filepath=dataset_path + '/modello_cnn_exp8.h5', monitor='val_loss', save_best_only=True)\n",
        "\n",
        "callbacks_list = [reduce_lr, checkpoint]\n",
        "history = model.fit(train_generator, epochs=20, validation_data=val_generator, callbacks=callbacks_list)"
      ]
    },
    {
      "cell_type": "code",
      "execution_count": 26,
      "metadata": {
        "id": "u4Bjqr7p-tAk"
      },
      "outputs": [],
      "source": [
        "save_history('/history_cnn_exp8.h5',history)"
      ]
    },
    {
      "cell_type": "code",
      "execution_count": 27,
      "metadata": {
        "colab": {
          "base_uri": "https://localhost:8080/",
          "height": 1000
        },
        "id": "-ELe3uPX-w3N",
        "outputId": "c356e65c-451a-4bce-eea8-d1e50023dabb"
      },
      "outputs": [
        {
          "data": {
            "image/png": "[encoded data removed]",
            "text/plain": [
              "<Figure size 640x480 with 1 Axes>"
            ]
          },
          "metadata": {},
          "output_type": "display_data"
        },
        {
          "data": {
            "image/png": "[encoded data removed]",
            "text/plain": [
              "<Figure size 640x480 with 1 Axes>"
            ]
          },
          "metadata": {},
          "output_type": "display_data"
        },
        {
          "name": "stdout",
          "output_type": "stream",
          "text": [
            "21/21 [==============================] - 4s 203ms/step\n",
            "Classification report: \n",
            "              precision    recall  f1-score   support\n",
            "\n",
            "           0     0.8966    0.8432    0.8691       185\n",
            "           1     0.7970    0.8396    0.8177       187\n",
            "           2     0.8440    0.9200    0.8804       100\n",
            "           3     0.9709    0.9278    0.9489       180\n",
            "\n",
            "    accuracy                         0.8773       652\n",
            "   macro avg     0.8771    0.8826    0.8790       652\n",
            "weighted avg     0.8805    0.8773    0.8781       652\n",
            "\n"
          ]
        },
        {
          "data": {
            "image/png": "[encoded data removed]",
            "text/plain": [
              "<Figure size 640x480 with 2 Axes>"
            ]
          },
          "metadata": {},
          "output_type": "display_data"
        }
      ],
      "source": [
        "stats(\"/modello_cnn_exp8.h5\", load_history(dataset_path + '/history_cnn_exp8.h5'))"
      ]
    },
    {
      "attachments": {},
      "cell_type": "markdown",
      "metadata": {
        "id": "VFqP3CBveWEQ"
      },
      "source": [
        "## Exp 9\n",
        "\n",
        "Ninth CNN model with 3 convolutional layers and 3 max pooling layer at the biginning.\n",
        "\n",
        "\n",
        "Now each of the max pooling layer have a different pool size.\n",
        "\n",
        "Than one flatten layer and one dense layer with 512 units and softmax activation function.\n",
        "\n",
        "Than one other dense layer with 256 units and softmax activation function.\n",
        "\n",
        "We add a dropout layer with 0.5 probability to avoid overfitting.\n",
        "\n",
        "At the end we add a dense layer with 4 units (one for each class) and softmax activation function."
      ]
    },
    {
      "cell_type": "code",
      "execution_count": 28,
      "metadata": {
        "colab": {
          "base_uri": "https://localhost:8080/"
        },
        "id": "knbELMDtefHx",
        "outputId": "39400c11-50dc-42ba-b88c-9f03ad120f9d"
      },
      "outputs": [
        {
          "name": "stdout",
          "output_type": "stream",
          "text": [
            "Model: \"sequential_4\"\n",
            "_________________________________________________________________\n",
            " Layer (type)                Output Shape              Param #   \n",
            "=================================================================\n",
            " conv2d_12 (Conv2D)          (None, 250, 250, 32)      896       \n",
            "                                                                 \n",
            " max_pooling2d_12 (MaxPoolin  (None, 125, 125, 32)     0         \n",
            " g2D)                                                            \n",
            "                                                                 \n",
            " conv2d_13 (Conv2D)          (None, 125, 125, 64)      18496     \n",
            "                                                                 \n",
            " max_pooling2d_13 (MaxPoolin  (None, 41, 41, 64)       0         \n",
            " g2D)                                                            \n",
            "                                                                 \n",
            " conv2d_14 (Conv2D)          (None, 41, 41, 128)       73856     \n",
            "                                                                 \n",
            " max_pooling2d_14 (MaxPoolin  (None, 10, 10, 128)      0         \n",
            " g2D)                                                            \n",
            "                                                                 \n",
            " conv2d_15 (Conv2D)          (None, 10, 10, 256)       295168    \n",
            "                                                                 \n",
            " max_pooling2d_15 (MaxPoolin  (None, 2, 2, 256)        0         \n",
            " g2D)                                                            \n",
            "                                                                 \n",
            " flatten_4 (Flatten)         (None, 1024)              0         \n",
            "                                                                 \n",
            " dense_7 (Dense)             (None, 128)               131200    \n",
            "                                                                 \n",
            " dropout_3 (Dropout)         (None, 128)               0         \n",
            "                                                                 \n",
            " dense_8 (Dense)             (None, 256)               33024     \n",
            "                                                                 \n",
            " dropout_4 (Dropout)         (None, 256)               0         \n",
            "                                                                 \n",
            " dense_9 (Dense)             (None, 512)               131584    \n",
            "                                                                 \n",
            " dropout_5 (Dropout)         (None, 512)               0         \n",
            "                                                                 \n",
            " dense_10 (Dense)            (None, 4)                 2052      \n",
            "                                                                 \n",
            "=================================================================\n",
            "Total params: 686,276\n",
            "Trainable params: 686,276\n",
            "Non-trainable params: 0\n",
            "_________________________________________________________________\n"
          ]
        }
      ],
      "source": [
        "model = Sequential()\n",
        "model.add(Conv2D(32, (3, 3), activation='relu', padding='same', input_shape=(image_size, image_size, 3)))\n",
        "model.add(MaxPooling2D((2, 2)))\n",
        "model.add(Conv2D(64, (3, 3), activation='relu', padding='same'))\n",
        "model.add(MaxPooling2D((3, 3)))\n",
        "model.add(Conv2D(128, (3, 3), activation='relu', padding='same'))\n",
        "model.add(MaxPooling2D((4, 4)))\n",
        "model.add(Conv2D(256, (3, 3), activation='relu', padding='same'))\n",
        "model.add(MaxPooling2D((5, 5)))\n",
        "model.add(Flatten())\n",
        "model.add(Dense(128, activation='relu'))\n",
        "model.add(Dropout(0.5))\n",
        "model.add(Dense(256, activation='relu'))\n",
        "model.add(Dropout(0.5))\n",
        "model.add(Dense(512, activation='relu'))\n",
        "model.add(Dropout(0.5))\n",
        "model.add(Dense(4, activation='softmax'))\n",
        "\n",
        "compile_model(model)\n",
        "\n",
        "run_model(model, 'cnn_from_scratch_exp9')\n",
        "\n",
        "evaluate_model(model,test_generator)"
      ]
    },
    {
      "attachments": {},
      "cell_type": "markdown",
      "metadata": {
        "id": "JORPqkMhVW_1"
      },
      "source": [
        "## initial model"
      ]
    },
    {
      "cell_type": "code",
      "execution_count": 33,
      "metadata": {
        "colab": {
          "base_uri": "https://localhost:8080/"
        },
        "id": "cBmiGqlc77AK",
        "outputId": "148320de-9770-4c97-e85d-0077ffe23f98"
      },
      "outputs": [
        {
          "name": "stdout",
          "output_type": "stream",
          "text": [
            "Model: \"sequential_5\"\n",
            "_________________________________________________________________\n",
            " Layer (type)                Output Shape              Param #   \n",
            "=================================================================\n",
            " conv2d_16 (Conv2D)          (None, 250, 250, 32)      896       \n",
            "                                                                 \n",
            " max_pooling2d_16 (MaxPoolin  (None, 125, 125, 32)     0         \n",
            " g2D)                                                            \n",
            "                                                                 \n",
            " conv2d_17 (Conv2D)          (None, 125, 125, 64)      18496     \n",
            "                                                                 \n",
            " max_pooling2d_17 (MaxPoolin  (None, 62, 62, 64)       0         \n",
            " g2D)                                                            \n",
            "                                                                 \n",
            " conv2d_18 (Conv2D)          (None, 62, 62, 128)       73856     \n",
            "                                                                 \n",
            " max_pooling2d_18 (MaxPoolin  (None, 31, 31, 128)      0         \n",
            " g2D)                                                            \n",
            "                                                                 \n",
            " flatten_5 (Flatten)         (None, 123008)            0         \n",
            "                                                                 \n",
            " dense_11 (Dense)            (None, 512)               62980608  \n",
            "                                                                 \n",
            " dropout_6 (Dropout)         (None, 512)               0         \n",
            "                                                                 \n",
            " dense_12 (Dense)            (None, 4)                 2052      \n",
            "                                                                 \n",
            "=================================================================\n",
            "Total params: 63,075,908\n",
            "Trainable params: 63,075,908\n",
            "Non-trainable params: 0\n",
            "_________________________________________________________________\n"
          ]
        }
      ],
      "source": [
        "# Definire un modello sequenziale di Keras\n",
        "model = Sequential()\n",
        "\n",
        "# Aggiungere un layer convoluzionale con 32 filtri, dimensione del kernel di 3x3, funzione di attivazione ReLU e padding \"same\"\n",
        "model.add(Conv2D(32, (3, 3), activation='relu', padding='same', input_shape=(image_size, image_size, 3)))\n",
        "\n",
        "# Aggiungere un layer di max pooling con dimensione 2x2\n",
        "model.add(MaxPooling2D((2, 2)))\n",
        "\n",
        "# Aggiungere un altro layer convoluzionale con 64 filtri, dimensione del kernel di 3x3, funzione di attivazione ReLU e padding \"same\"\n",
        "model.add(Conv2D(64, (3, 3), activation='relu', padding='same'))\n",
        "\n",
        "# Aggiungere un altro layer di max pooling con dimensione 2x2\n",
        "model.add(MaxPooling2D((2, 2)))\n",
        "\n",
        "# Aggiungere un altro layer convoluzionale con 128 filtri, dimensione del kernel di 3x3, funzione di attivazione ReLU e padding \"same\"\n",
        "model.add(Conv2D(128, (3, 3), activation='relu', padding='same'))\n",
        "\n",
        "# Aggiungere un altro layer di max pooling con dimensione 2x2\n",
        "model.add(MaxPooling2D((2, 2)))\n",
        "\n",
        "# Aggiungere un layer di appiattimento per convertire l'output del layer precedente in un vettore unidimensionale\n",
        "model.add(Flatten())\n",
        "\n",
        "# Aggiungere un layer completamente connesso con 512 unità e funzione di attivazione ReLU\n",
        "model.add(Dense(512, activation='relu'))\n",
        "\n",
        "# Aggiungere un layer di dropout con una percentuale di dropout di 0,5\n",
        "model.add(Dropout(0.5))\n",
        "\n",
        "# Aggiungere un altro layer completamente connesso con 4 unità (una per ogni classe) e funzione di attivazione softmax\n",
        "model.add(Dense(4, activation='softmax'))\n",
        "\n",
        "# Stampa il riepilogo del modello\n",
        "model.summary()\n"
      ]
    },
    {
      "cell_type": "code",
      "execution_count": 34,
      "metadata": {
        "id": "u_1FWbFrRri0"
      },
      "outputs": [],
      "source": [
        "# Compilare il modello con la funzione di loss \"categorical_crossentropy\" e l'ottimizzatore \"adam\"\n",
        "model.compile(loss='categorical_crossentropy', optimizer='adam', metrics=['accuracy'])"
      ]
    },
    {
      "cell_type": "code",
      "execution_count": 38,
      "metadata": {
        "colab": {
          "base_uri": "https://localhost:8080/"
        },
        "id": "RVcQ0hrEdUgX",
        "outputId": "95d35b21-172e-4068-a7a8-21580138743b"
      },
      "outputs": [
        {
          "name": "stdout",
          "output_type": "stream",
          "text": [
            "Epoch 1/10\n",
            "142/142 [==============================] - 44s 307ms/step - loss: 0.0180 - accuracy: 0.9938 - val_loss: 0.7070 - val_accuracy: 0.8758 - lr: 1.0000e-04\n",
            "Epoch 2/10\n",
            "142/142 [==============================] - 35s 244ms/step - loss: 0.0124 - accuracy: 0.9967 - val_loss: 0.7661 - val_accuracy: 0.8804 - lr: 1.0000e-04\n",
            "Epoch 3/10\n",
            "142/142 [==============================] - 36s 251ms/step - loss: 0.0125 - accuracy: 0.9958 - val_loss: 0.7617 - val_accuracy: 0.8865 - lr: 1.0000e-04\n",
            "Epoch 4/10\n",
            "142/142 [==============================] - 36s 253ms/step - loss: 0.0107 - accuracy: 0.9969 - val_loss: 0.7605 - val_accuracy: 0.8773 - lr: 1.0000e-04\n",
            "Epoch 5/10\n",
            "142/142 [==============================] - 35s 244ms/step - loss: 0.0078 - accuracy: 0.9987 - val_loss: 0.7844 - val_accuracy: 0.8834 - lr: 1.0000e-04\n",
            "Epoch 6/10\n",
            "142/142 [==============================] - 34s 239ms/step - loss: 0.0078 - accuracy: 0.9982 - val_loss: 0.8274 - val_accuracy: 0.8819 - lr: 1.0000e-04\n",
            "Epoch 7/10\n",
            "142/142 [==============================] - 35s 249ms/step - loss: 0.0089 - accuracy: 0.9973 - val_loss: 0.8213 - val_accuracy: 0.8834 - lr: 1.0000e-05\n",
            "Epoch 8/10\n",
            "142/142 [==============================] - 34s 241ms/step - loss: 0.0056 - accuracy: 0.9991 - val_loss: 0.8215 - val_accuracy: 0.8819 - lr: 1.0000e-05\n",
            "Epoch 9/10\n",
            "142/142 [==============================] - 36s 252ms/step - loss: 0.0070 - accuracy: 0.9976 - val_loss: 0.8193 - val_accuracy: 0.8819 - lr: 1.0000e-05\n",
            "Epoch 10/10\n",
            "142/142 [==============================] - 34s 238ms/step - loss: 0.0057 - accuracy: 0.9987 - val_loss: 0.8230 - val_accuracy: 0.8819 - lr: 1.0000e-05\n"
          ]
        }
      ],
      "source": [
        "from keras.callbacks import ReduceLROnPlateau, ModelCheckpoint\n",
        "\n",
        "# Definire i callbacks da utilizzare durante l'addestramento del modello\n",
        "reduce_lr = ReduceLROnPlateau(monitor='val_loss', patience=5)\n",
        "checkpoint = ModelCheckpoint(filepath=dataset_path + '/modello_cnn.h5', monitor='val_loss', save_best_only=True)\n",
        "\n",
        "# Definire una lista di callbacks\n",
        "callbacks_list = [reduce_lr, checkpoint]\n",
        "\n",
        "# Addestrare il modello usando la lista di callbacks\n",
        "# history = model.fit(X_train, y_train, epochs=10, validation_data=(X_val, y_val), callbacks=callbacks_list)\n",
        "history = model.fit(train_generator, epochs=10, validation_data=val_generator, callbacks=callbacks_list)"
      ]
    },
    {
      "cell_type": "code",
      "execution_count": 39,
      "metadata": {
        "id": "5GMLF2uEBbKq"
      },
      "outputs": [],
      "source": [
        "save_history('/history_cnn.h5',history)"
      ]
    },
    {
      "cell_type": "code",
      "execution_count": 41,
      "metadata": {
        "colab": {
          "base_uri": "https://localhost:8080/",
          "height": 1000
        },
        "id": "GsmcBhOuBdpm",
        "outputId": "a543f7df-af06-4322-dc82-0881845b7cf9"
      },
      "outputs": [
        {
          "data": {
            "image/png": "[encoded data removed]",
            "text/plain": [
              "<Figure size 640x480 with 1 Axes>"
            ]
          },
          "metadata": {},
          "output_type": "display_data"
        },
        {
          "data": {
            "image/png": "[encoded data removed]",
            "text/plain": [
              "<Figure size 640x480 with 1 Axes>"
            ]
          },
          "metadata": {},
          "output_type": "display_data"
        },
        {
          "name": "stdout",
          "output_type": "stream",
          "text": [
            "21/21 [==============================] - 4s 172ms/step\n",
            "Classification report: \n",
            "              precision    recall  f1-score   support\n",
            "\n",
            "           0     0.8743    0.8649    0.8696       185\n",
            "           1     0.8409    0.7914    0.8154       187\n",
            "           2     0.8559    0.9500    0.9005       100\n",
            "           3     0.9505    0.9611    0.9558       180\n",
            "\n",
            "    accuracy                         0.8834       652\n",
            "   macro avg     0.8804    0.8919    0.8853       652\n",
            "weighted avg     0.8829    0.8834    0.8826       652\n",
            "\n"
          ]
        },
        {
          "data": {
            "image/png": "[encoded data removed]",
            "text/plain": [
              "<Figure size 640x480 with 2 Axes>"
            ]
          },
          "metadata": {},
          "output_type": "display_data"
        }
      ],
      "source": [
        "stats(\"/modello_cnn.h5\", load_history(dataset_path + '/history_cnn.h5'))"
      ]
    },
    {
      "attachments": {},
      "cell_type": "markdown",
      "metadata": {
        "id": "c0-lG3ABmxO6"
      },
      "source": [
        "# **Load trained model**"
      ]
    },
    {
      "cell_type": "code",
      "execution_count": null,
      "metadata": {
        "colab": {
          "base_uri": "https://localhost:8080/",
          "height": 165
        },
        "id": "YBkBPIZdnB17",
        "outputId": "74d09451-0080-4d84-e63b-c15013c66343"
      },
      "outputs": [
        {
          "ename": "NameError",
          "evalue": "ignored",
          "output_type": "error",
          "traceback": [
            "\u001b[0;31m---------------------------------------------------------------------------\u001b[0m",
            "\u001b[0;31mNameError\u001b[0m                                 Traceback (most recent call last)",
            "\u001b[0;32m<ipython-input-17-8edeb17464d8>\u001b[0m in \u001b[0;36m<cell line: 1>\u001b[0;34m()\u001b[0m\n\u001b[0;32m----> 1\u001b[0;31m \u001b[0mmodel\u001b[0m \u001b[0;34m=\u001b[0m \u001b[0mload_model\u001b[0m\u001b[0;34m(\u001b[0m\u001b[0mdataset_path\u001b[0m \u001b[0;34m+\u001b[0m \u001b[0;34m'/modello_cnn.h5'\u001b[0m\u001b[0;34m)\u001b[0m\u001b[0;34m\u001b[0m\u001b[0;34m\u001b[0m\u001b[0m\n\u001b[0m",
            "\u001b[0;31mNameError\u001b[0m: name 'load_model' is not defined"
          ]
        }
      ],
      "source": [
        "model = load_model(dataset_path + '/modello_cnn.h5')"
      ]
    }
  ],
  "metadata": {
    "accelerator": "GPU",
    "colab": {
      "authorship_tag": "ABX9TyOM2ScY/ZaPuvAjl7bx+xmU",
      "collapsed_sections": [
        "NDz3ICSorQXo",
        "tLW284JeJS5B",
        "NyGma4rvVH5s",
        "m3hYTFyL_nri",
        "clIhJFr6_08S",
        "XJalkXRHVjWV",
        "XqmB9r1_b8pH",
        "gnZjWpwwpyOE",
        "imQ45S3--XL-",
        "JORPqkMhVW_1",
        "c0-lG3ABmxO6"
      ],
      "gpuType": "T4",
      "include_colab_link": true,
      "provenance": []
    },
    "gpuClass": "standard",
    "kernelspec": {
      "display_name": "Python 3",
      "name": "python3"
    },
    "language_info": {
      "name": "python"
    }
  },
  "nbformat": 4,
  "nbformat_minor": 0
}

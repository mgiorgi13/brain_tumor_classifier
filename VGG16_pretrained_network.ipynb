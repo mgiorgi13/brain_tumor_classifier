{
  "cells": [
    {
      "cell_type": "markdown",
      "metadata": {
        "id": "uEOV_XuJ5YFW"
      },
      "source": [
        "## Import Libraries"
      ]
    },
    {
      "cell_type": "code",
      "execution_count": 1,
      "metadata": {
        "id": "i3cajnYA5YFb"
      },
      "outputs": [],
      "source": [
        "from google.colab import drive\n",
        "import os\n",
        "import shutil\n",
        "import numpy as np\n",
        "import random as rn\n",
        "import tensorflow as tf\n",
        "from tensorflow import keras\n",
        "from tensorflow.keras.utils import image_dataset_from_directory\n",
        "from tensorflow.keras import layers, models, optimizers\n",
        "from tensorflow.keras.models import Sequential\n",
        "from tensorflow.keras.applications import VGG16\n",
        "import matplotlib.pyplot as plt\n",
        "from sklearn import metrics\n",
        "from tensorflow.keras.preprocessing.image import ImageDataGenerator\n",
        "from sklearn.preprocessing import LabelBinarizer\n",
        "\n",
        "from keras.applications import VGG16\n",
        "from keras.models import Sequential ,load_model\n",
        "from keras.layers import Dense, Dropout, Flatten\n"
      ]
    },
    {
      "cell_type": "markdown",
      "metadata": {
        "id": "MIIhAB5I5YHa"
      },
      "source": [
        "## Google Drive connection"
      ]
    },
    {
      "cell_type": "code",
      "execution_count": 2,
      "metadata": {
        "colab": {
          "base_uri": "https://localhost:8080/"
        },
        "id": "JfYIIO4K5YHb",
        "outputId": "3d128e27-769b-4c83-80f9-59d23c597fde"
      },
      "outputs": [
        {
          "output_type": "stream",
          "name": "stdout",
          "text": [
            "Mounted at /content/drive\n"
          ]
        }
      ],
      "source": [
        "# mount drive \n",
        "from google.colab import drive\n",
        "drive.mount('/content/drive', force_remount=True)"
      ]
    },
    {
      "cell_type": "markdown",
      "metadata": {
        "id": "-JERD8JE5YHe"
      },
      "source": [
        "## Utilities"
      ]
    },
    {
      "cell_type": "code",
      "execution_count": 5,
      "metadata": {
        "colab": {
          "base_uri": "https://localhost:8080/"
        },
        "id": "33TGEcCA5YHe",
        "outputId": "db8791d0-d906-4cb4-fbf9-878977dd96a9"
      },
      "outputs": [
        {
          "output_type": "stream",
          "name": "stdout",
          "text": [
            "Found 3920 images belonging to 4 classes.\n",
            "Found 1304 images belonging to 4 classes.\n",
            "Found 1304 images belonging to 4 classes.\n"
          ]
        }
      ],
      "source": [
        "import matplotlib.pyplot as plt\n",
        "import numpy as np\n",
        "\n",
        "from itertools import cycle\n",
        "from sklearn.metrics import confusion_matrix, ConfusionMatrixDisplay,roc_curve, auc, roc_auc_score\n",
        "\n",
        "dataset_path = \"/content/drive/MyDrive/BrainTumorDataset\"\n",
        "\n",
        "# Percorso della cartella \"unified\" che contiene le sottocartelle delle classi\n",
        "base_path = \"/content/drive/MyDrive/BrainTumorDataset/Preprocessed/Unified\"\n",
        "\n",
        "# Definisci i percorsi per il set di test, di validazione e di addestramento\n",
        "test_path = \"/content/drive/MyDrive/BrainTumorDataset/Preprocessed/Test\"\n",
        "val_path = \"/content/drive/MyDrive/BrainTumorDataset/Preprocessed/Validation\"\n",
        "train_path = \"/content/drive/MyDrive/BrainTumorDataset/Preprocessed/Train\"\n",
        "\n",
        "def set_seed ():\n",
        "\t''' \n",
        "\tset_seed is used to obtain reproducible results using keras during the development phase\n",
        "\t'''\n",
        "\tseed = 10\n",
        "\t# The below is necessary for reproducible results of certain Python hash-based operations.\n",
        "\tos.environ[\"PYTHONHASHSEED\"]=\"0\"\n",
        "\t# The below is necessary for starting Numpy generated random numbers in a well-defined initial state.\n",
        "\tnp.random.seed(seed)\n",
        "\t# The below is necessary for starting core Python generated random numbers in a well-defined state.\n",
        "\trn.seed(seed)\n",
        "\t# The below tf.random.set_seed will make x number generation in TensorFlow have a well-defined initial state.\n",
        "\ttf.random.set_seed(seed)     \n",
        "\n",
        "# Definisci le dimensioni delle immagini\n",
        "image_size = 250\n",
        "batch_size = 32\n",
        "\n",
        "# Crea un oggetto ImageDataGenerator per il preprocessing delle immagini\n",
        "data_generator = ImageDataGenerator(rescale=1.0/255.0)\n",
        "\n",
        "# Carica le immagini dal set di addestramento\n",
        "train_generator = data_generator.flow_from_directory(\n",
        "    train_path,\n",
        "    target_size=(image_size, image_size),\n",
        "    batch_size=batch_size,\n",
        "    class_mode='categorical'\n",
        ")\n",
        "\n",
        "# Carica le immagini dal set di test\n",
        "test_generator = data_generator.flow_from_directory(\n",
        "    test_path,\n",
        "    target_size=(image_size, image_size),\n",
        "    batch_size=batch_size,\n",
        "    class_mode='categorical',\n",
        "    shuffle=False\n",
        ")\n",
        "\n",
        "# Carica le immagini dal set di validazione\n",
        "val_generator = data_generator.flow_from_directory(\n",
        "    val_path,\n",
        "    target_size=(image_size, image_size),\n",
        "    batch_size=batch_size,\n",
        "    class_mode='categorical'\n",
        ")\n",
        "     \n",
        "\n",
        "def show_training_and_validation_performance(history):\n",
        "\t'''\n",
        "\tshow_training_and_validation_performance is used to plot the performances during the training phase\n",
        "\t:param history: object in which are recorded all the events\n",
        "\t'''\n",
        "\tacc = history.history['accuracy']\n",
        "\tval_acc = history.history['val_accuracy']\n",
        "\tloss = history.history['loss']\n",
        "\tval_loss = history.history['val_loss']\n",
        "\n",
        "\tepochs = range(len(acc))\n",
        "\n",
        "\tplt.plot(epochs, acc, 'bo', label='Training accuracy')\n",
        "\tplt.plot(epochs, val_acc, 'b', label='Validation accuracy')\n",
        "\tplt.title('Training and validation accuracy')\n",
        "\tplt.legend()\n",
        "\n",
        "\tplt.figure()\n",
        "\n",
        "\tplt.plot(epochs, loss, 'bo', label='Training loss')\n",
        "\tplt.plot(epochs, val_loss, 'b', label='Validation loss')\n",
        "\tplt.title('Training and validation loss')\n",
        "\tplt.legend()\n",
        "\n",
        "\tplt.show()\n",
        "\n",
        "def compile_model (model, optimizer='adam', learning_rate = 0.001):\n",
        "\t'''\n",
        "\tcompile_model is used to compile the current model\n",
        "\t:param model: model to compile\n",
        "\t:param optimizer: optimizer to be used\n",
        "\t:param learning_rate: learning rate parameter for the optimizer\n",
        "\t'''\n",
        "\tif optimizer == 'adam':\n",
        "\t\tmodel.compile(loss=\"categorical_crossentropy\",\n",
        "\t\toptimizer=optimizers.Adam(learning_rate=learning_rate),\n",
        "\t\tmetrics=[\"accuracy\"])\n",
        "\telif optimizer == 'rmsprop':\n",
        "\t\tmodel.compile(loss=\"categorical_crossentropy\",\n",
        "\t\t\t\t\toptimizer = optimizers.RMSprop(learning_rate=learning_rate),\n",
        "\t\t\t\t\tmetrics=['accuracy'])\n",
        "\tmodel.summary()\n",
        "\n",
        "def run_model (model, model_name, epochs = 100, patience=5, monitor='val_loss'):\n",
        "\t'''\n",
        "\trun_model is used to run the current mode\n",
        "\t:param model: model to run\n",
        "\t:param model_name: name given to save the model\n",
        "\t:param epochs: how many epochs to do\n",
        "\t:param patience: patience value for Early Stopping\n",
        "\t:param monitor: what to monitor for Early Stopping and Model Checkpoint\n",
        "\t'''\n",
        "\t# local save path for the models\n",
        "\tsave_path = dataset_path + '/' + model_name + '.h5'\n",
        "\tcallbacks_list = [\n",
        "\t\t\t\t\tkeras.callbacks.EarlyStopping(monitor=monitor, patience=patience),\n",
        "\t\t\t\t\tkeras.callbacks.ModelCheckpoint(\n",
        "\t\t\t\t\t\tfilepath = save_path,\n",
        "\t\t\t\t\t\tmonitor=monitor,\n",
        "\t\t\t\t\t\tverbose=1,\n",
        "\t\t\t\t\t\tsave_best_only=True)\n",
        "\t\t\t\t\t]\n",
        "\thistory = model.fit(train_generator,\n",
        "\t\t\t\t\t\tepochs=epochs,\n",
        "\t\t\t\t\t\tvalidation_data=val_generator,\n",
        "\t\t\t\t\t\tcallbacks=callbacks_list)\n",
        "\t# save on Drive only the best model\n",
        "\tshow_training_and_validation_performance(history)\n",
        "\n",
        "def plot_roc_curve(y_true, y_pred, n_classes, class_labels):\n",
        "\n",
        "    # Converti le etichette di classe in formato binario\n",
        "    lb = LabelBinarizer()\n",
        "    y_true_binary = lb.fit_transform(y_true)\n",
        "\n",
        "    # Calcola i tassi di FPR e TPR per ogni classe\n",
        "    fpr = dict()\n",
        "    tpr = dict()\n",
        "    roc_auc = dict()\n",
        "\n",
        "    for i in range(n_classes):\n",
        "        fpr[i], tpr[i], _ = metrics.roc_curve(y_true_binary[:, i], y_pred[:, i])\n",
        "        roc_auc[i] = metrics.auc(fpr[i], tpr[i])\n",
        "\n",
        "    plt.figure()\n",
        "    colors = ['blue', 'red', 'green', 'orange']  # Colori per le diverse classi\n",
        "\n",
        "    for i, color in zip(range(n_classes), colors):\n",
        "        plt.plot(fpr[i], tpr[i], color=color, label='ROC curve {0} ({1:0.2f}%)'.format(class_labels[i], roc_auc[i]*100))\n",
        "\n",
        "    plt.plot([0, 1], [0, 1], color='navy', linestyle='--')\n",
        "    plt.xlim([0.0, 1.0])\n",
        "    plt.ylim([0.0, 1.0])\n",
        "    plt.xlabel('False Positive Rate')\n",
        "    plt.ylabel('True Positive Rate')\n",
        "    plt.title('ROC curve')\n",
        "    plt.legend(loc=\"lower right\")\n",
        "    plt.show()\n",
        "\n",
        "def evaluate_model (model, test_dataset):\n",
        "\t'''\n",
        "\tevaluate_model is used to plot some statistics about the performance on the test set\n",
        "\t:param model: model to consider\n",
        "\t'''\n",
        "\tlabels_d= ['glioma_tumor', 'meningioma_tumor', 'no_tumor', 'pituitary_tumor']\n",
        "\n",
        "\t# get predictions\n",
        "\ty_score = model.predict(test_generator)\n",
        "\t# convert predictions to classes\n",
        "\ty_pred = np.argmax(y_score, axis=-1)\n",
        "\t# get true classes\n",
        "\ty_true = test_generator.classes\n",
        "\t# extract class labels\n",
        "\tclass_labels = list(test_generator.class_indices.keys())\n",
        "\t\n",
        "\tprint(\"Classification report: \")\n",
        "\tprint(metrics.classification_report(y_true, y_pred, target_names=class_labels,digits = 4))\n",
        "\t# create and show confusion matrix and roc\n",
        "\tmetrics.ConfusionMatrixDisplay.from_predictions(y_true, y_pred,display_labels=class_labels, xticks_rotation='vertical')\n",
        "\tplot_roc_curve(y_true, y_score, 4, class_labels)\n",
        " \n",
        "set_seed()\n"
      ]
    },
    {
      "cell_type": "markdown",
      "metadata": {
        "id": "pZGNlxO15YHh"
      },
      "source": [
        "## Load VGG16"
      ]
    },
    {
      "cell_type": "code",
      "execution_count": 6,
      "metadata": {
        "colab": {
          "base_uri": "https://localhost:8080/"
        },
        "id": "UOWI_A03F-fc",
        "outputId": "60f254b9-656e-4cfe-a41a-508a6732170f"
      },
      "outputs": [
        {
          "output_type": "stream",
          "name": "stdout",
          "text": [
            "Downloading data from https://storage.googleapis.com/tensorflow/keras-applications/vgg16/vgg16_weights_tf_dim_ordering_tf_kernels_notop.h5\n",
            "58889256/58889256 [==============================] - 0s 0us/step\n",
            "Model: \"vgg16\"\n",
            "_________________________________________________________________\n",
            " Layer (type)                Output Shape              Param #   \n",
            "=================================================================\n",
            " input_1 (InputLayer)        [(None, 250, 250, 3)]     0         \n",
            "                                                                 \n",
            " block1_conv1 (Conv2D)       (None, 250, 250, 64)      1792      \n",
            "                                                                 \n",
            " block1_conv2 (Conv2D)       (None, 250, 250, 64)      36928     \n",
            "                                                                 \n",
            " block1_pool (MaxPooling2D)  (None, 125, 125, 64)      0         \n",
            "                                                                 \n",
            " block2_conv1 (Conv2D)       (None, 125, 125, 128)     73856     \n",
            "                                                                 \n",
            " block2_conv2 (Conv2D)       (None, 125, 125, 128)     147584    \n",
            "                                                                 \n",
            " block2_pool (MaxPooling2D)  (None, 62, 62, 128)       0         \n",
            "                                                                 \n",
            " block3_conv1 (Conv2D)       (None, 62, 62, 256)       295168    \n",
            "                                                                 \n",
            " block3_conv2 (Conv2D)       (None, 62, 62, 256)       590080    \n",
            "                                                                 \n",
            " block3_conv3 (Conv2D)       (None, 62, 62, 256)       590080    \n",
            "                                                                 \n",
            " block3_pool (MaxPooling2D)  (None, 31, 31, 256)       0         \n",
            "                                                                 \n",
            " block4_conv1 (Conv2D)       (None, 31, 31, 512)       1180160   \n",
            "                                                                 \n",
            " block4_conv2 (Conv2D)       (None, 31, 31, 512)       2359808   \n",
            "                                                                 \n",
            " block4_conv3 (Conv2D)       (None, 31, 31, 512)       2359808   \n",
            "                                                                 \n",
            " block4_pool (MaxPooling2D)  (None, 15, 15, 512)       0         \n",
            "                                                                 \n",
            " block5_conv1 (Conv2D)       (None, 15, 15, 512)       2359808   \n",
            "                                                                 \n",
            " block5_conv2 (Conv2D)       (None, 15, 15, 512)       2359808   \n",
            "                                                                 \n",
            " block5_conv3 (Conv2D)       (None, 15, 15, 512)       2359808   \n",
            "                                                                 \n",
            " block5_pool (MaxPooling2D)  (None, 7, 7, 512)         0         \n",
            "                                                                 \n",
            "=================================================================\n",
            "Total params: 14,714,688\n",
            "Trainable params: 14,714,688\n",
            "Non-trainable params: 0\n",
            "_________________________________________________________________\n"
          ]
        }
      ],
      "source": [
        "# Carica il modello VGG16 pre-addestrato, senza l'ultimo strato fully connected\n",
        "base_model = VGG16(weights='imagenet', include_top=False, input_shape=(image_size, image_size, 3))\n",
        "base_model.summary()"
      ]
    },
    {
      "cell_type": "markdown",
      "metadata": {
        "id": "04WaIfXZZlbm"
      },
      "source": [
        "## Experiment 1\n",
        "VGG16 + dense layer 256 neuron"
      ]
    },
    {
      "cell_type": "code",
      "execution_count": 7,
      "metadata": {
        "colab": {
          "base_uri": "https://localhost:8080/",
          "height": 1000
        },
        "id": "9de8ei-T5YHh",
        "outputId": "e4b6ace7-23af-4542-d73d-006b6bf68b34"
      },
      "outputs": [
        {
          "output_type": "stream",
          "name": "stdout",
          "text": [
            "Model: \"sequential\"\n",
            "_________________________________________________________________\n",
            " Layer (type)                Output Shape              Param #   \n",
            "=================================================================\n",
            " vgg16 (Functional)          (None, 7, 7, 512)         14714688  \n",
            "                                                                 \n",
            " flatten (Flatten)           (None, 25088)             0         \n",
            "                                                                 \n",
            " dense (Dense)               (None, 256)               6422784   \n",
            "                                                                 \n",
            " dense_1 (Dense)             (None, 4)                 1028      \n",
            "                                                                 \n",
            "=================================================================\n",
            "Total params: 21,138,500\n",
            "Trainable params: 6,423,812\n",
            "Non-trainable params: 14,714,688\n",
            "_________________________________________________________________\n",
            "Epoch 1/100\n",
            "123/123 [==============================] - ETA: 0s - loss: 1.0771 - accuracy: 0.6962\n",
            "Epoch 1: val_loss improved from inf to 0.51494, saving model to /content/drive/MyDrive/BrainTumorDataset/VGG16_256.h5\n",
            "123/123 [==============================] - 880s 7s/step - loss: 1.0771 - accuracy: 0.6962 - val_loss: 0.5149 - val_accuracy: 0.8282\n",
            "Epoch 2/100\n",
            "123/123 [==============================] - ETA: 0s - loss: 0.3350 - accuracy: 0.8778\n",
            "Epoch 2: val_loss improved from 0.51494 to 0.50951, saving model to /content/drive/MyDrive/BrainTumorDataset/VGG16_256.h5\n",
            "123/123 [==============================] - 40s 324ms/step - loss: 0.3350 - accuracy: 0.8778 - val_loss: 0.5095 - val_accuracy: 0.8060\n",
            "Epoch 3/100\n",
            "123/123 [==============================] - ETA: 0s - loss: 0.2925 - accuracy: 0.8946\n",
            "Epoch 3: val_loss did not improve from 0.50951\n",
            "123/123 [==============================] - 38s 311ms/step - loss: 0.2925 - accuracy: 0.8946 - val_loss: 0.5540 - val_accuracy: 0.8098\n",
            "Epoch 4/100\n",
            "123/123 [==============================] - ETA: 0s - loss: 0.1563 - accuracy: 0.9441\n",
            "Epoch 4: val_loss did not improve from 0.50951\n",
            "123/123 [==============================] - 39s 313ms/step - loss: 0.1563 - accuracy: 0.9441 - val_loss: 0.5146 - val_accuracy: 0.8459\n",
            "Epoch 5/100\n",
            "123/123 [==============================] - ETA: 0s - loss: 0.1133 - accuracy: 0.9587\n",
            "Epoch 5: val_loss improved from 0.50951 to 0.50742, saving model to /content/drive/MyDrive/BrainTumorDataset/VGG16_256.h5\n",
            "123/123 [==============================] - 39s 313ms/step - loss: 0.1133 - accuracy: 0.9587 - val_loss: 0.5074 - val_accuracy: 0.8382\n",
            "Epoch 6/100\n",
            "123/123 [==============================] - ETA: 0s - loss: 0.0819 - accuracy: 0.9709\n",
            "Epoch 6: val_loss did not improve from 0.50742\n",
            "123/123 [==============================] - 38s 308ms/step - loss: 0.0819 - accuracy: 0.9709 - val_loss: 0.5474 - val_accuracy: 0.8321\n",
            "Epoch 7/100\n",
            "123/123 [==============================] - ETA: 0s - loss: 0.1003 - accuracy: 0.9592\n",
            "Epoch 7: val_loss improved from 0.50742 to 0.46926, saving model to /content/drive/MyDrive/BrainTumorDataset/VGG16_256.h5\n",
            "123/123 [==============================] - 39s 319ms/step - loss: 0.1003 - accuracy: 0.9592 - val_loss: 0.4693 - val_accuracy: 0.8566\n",
            "Epoch 8/100\n",
            "123/123 [==============================] - ETA: 0s - loss: 0.0349 - accuracy: 0.9890\n",
            "Epoch 8: val_loss improved from 0.46926 to 0.40105, saving model to /content/drive/MyDrive/BrainTumorDataset/VGG16_256.h5\n",
            "123/123 [==============================] - 39s 313ms/step - loss: 0.0349 - accuracy: 0.9890 - val_loss: 0.4011 - val_accuracy: 0.8834\n",
            "Epoch 9/100\n",
            "123/123 [==============================] - ETA: 0s - loss: 0.0252 - accuracy: 0.9926\n",
            "Epoch 9: val_loss did not improve from 0.40105\n",
            "123/123 [==============================] - 37s 302ms/step - loss: 0.0252 - accuracy: 0.9926 - val_loss: 0.4028 - val_accuracy: 0.8827\n",
            "Epoch 10/100\n",
            "123/123 [==============================] - ETA: 0s - loss: 0.0151 - accuracy: 0.9980\n",
            "Epoch 10: val_loss did not improve from 0.40105\n",
            "123/123 [==============================] - 36s 295ms/step - loss: 0.0151 - accuracy: 0.9980 - val_loss: 0.4184 - val_accuracy: 0.8903\n",
            "Epoch 11/100\n",
            "123/123 [==============================] - ETA: 0s - loss: 0.0215 - accuracy: 0.9964\n",
            "Epoch 11: val_loss did not improve from 0.40105\n",
            "123/123 [==============================] - 37s 299ms/step - loss: 0.0215 - accuracy: 0.9964 - val_loss: 0.4241 - val_accuracy: 0.8811\n",
            "Epoch 12/100\n",
            "123/123 [==============================] - ETA: 0s - loss: 0.0138 - accuracy: 0.9982\n",
            "Epoch 12: val_loss did not improve from 0.40105\n",
            "123/123 [==============================] - 38s 311ms/step - loss: 0.0138 - accuracy: 0.9982 - val_loss: 0.4218 - val_accuracy: 0.8796\n",
            "Epoch 13/100\n",
            "123/123 [==============================] - ETA: 0s - loss: 0.0131 - accuracy: 0.9982\n",
            "Epoch 13: val_loss did not improve from 0.40105\n",
            "123/123 [==============================] - 37s 299ms/step - loss: 0.0131 - accuracy: 0.9982 - val_loss: 0.4335 - val_accuracy: 0.8834\n"
          ]
        },
        {
          "output_type": "display_data",
          "data": {
            "text/plain": [
              "<Figure size 640x480 with 1 Axes>"
            ],
            "image/png": "[encoded data removed]"
          },
          "metadata": {}
        },
        {
          "output_type": "display_data",
          "data": {
            "text/plain": [
              "<Figure size 640x480 with 1 Axes>"
            ],
            "image/png": "[encoded data removed]"
          },
          "metadata": {}
        }
      ],
      "source": [
        "# Aggiungi un nuovo strato fully connected all'ultimo layer di VGG16\n",
        "model = Sequential()\n",
        "model.add(base_model)\n",
        "model.add(Flatten())\n",
        "model.add(Dense(256, activation='relu'))\n",
        "model.add(Dense(4, activation='softmax')) #4 classi di output\n",
        "\n",
        "# Congela i pesi del modello base, così da mantenere l'informazione appresa\n",
        "for layer in base_model.layers:\n",
        "    layer.trainable = False\n",
        "\n",
        "# Compila il modello\n",
        "compile_model(model)\n",
        "\n",
        "# Addestra il modello\n",
        "run_model(model,\"VGG16_256\")"
      ]
    },
    {
      "cell_type": "code",
      "execution_count": 8,
      "metadata": {
        "colab": {
          "base_uri": "https://localhost:8080/",
          "height": 363
        },
        "id": "pgyQ-_tfwRpI",
        "outputId": "e66b6b80-f76d-4e83-8d64-fb083e534136"
      },
      "outputs": [
        {
          "output_type": "stream",
          "name": "stdout",
          "text": [
            "25/41 [=================>............] - ETA: 1:47"
          ]
        },
        {
          "output_type": "error",
          "ename": "KeyboardInterrupt",
          "evalue": "ignored",
          "traceback": [
            "\u001b[0;31m---------------------------------------------------------------------------\u001b[0m",
            "\u001b[0;31mKeyboardInterrupt\u001b[0m                         Traceback (most recent call last)",
            "\u001b[0;32m<ipython-input-8-c22db73d6f3c>\u001b[0m in \u001b[0;36m<cell line: 3>\u001b[0;34m()\u001b[0m\n\u001b[1;32m      1\u001b[0m \u001b[0mmodel\u001b[0m \u001b[0;34m=\u001b[0m \u001b[0mload_model\u001b[0m\u001b[0;34m(\u001b[0m\u001b[0mdataset_path\u001b[0m \u001b[0;34m+\u001b[0m \u001b[0;34m\"/VGG16_256.h5\"\u001b[0m\u001b[0;34m)\u001b[0m\u001b[0;34m\u001b[0m\u001b[0;34m\u001b[0m\u001b[0m\n\u001b[1;32m      2\u001b[0m \u001b[0;31m# Valuta il modello\u001b[0m\u001b[0;34m\u001b[0m\u001b[0;34m\u001b[0m\u001b[0m\n\u001b[0;32m----> 3\u001b[0;31m \u001b[0mevaluate_model\u001b[0m\u001b[0;34m(\u001b[0m\u001b[0mmodel\u001b[0m\u001b[0;34m,\u001b[0m\u001b[0mtest_generator\u001b[0m\u001b[0;34m)\u001b[0m\u001b[0;34m\u001b[0m\u001b[0;34m\u001b[0m\u001b[0m\n\u001b[0m",
            "\u001b[0;32m<ipython-input-5-e50f7774539a>\u001b[0m in \u001b[0;36mevaluate_model\u001b[0;34m(model, test_dataset)\u001b[0m\n\u001b[1;32m    169\u001b[0m \u001b[0;34m\u001b[0m\u001b[0m\n\u001b[1;32m    170\u001b[0m         \u001b[0;31m# get predictions\u001b[0m\u001b[0;34m\u001b[0m\u001b[0;34m\u001b[0m\u001b[0m\n\u001b[0;32m--> 171\u001b[0;31m         \u001b[0my_score\u001b[0m \u001b[0;34m=\u001b[0m \u001b[0mmodel\u001b[0m\u001b[0;34m.\u001b[0m\u001b[0mpredict\u001b[0m\u001b[0;34m(\u001b[0m\u001b[0mtest_generator\u001b[0m\u001b[0;34m)\u001b[0m\u001b[0;34m\u001b[0m\u001b[0;34m\u001b[0m\u001b[0m\n\u001b[0m\u001b[1;32m    172\u001b[0m         \u001b[0;31m# convert predictions to classes\u001b[0m\u001b[0;34m\u001b[0m\u001b[0;34m\u001b[0m\u001b[0m\n\u001b[1;32m    173\u001b[0m         \u001b[0my_pred\u001b[0m \u001b[0;34m=\u001b[0m \u001b[0mnp\u001b[0m\u001b[0;34m.\u001b[0m\u001b[0margmax\u001b[0m\u001b[0;34m(\u001b[0m\u001b[0my_score\u001b[0m\u001b[0;34m,\u001b[0m \u001b[0maxis\u001b[0m\u001b[0;34m=\u001b[0m\u001b[0;34m-\u001b[0m\u001b[0;36m1\u001b[0m\u001b[0;34m)\u001b[0m\u001b[0;34m\u001b[0m\u001b[0;34m\u001b[0m\u001b[0m\n",
            "\u001b[0;32m/usr/local/lib/python3.10/dist-packages/keras/utils/traceback_utils.py\u001b[0m in \u001b[0;36merror_handler\u001b[0;34m(*args, **kwargs)\u001b[0m\n\u001b[1;32m     63\u001b[0m         \u001b[0mfiltered_tb\u001b[0m \u001b[0;34m=\u001b[0m \u001b[0;32mNone\u001b[0m\u001b[0;34m\u001b[0m\u001b[0;34m\u001b[0m\u001b[0m\n\u001b[1;32m     64\u001b[0m         \u001b[0;32mtry\u001b[0m\u001b[0;34m:\u001b[0m\u001b[0;34m\u001b[0m\u001b[0;34m\u001b[0m\u001b[0m\n\u001b[0;32m---> 65\u001b[0;31m             \u001b[0;32mreturn\u001b[0m \u001b[0mfn\u001b[0m\u001b[0;34m(\u001b[0m\u001b[0;34m*\u001b[0m\u001b[0margs\u001b[0m\u001b[0;34m,\u001b[0m \u001b[0;34m**\u001b[0m\u001b[0mkwargs\u001b[0m\u001b[0;34m)\u001b[0m\u001b[0;34m\u001b[0m\u001b[0;34m\u001b[0m\u001b[0m\n\u001b[0m\u001b[1;32m     66\u001b[0m         \u001b[0;32mexcept\u001b[0m \u001b[0mException\u001b[0m \u001b[0;32mas\u001b[0m \u001b[0me\u001b[0m\u001b[0;34m:\u001b[0m\u001b[0;34m\u001b[0m\u001b[0;34m\u001b[0m\u001b[0m\n\u001b[1;32m     67\u001b[0m             \u001b[0mfiltered_tb\u001b[0m \u001b[0;34m=\u001b[0m \u001b[0m_process_traceback_frames\u001b[0m\u001b[0;34m(\u001b[0m\u001b[0me\u001b[0m\u001b[0;34m.\u001b[0m\u001b[0m__traceback__\u001b[0m\u001b[0;34m)\u001b[0m\u001b[0;34m\u001b[0m\u001b[0;34m\u001b[0m\u001b[0m\n",
            "\u001b[0;32m/usr/local/lib/python3.10/dist-packages/keras/engine/training.py\u001b[0m in \u001b[0;36mpredict\u001b[0;34m(self, x, batch_size, verbose, steps, callbacks, max_queue_size, workers, use_multiprocessing)\u001b[0m\n\u001b[1;32m   2380\u001b[0m                     \u001b[0;32mfor\u001b[0m \u001b[0mstep\u001b[0m \u001b[0;32min\u001b[0m \u001b[0mdata_handler\u001b[0m\u001b[0;34m.\u001b[0m\u001b[0msteps\u001b[0m\u001b[0;34m(\u001b[0m\u001b[0;34m)\u001b[0m\u001b[0;34m:\u001b[0m\u001b[0;34m\u001b[0m\u001b[0;34m\u001b[0m\u001b[0m\n\u001b[1;32m   2381\u001b[0m                         \u001b[0mcallbacks\u001b[0m\u001b[0;34m.\u001b[0m\u001b[0mon_predict_batch_begin\u001b[0m\u001b[0;34m(\u001b[0m\u001b[0mstep\u001b[0m\u001b[0;34m)\u001b[0m\u001b[0;34m\u001b[0m\u001b[0;34m\u001b[0m\u001b[0m\n\u001b[0;32m-> 2382\u001b[0;31m                         \u001b[0mtmp_batch_outputs\u001b[0m \u001b[0;34m=\u001b[0m \u001b[0mself\u001b[0m\u001b[0;34m.\u001b[0m\u001b[0mpredict_function\u001b[0m\u001b[0;34m(\u001b[0m\u001b[0miterator\u001b[0m\u001b[0;34m)\u001b[0m\u001b[0;34m\u001b[0m\u001b[0;34m\u001b[0m\u001b[0m\n\u001b[0m\u001b[1;32m   2383\u001b[0m                         \u001b[0;32mif\u001b[0m \u001b[0mdata_handler\u001b[0m\u001b[0;34m.\u001b[0m\u001b[0mshould_sync\u001b[0m\u001b[0;34m:\u001b[0m\u001b[0;34m\u001b[0m\u001b[0;34m\u001b[0m\u001b[0m\n\u001b[1;32m   2384\u001b[0m                             \u001b[0mcontext\u001b[0m\u001b[0;34m.\u001b[0m\u001b[0masync_wait\u001b[0m\u001b[0;34m(\u001b[0m\u001b[0;34m)\u001b[0m\u001b[0;34m\u001b[0m\u001b[0;34m\u001b[0m\u001b[0m\n",
            "\u001b[0;32m/usr/local/lib/python3.10/dist-packages/tensorflow/python/util/traceback_utils.py\u001b[0m in \u001b[0;36merror_handler\u001b[0;34m(*args, **kwargs)\u001b[0m\n\u001b[1;32m    148\u001b[0m     \u001b[0mfiltered_tb\u001b[0m \u001b[0;34m=\u001b[0m \u001b[0;32mNone\u001b[0m\u001b[0;34m\u001b[0m\u001b[0;34m\u001b[0m\u001b[0m\n\u001b[1;32m    149\u001b[0m     \u001b[0;32mtry\u001b[0m\u001b[0;34m:\u001b[0m\u001b[0;34m\u001b[0m\u001b[0;34m\u001b[0m\u001b[0m\n\u001b[0;32m--> 150\u001b[0;31m       \u001b[0;32mreturn\u001b[0m \u001b[0mfn\u001b[0m\u001b[0;34m(\u001b[0m\u001b[0;34m*\u001b[0m\u001b[0margs\u001b[0m\u001b[0;34m,\u001b[0m \u001b[0;34m**\u001b[0m\u001b[0mkwargs\u001b[0m\u001b[0;34m)\u001b[0m\u001b[0;34m\u001b[0m\u001b[0;34m\u001b[0m\u001b[0m\n\u001b[0m\u001b[1;32m    151\u001b[0m     \u001b[0;32mexcept\u001b[0m \u001b[0mException\u001b[0m \u001b[0;32mas\u001b[0m \u001b[0me\u001b[0m\u001b[0;34m:\u001b[0m\u001b[0;34m\u001b[0m\u001b[0;34m\u001b[0m\u001b[0m\n\u001b[1;32m    152\u001b[0m       \u001b[0mfiltered_tb\u001b[0m \u001b[0;34m=\u001b[0m \u001b[0m_process_traceback_frames\u001b[0m\u001b[0;34m(\u001b[0m\u001b[0me\u001b[0m\u001b[0;34m.\u001b[0m\u001b[0m__traceback__\u001b[0m\u001b[0;34m)\u001b[0m\u001b[0;34m\u001b[0m\u001b[0;34m\u001b[0m\u001b[0m\n",
            "\u001b[0;32m/usr/local/lib/python3.10/dist-packages/tensorflow/python/eager/polymorphic_function/polymorphic_function.py\u001b[0m in \u001b[0;36m__call__\u001b[0;34m(self, *args, **kwds)\u001b[0m\n\u001b[1;32m    892\u001b[0m \u001b[0;34m\u001b[0m\u001b[0m\n\u001b[1;32m    893\u001b[0m       \u001b[0;32mwith\u001b[0m \u001b[0mOptionalXlaContext\u001b[0m\u001b[0;34m(\u001b[0m\u001b[0mself\u001b[0m\u001b[0;34m.\u001b[0m\u001b[0m_jit_compile\u001b[0m\u001b[0;34m)\u001b[0m\u001b[0;34m:\u001b[0m\u001b[0;34m\u001b[0m\u001b[0;34m\u001b[0m\u001b[0m\n\u001b[0;32m--> 894\u001b[0;31m         \u001b[0mresult\u001b[0m \u001b[0;34m=\u001b[0m \u001b[0mself\u001b[0m\u001b[0;34m.\u001b[0m\u001b[0m_call\u001b[0m\u001b[0;34m(\u001b[0m\u001b[0;34m*\u001b[0m\u001b[0margs\u001b[0m\u001b[0;34m,\u001b[0m \u001b[0;34m**\u001b[0m\u001b[0mkwds\u001b[0m\u001b[0;34m)\u001b[0m\u001b[0;34m\u001b[0m\u001b[0;34m\u001b[0m\u001b[0m\n\u001b[0m\u001b[1;32m    895\u001b[0m \u001b[0;34m\u001b[0m\u001b[0m\n\u001b[1;32m    896\u001b[0m       \u001b[0mnew_tracing_count\u001b[0m \u001b[0;34m=\u001b[0m \u001b[0mself\u001b[0m\u001b[0;34m.\u001b[0m\u001b[0mexperimental_get_tracing_count\u001b[0m\u001b[0;34m(\u001b[0m\u001b[0;34m)\u001b[0m\u001b[0;34m\u001b[0m\u001b[0;34m\u001b[0m\u001b[0m\n",
            "\u001b[0;32m/usr/local/lib/python3.10/dist-packages/tensorflow/python/eager/polymorphic_function/polymorphic_function.py\u001b[0m in \u001b[0;36m_call\u001b[0;34m(self, *args, **kwds)\u001b[0m\n\u001b[1;32m    931\u001b[0m       \u001b[0;31m# In this case we have not created variables on the first call. So we can\u001b[0m\u001b[0;34m\u001b[0m\u001b[0;34m\u001b[0m\u001b[0m\n\u001b[1;32m    932\u001b[0m       \u001b[0;31m# run the first trace but we should fail if variables are created.\u001b[0m\u001b[0;34m\u001b[0m\u001b[0;34m\u001b[0m\u001b[0m\n\u001b[0;32m--> 933\u001b[0;31m       \u001b[0mresults\u001b[0m \u001b[0;34m=\u001b[0m \u001b[0mself\u001b[0m\u001b[0;34m.\u001b[0m\u001b[0m_variable_creation_fn\u001b[0m\u001b[0;34m(\u001b[0m\u001b[0;34m*\u001b[0m\u001b[0margs\u001b[0m\u001b[0;34m,\u001b[0m \u001b[0;34m**\u001b[0m\u001b[0mkwds\u001b[0m\u001b[0;34m)\u001b[0m\u001b[0;34m\u001b[0m\u001b[0;34m\u001b[0m\u001b[0m\n\u001b[0m\u001b[1;32m    934\u001b[0m       \u001b[0;32mif\u001b[0m \u001b[0mself\u001b[0m\u001b[0;34m.\u001b[0m\u001b[0m_created_variables\u001b[0m \u001b[0;32mand\u001b[0m \u001b[0;32mnot\u001b[0m \u001b[0mALLOW_DYNAMIC_VARIABLE_CREATION\u001b[0m\u001b[0;34m:\u001b[0m\u001b[0;34m\u001b[0m\u001b[0;34m\u001b[0m\u001b[0m\n\u001b[1;32m    935\u001b[0m         raise ValueError(\"Creating variables on a non-first call to a function\"\n",
            "\u001b[0;32m/usr/local/lib/python3.10/dist-packages/tensorflow/python/eager/polymorphic_function/tracing_compiler.py\u001b[0m in \u001b[0;36m__call__\u001b[0;34m(self, *args, **kwargs)\u001b[0m\n\u001b[1;32m    141\u001b[0m       (concrete_function,\n\u001b[1;32m    142\u001b[0m        filtered_flat_args) = self._maybe_define_function(args, kwargs)\n\u001b[0;32m--> 143\u001b[0;31m     return concrete_function._call_flat(\n\u001b[0m\u001b[1;32m    144\u001b[0m         filtered_flat_args, captured_inputs=concrete_function.captured_inputs)  # pylint: disable=protected-access\n\u001b[1;32m    145\u001b[0m \u001b[0;34m\u001b[0m\u001b[0m\n",
            "\u001b[0;32m/usr/local/lib/python3.10/dist-packages/tensorflow/python/eager/polymorphic_function/monomorphic_function.py\u001b[0m in \u001b[0;36m_call_flat\u001b[0;34m(self, args, captured_inputs, cancellation_manager)\u001b[0m\n\u001b[1;32m   1755\u001b[0m         and executing_eagerly):\n\u001b[1;32m   1756\u001b[0m       \u001b[0;31m# No tape is watching; skip to running the function.\u001b[0m\u001b[0;34m\u001b[0m\u001b[0;34m\u001b[0m\u001b[0m\n\u001b[0;32m-> 1757\u001b[0;31m       return self._build_call_outputs(self._inference_function.call(\n\u001b[0m\u001b[1;32m   1758\u001b[0m           ctx, args, cancellation_manager=cancellation_manager))\n\u001b[1;32m   1759\u001b[0m     forward_backward = self._select_forward_and_backward_functions(\n",
            "\u001b[0;32m/usr/local/lib/python3.10/dist-packages/tensorflow/python/eager/polymorphic_function/monomorphic_function.py\u001b[0m in \u001b[0;36mcall\u001b[0;34m(self, ctx, args, cancellation_manager)\u001b[0m\n\u001b[1;32m    379\u001b[0m       \u001b[0;32mwith\u001b[0m \u001b[0m_InterpolateFunctionError\u001b[0m\u001b[0;34m(\u001b[0m\u001b[0mself\u001b[0m\u001b[0;34m)\u001b[0m\u001b[0;34m:\u001b[0m\u001b[0;34m\u001b[0m\u001b[0;34m\u001b[0m\u001b[0m\n\u001b[1;32m    380\u001b[0m         \u001b[0;32mif\u001b[0m \u001b[0mcancellation_manager\u001b[0m \u001b[0;32mis\u001b[0m \u001b[0;32mNone\u001b[0m\u001b[0;34m:\u001b[0m\u001b[0;34m\u001b[0m\u001b[0;34m\u001b[0m\u001b[0m\n\u001b[0;32m--> 381\u001b[0;31m           outputs = execute.execute(\n\u001b[0m\u001b[1;32m    382\u001b[0m               \u001b[0mstr\u001b[0m\u001b[0;34m(\u001b[0m\u001b[0mself\u001b[0m\u001b[0;34m.\u001b[0m\u001b[0msignature\u001b[0m\u001b[0;34m.\u001b[0m\u001b[0mname\u001b[0m\u001b[0;34m)\u001b[0m\u001b[0;34m,\u001b[0m\u001b[0;34m\u001b[0m\u001b[0;34m\u001b[0m\u001b[0m\n\u001b[1;32m    383\u001b[0m               \u001b[0mnum_outputs\u001b[0m\u001b[0;34m=\u001b[0m\u001b[0mself\u001b[0m\u001b[0;34m.\u001b[0m\u001b[0m_num_outputs\u001b[0m\u001b[0;34m,\u001b[0m\u001b[0;34m\u001b[0m\u001b[0;34m\u001b[0m\u001b[0m\n",
            "\u001b[0;32m/usr/local/lib/python3.10/dist-packages/tensorflow/python/eager/execute.py\u001b[0m in \u001b[0;36mquick_execute\u001b[0;34m(op_name, num_outputs, inputs, attrs, ctx, name)\u001b[0m\n\u001b[1;32m     50\u001b[0m   \u001b[0;32mtry\u001b[0m\u001b[0;34m:\u001b[0m\u001b[0;34m\u001b[0m\u001b[0;34m\u001b[0m\u001b[0m\n\u001b[1;32m     51\u001b[0m     \u001b[0mctx\u001b[0m\u001b[0;34m.\u001b[0m\u001b[0mensure_initialized\u001b[0m\u001b[0;34m(\u001b[0m\u001b[0;34m)\u001b[0m\u001b[0;34m\u001b[0m\u001b[0;34m\u001b[0m\u001b[0m\n\u001b[0;32m---> 52\u001b[0;31m     tensors = pywrap_tfe.TFE_Py_Execute(ctx._handle, device_name, op_name,\n\u001b[0m\u001b[1;32m     53\u001b[0m                                         inputs, attrs, num_outputs)\n\u001b[1;32m     54\u001b[0m   \u001b[0;32mexcept\u001b[0m \u001b[0mcore\u001b[0m\u001b[0;34m.\u001b[0m\u001b[0m_NotOkStatusException\u001b[0m \u001b[0;32mas\u001b[0m \u001b[0me\u001b[0m\u001b[0;34m:\u001b[0m\u001b[0;34m\u001b[0m\u001b[0;34m\u001b[0m\u001b[0m\n",
            "\u001b[0;31mKeyboardInterrupt\u001b[0m: "
          ]
        }
      ],
      "source": [
        "model = load_model(dataset_path + \"/VGG16_256.h5\")\n",
        "# Valuta il modello\n",
        "evaluate_model(model,test_generator)"
      ]
    },
    {
      "cell_type": "markdown",
      "metadata": {
        "id": "C9MxexG1Zlbn"
      },
      "source": [
        "## Experiment 1\n",
        "VGG16 + dense layer 512 neuron"
      ]
    },
    {
      "cell_type": "code",
      "execution_count": null,
      "metadata": {
        "id": "9v_pmPdGFuNX"
      },
      "outputs": [],
      "source": [
        "# Aggiungi un nuovo strato fully connected all'ultimo layer di VGG16\n",
        "model = Sequential()\n",
        "model.add(base_model)\n",
        "model.add(Flatten())\n",
        "model.add(Dense(512, activation='relu'))\n",
        "model.add(Dense(4, activation='softmax')) #4 classi di output\n",
        "\n",
        "# Congela i pesi del modello base, così da mantenere l'informazione appresa\n",
        "for layer in base_model.layers:\n",
        "    layer.trainable = False\n",
        "\n",
        "# Compila il modello\n",
        "compile_model(model)\n",
        "\n",
        "# Addestra il modello\n",
        "run_model(model,\"VGG16_512\")\n",
        "\n",
        "# Evaluate model\n",
        "evaluate_model(model,test_generator)"
      ]
    },
    {
      "cell_type": "code",
      "execution_count": null,
      "metadata": {
        "id": "wc1KA2AWFuNY"
      },
      "outputs": [],
      "source": [
        "# unfreeze first block of base_model to make fine tuning"
      ]
    }
  ],
  "metadata": {
    "colab": {
      "gpuType": "T4",
      "provenance": []
    },
    "gpuClass": "standard",
    "kernelspec": {
      "display_name": "Python 3",
      "name": "python3"
    },
    "language_info": {
      "name": "python"
    },
    "orig_nbformat": 4,
    "accelerator": "GPU"
  },
  "nbformat": 4,
  "nbformat_minor": 0
}